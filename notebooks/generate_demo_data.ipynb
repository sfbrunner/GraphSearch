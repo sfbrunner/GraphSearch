{
 "cells": [
  {
   "cell_type": "markdown",
   "metadata": {},
   "source": [
    "# Generate demo data\n",
    "The point of this notebook is to test and implement the generation of demo data. The data will be used to serve a real-world search query to the frontend in development environments that are disconnected from the Mongo server."
   ]
  },
  {
   "cell_type": "markdown",
   "metadata": {},
   "source": [
    "## Generation of demo data"
   ]
  },
  {
   "cell_type": "code",
   "execution_count": 1,
   "metadata": {},
   "outputs": [
    {
     "name": "stderr",
     "output_type": "stream",
     "text": [
      "05/13/2018 01:59:45 PM [INFO]: RequestFullTextSearch: Creating request\n",
      "05/13/2018 01:59:45 PM [INFO]: ConnectEutils: Connecting to eutils API:\n",
      " https://eutils.ncbi.nlm.nih.gov/entrez/eutils/esearch.fcgi?db=pmc&tool=graphsearch&sort=relevance&term=campbell+cancer+leukemia&retmax=200\n",
      "05/13/2018 01:59:46 PM [INFO]: MongoSession: Mongo db connection successful\n",
      "05/13/2018 01:59:47 PM [INFO]: MongoSession: Mongo db connection successful\n"
     ]
    }
   ],
   "source": [
    "import sys\n",
    "sys.path.append('../backend/lib')\n",
    "sys.path.append('../backend')\n",
    "from GraphSession import GraphSession\n",
    "from ResultGraph import ResultGraph\n",
    "from networkx import generate_gml\n",
    "import networkx as nx\n",
    "\n",
    "search_input = \"campbell cancer leukemia\" #\"nlp genomics\"\n",
    "graphsession = GraphSession(search_input)\n",
    "citations = graphsession.get_citations_from_fulltext_mongo(search_input, retmax=200)\n",
    "resultGraph = ResultGraph()\n",
    "resultGraph.populate_from_cite_dict(citations)\n",
    "        \n",
    "resultGraph.extract_by_connectivity(connectivity=1)\n",
    "resultGraph.extract_by_connectivity(connectivity=0)\n",
    "        \n",
    "# Query metadata\n",
    "metadataList = graphsession.get_metadataList_from_mongo(resultGraph.nodeIds)\n",
    "resultGraph.add_metadata_to_graph(metadataList)\n"
   ]
  },
  {
   "cell_type": "code",
   "execution_count": 2,
   "metadata": {
    "collapsed": true
   },
   "outputs": [],
   "source": [
    "from networkx.readwrite import json_graph\n",
    "import json\n",
    "\n",
    "data = json_graph.node_link_data(resultGraph.G)\n",
    "json.dump(data,open('output/demo_network.json','w'),indent=2)"
   ]
  },
  {
   "cell_type": "markdown",
   "metadata": {},
   "source": [
    "### Try reimporting"
   ]
  },
  {
   "cell_type": "code",
   "execution_count": 9,
   "metadata": {},
   "outputs": [
    {
     "data": {
      "text/plain": [
       "<networkx.classes.graph.Graph at 0x15138610d0>"
      ]
     },
     "execution_count": 9,
     "metadata": {},
     "output_type": "execute_result"
    }
   ],
   "source": [
    "from networkx.readwrite import json_graph\n",
    "import json\n",
    "\n",
    "def read_json_file(filename):\n",
    "    with open(filename) as f:\n",
    "        js_graph = json.load(f)\n",
    "    return json_graph.node_link_graph(js_graph)\n",
    "\n",
    "read_json_file('output/demo_network.json')"
   ]
  },
  {
   "cell_type": "code",
   "execution_count": null,
   "metadata": {
    "collapsed": true
   },
   "outputs": [],
   "source": []
  }
 ],
 "metadata": {
  "kernelspec": {
   "display_name": "Python 2",
   "language": "python",
   "name": "python2"
  },
  "language_info": {
   "codemirror_mode": {
    "name": "ipython",
    "version": 2
   },
   "file_extension": ".py",
   "mimetype": "text/x-python",
   "name": "python",
   "nbconvert_exporter": "python",
   "pygments_lexer": "ipython2",
   "version": "2.7.14"
  }
 },
 "nbformat": 4,
 "nbformat_minor": 2
}
