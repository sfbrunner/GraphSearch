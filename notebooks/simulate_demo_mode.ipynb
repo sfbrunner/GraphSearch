{
 "cells": [
  {
   "cell_type": "markdown",
   "metadata": {},
   "source": [
    "## Purpose\n",
    "* Purpose of this sheet is to simulate a browser session in \"demo\" (not \"live\") mode, ie. reading the data from a pre-computed JSON file rather than from a db query."
   ]
  },
  {
   "cell_type": "code",
   "execution_count": 2,
   "metadata": {},
   "outputs": [
    {
     "name": "stderr",
     "output_type": "stream",
     "text": [
      "05/19/2018 04:38:05 PM [INFO]: RequestFullTextSearch: Creating request\n",
      "05/19/2018 04:38:05 PM [INFO]: Max degree: 21\n"
     ]
    },
    {
     "name": "stdout",
     "output_type": "stream",
     "text": [
      "370\n",
      "64\n",
      "29\n"
     ]
    },
    {
     "data": {
      "text/plain": [
       "'{\"graph\": {\"nodes\": [{\"data\": {\"node_col\": \"#ffbaba\", \"journal\": \"Bioinformatics (Oxford, England)\", \"key\": \"24443148\", \"authors\": \"Gerstung, Papaemmanuil, Campbell\", \"cite_color\": \"black\", \"id\": \"24443148\", \"group\": \"Searched\", \"name\": \"24443148\", \"pubDate\": \"May 2014\", \"title\": \"Subclonal variant calling with multiple samples and prior knowledge.\", \"label\": \"Bioinformatics (Oxford, England)\", \"journal_iso\": \"Bioinformatics\"}}, {\"data\": {\"node_col\": \"#f99\", \"journal\": \"Frontiers in physiology\", \"key\": \"24860511\", \"authors\": \"Campbell\", \"cite_color\": \"black\", \"id\": \"24860511\", \"group\": \"Searched\", \"name\": \"24860511\", \"pubDate\": \" 2014\", \"title\": \"Vitamin D and the RNA transcriptome: more than mRNA regulation.\", \"label\": \"Frontiers in physiology\", \"journal_iso\": \"Front Physiol\"}}, {\"data\": {\"node_col\": \"#ffbaba\", \"journal\": \"Nature\", \"key\": \"24670643\", \"authors\": \"Li, Schwab, Ryan\", \"cite_color\": \"black\", \"id\": \"24670643\", \"group\": \"Searched\", \"name\": \"24670643\", \"pubDate\": \"Apr 2014\", \"title\": \"Constitutional and somatic rearrangement of chromosome 21 in acute lymphoblastic leukaemia.\", \"label\": \"Nature\", \"journal_iso\": \"Nature\"}}, {\"data\": {\"node_col\": \"#ffafaf\", \"journal\": \"Genetics\", \"key\": \"16783027\", \"authors\": \"Greenman, Wooster, Futreal\", \"cite_color\": \"black\", \"id\": \"16783027\", \"group\": \"Cited\", \"name\": \"16783027\", \"pubDate\": \"Aug 2006\", \"title\": \"Statistical analysis of pathogenicity of somatic mutations in cancer.\", \"label\": \"Genetics\", \"journal_iso\": \"Genetics\"}}, {\"data\": {\"node_col\": \"#ff6262\", \"journal\": \"Nature communications\", \"key\": \"24714652\", \"authors\": \"Cooke, Shlien, Marshall\", \"cite_color\": \"black\", \"id\": \"24714652\", \"group\": \"Searched\", \"name\": \"24714652\", \"pubDate\": \"Apr 2014\", \"title\": \"Processed pseudogenes acquired somatically during cancer development.\", \"label\": \"Nature communications\", \"journal_iso\": \"Nat Commun\"}}, {\"data\": {\"node_col\": \"#ffa4a4\", \"journal\": \"Bioinformatics (Oxford, England)\", \"key\": \"19451168\", \"authors\": \"Li, Durbin\", \"cite_color\": \"black\", \"id\": \"19451168\", \"group\": \"Cited\", \"name\": \"19451168\", \"pubDate\": \"Jul 2009\", \"title\": \"Fast and accurate short read alignment with Burrows-Wheeler transform.\", \"label\": \"Bioinformatics (Oxford, England)\", \"journal_iso\": \"Bioinformatics\"}}, {\"data\": {\"node_col\": \"#ffa4a4\", \"journal\": \"Nature genetics\", \"key\": \"24316979\", \"authors\": \"Wong, Martincorena, Rust\", \"cite_color\": \"black\", \"id\": \"24316979\", \"group\": \"Searched\", \"name\": \"24316979\", \"pubDate\": \"Jan 2014\", \"title\": \"Inactivating CUX1 mutations promote tumorigenesis.\", \"label\": \"Nature genetics\", \"journal_iso\": \"Nat. Genet.\"}}, {\"data\": {\"node_col\": \"#ffafaf\", \"journal\": \"Nature\", \"key\": \"22955616\", \"authors\": \"\", \"cite_color\": \"black\", \"id\": \"22955616\", \"group\": \"Cited\", \"name\": \"22955616\", \"pubDate\": \"Sep 2012\", \"title\": \"An integrated encyclopedia of DNA elements in the human genome.\", \"label\": \"Nature\", \"journal_iso\": \"Nature\"}}, {\"data\": {\"node_col\": \"#ffdbdb\", \"journal\": \"PPAR research\", \"key\": \"18528521\", \"authors\": \"Campbell, Carlberg, Koeffler\", \"cite_color\": \"black\", \"id\": \"18528521\", \"group\": \"Searched\", \"name\": \"18528521\", \"pubDate\": \" 2008\", \"title\": \"A Role for the PPARgamma in Cancer Therapy.\", \"label\": \"PPAR research\", \"journal_iso\": \"PPAR Res\"}}, {\"data\": {\"node_col\": \"#ffc5c5\", \"journal\": \"Nucleic acids research\", \"key\": \"25355519\", \"authors\": \"Forbes, Beare, Gunasekaran\", \"cite_color\": \"black\", \"id\": \"25355519\", \"group\": \"Searched\", \"name\": \"25355519\", \"pubDate\": \"Jan 2015\", \"title\": \"COSMIC: exploring the world\\'s knowledge of somatic mutations in human cancer.\", \"label\": \"Nucleic acids research\", \"journal_iso\": \"Nucleic Acids Res.\"}}, {\"data\": {\"node_col\": \"#ff6d6d\", \"journal\": \"Nature\", \"key\": \"19360079\", \"authors\": \"Stratton, Campbell, Futreal\", \"cite_color\": \"black\", \"id\": \"19360079\", \"group\": \"Cited\", \"name\": \"19360079\", \"pubDate\": \"Apr 2009\", \"title\": \"The cancer genome.\", \"label\": \"Nature\", \"journal_iso\": \"Nature\"}}, {\"data\": {\"node_col\": \"#ffafaf\", \"journal\": \"Cancers\", \"key\": \"24202443\", \"authors\": \"Ryyn\\\\u00e4nen, Seuter, Campbell\", \"cite_color\": \"black\", \"id\": \"24202443\", \"group\": \"Searched\", \"name\": \"24202443\", \"pubDate\": \"Oct 2013\", \"title\": \"Gene regulatory scenarios of primary 1,25-dihydroxyvitamin d3 target genes in a human myeloid leukemia cell line.\", \"label\": \"Cancers\", \"journal_iso\": \"Cancers (Basel)\"}}, {\"data\": {\"node_col\": \"#ffbaba\", \"journal\": \"Nature reviews. Cancer\", \"key\": \"14993899\", \"authors\": \"Futreal, Coin, Marshall\", \"cite_color\": \"black\", \"id\": \"14993899\", \"group\": \"Cited\", \"name\": \"14993899\", \"pubDate\": \"Mar 2004\", \"title\": \"A census of human cancer genes.\", \"label\": \"Nature reviews. Cancer\", \"journal_iso\": \"Nat. Rev. Cancer\"}}, {\"data\": {\"node_col\": \"#ffa4a4\", \"journal\": \"The Journal of steroid biochemistry and molecular biology\", \"key\": \"23098689\", \"authors\": \"Singh, Doig, Dhiman\", \"cite_color\": \"black\", \"id\": \"23098689\", \"group\": \"Searched\", \"name\": \"23098689\", \"pubDate\": \"Jul 2013\", \"title\": \"Epigenetic distortion to VDR transcriptional regulation in prostate cancer cells.\", \"label\": \"The Journal of steroid biochemistry and molecular biology\", \"journal_iso\": \"J. Steroid Biochem. Mol. Biol.\"}}, {\"data\": {\"node_col\": \"#ff8383\", \"journal\": \"Genome biology\", \"key\": \"24148783\", \"authors\": \"Yen, White, Wedge\", \"cite_color\": \"black\", \"id\": \"24148783\", \"group\": \"Searched\", \"name\": \"24148783\", \"pubDate\": \" 2013\", \"title\": \"The genetic heterogeneity and mutational burden of engineered melanomas in zebrafish models.\", \"label\": \"Genome biology\", \"journal_iso\": \"Genome Biol.\"}}, {\"data\": {\"node_col\": \"#ffafaf\", \"journal\": \"Genome biology\", \"key\": \"25298093\", \"authors\": \"Perera, Chacon, Thoms\", \"cite_color\": \"black\", \"id\": \"25298093\", \"group\": \"Searched\", \"name\": \"25298093\", \"pubDate\": \" 2014\", \"title\": \"OncoCis: annotation of cis-regulatory mutations in  cancer.\", \"label\": \"Genome biology\", \"journal_iso\": \"Genome Biol.\"}}, {\"data\": {\"node_col\": \"#ffc5c5\", \"journal\": \"Cell\", \"key\": \"21376230\", \"authors\": \"Hanahan, Weinberg\", \"cite_color\": \"black\", \"id\": \"21376230\", \"group\": \"Cited\", \"name\": \"21376230\", \"pubDate\": \"Mar 2011\", \"title\": \"Hallmarks of cancer: the next generation.\", \"label\": \"Cell\", \"journal_iso\": \"Cell\"}}, {\"data\": {\"node_col\": \"#ffdbdb\", \"journal\": \"Biological reviews of the Cambridge Philosophical Society\", \"key\": \"25243985\", \"authors\": \"Stincone, Prigione, Cramer\", \"cite_color\": \"black\", \"id\": \"25243985\", \"group\": \"Searched\", \"name\": \"25243985\", \"pubDate\": \"Aug 2015\", \"title\": \"The return of metabolism: biochemistry and physiology of the pentose phosphate pathway.\", \"label\": \"Biological reviews of the Cambridge Philosophical Society\", \"journal_iso\": \"Biol Rev Camb Philos Soc\"}}, {\"data\": {\"node_col\": \"#ffbaba\", \"journal\": \"Breast cancer research : BCR\", \"key\": \"27459855\", \"authors\": \"Zeng, Guo, Long\", \"cite_color\": \"black\", \"id\": \"27459855\", \"group\": \"Searched\", \"name\": \"27459855\", \"pubDate\": \"Jun 2016\", \"title\": \"Identification of independent association signals and putative functional variants for breast cancer risk through fine-scale mapping of the 12p11 locus.\", \"label\": \"Breast cancer research : BCR\", \"journal_iso\": \"Breast Cancer Res.\"}}, {\"data\": {\"node_col\": \"#ffafaf\", \"journal\": \"Nature genetics\", \"key\": \"18438408\", \"authors\": \"Campbell, Stephens, Pleasance\", \"cite_color\": \"black\", \"id\": \"18438408\", \"group\": \"Cited\", \"name\": \"18438408\", \"pubDate\": \"Jun 2008\", \"title\": \"Identification of somatically acquired rearrangements in cancer using genome-wide massively parallel paired-end sequencing.\", \"label\": \"Nature genetics\", \"journal_iso\": \"Nat. Genet.\"}}, {\"data\": {\"node_col\": \"#ff5757\", \"journal\": \"Cell\", \"key\": \"21215367\", \"authors\": \"Stephens, Greenman, Fu\", \"cite_color\": \"black\", \"id\": \"21215367\", \"group\": \"Cited\", \"name\": \"21215367\", \"pubDate\": \"Jan 2011\", \"title\": \"Massive genomic rearrangement acquired in a single catastrophic event during cancer development.\", \"label\": \"Cell\", \"journal_iso\": \"Cell\"}}, {\"data\": {\"node_col\": \"#ffafaf\", \"journal\": \"Proceedings of the National Academy of Sciences of the United States of America\", \"key\": \"20837533\", \"authors\": \"Van Loo, Nordgard, Lingj\\\\u00e6rde\", \"cite_color\": \"black\", \"id\": \"20837533\", \"group\": \"Cited\", \"name\": \"20837533\", \"pubDate\": \"Sep 2010\", \"title\": \"Allele-specific copy number analysis of tumors.\", \"label\": \"Proceedings of the National Academy of Sciences of the United States of America\", \"journal_iso\": \"Proc. Natl. Acad. Sci. U.S.A.\"}}, {\"data\": {\"node_col\": \"#ffdbdb\", \"journal\": \"Nature communications\", \"key\": \"25574665\", \"authors\": \"Gerstung, Pellagatti, Malcovati\", \"cite_color\": \"black\", \"id\": \"25574665\", \"group\": \"Cited\", \"name\": \"25574665\", \"pubDate\": \"Jan 2015\", \"title\": \"Combining gene mutation with gene expression data improves outcome prediction in myelodysplastic syndromes.\", \"label\": \"Nature communications\", \"journal_iso\": \"Nat Commun\"}}, {\"data\": {\"node_col\": \"#ff8383\", \"journal\": \"Nature communications\", \"key\": \"27615322\", \"authors\": \"Behjati, Gundem, Wedge\", \"cite_color\": \"black\", \"id\": \"27615322\", \"group\": \"Searched\", \"name\": \"27615322\", \"pubDate\": \"Sep 2016\", \"title\": \"Mutational signatures of ionizing radiation in second malignancies.\", \"label\": \"Nature communications\", \"journal_iso\": \"Nat Commun\"}}, {\"data\": {\"node_col\": \"#ffc5c5\", \"journal\": \"PLoS genetics\", \"key\": \"23028338\", \"authors\": \"Thompson, Doyle, Ryland\", \"cite_color\": \"black\", \"id\": \"23028338\", \"group\": \"Searched\", \"name\": \"23028338\", \"pubDate\": \"Sep 2012\", \"title\": \"Exome sequencing identifies rare deleterious mutations in DNA repair genes FANCC and BLM as potential breast cancer susceptibility alleles.\", \"label\": \"PLoS genetics\", \"journal_iso\": \"PLoS Genet.\"}}, {\"data\": {\"node_col\": \"#ffbaba\", \"journal\": \"Nature\", \"key\": \"22522925\", \"authors\": \"Curtis, Shah, Chin\", \"cite_color\": \"black\", \"id\": \"22522925\", \"group\": \"Cited\", \"name\": \"22522925\", \"pubDate\": \"Apr 2012\", \"title\": \"The genomic and transcriptomic architecture of 2,000 breast tumours reveals novel subgroups.\", \"label\": \"Nature\", \"journal_iso\": \"Nature\"}}, {\"data\": {\"node_col\": \"#ffa4a4\", \"journal\": \"Oncogene\", \"key\": \"15300237\", \"authors\": \"Khanim, Gommersall, Wood\", \"cite_color\": \"black\", \"id\": \"15300237\", \"group\": \"Cited\", \"name\": \"15300237\", \"pubDate\": \"Sep 2004\", \"title\": \"Altered SMRT levels disrupt vitamin D3 receptor signalling in prostate cancer cells.\", \"label\": \"Oncogene\", \"journal_iso\": \"Oncogene\"}}, {\"data\": {\"node_col\": \"#ffdbdb\", \"journal\": \"Oncotarget\", \"key\": \"27102296\", \"authors\": \"Shemesh, Brusilovsky, Hadad\", \"cite_color\": \"black\", \"id\": \"27102296\", \"group\": \"Cited\", \"name\": \"27102296\", \"pubDate\": \"May 2016\", \"title\": \"Survival in acute myeloid leukemia is associated with NKp44 splice variants.\", \"label\": \"Oncotarget\", \"journal_iso\": \"Oncotarget\"}}, {\"data\": {\"node_col\": \"#ffafaf\", \"journal\": \"Nature\", \"key\": \"21642962\", \"authors\": \"Puente, Pinyol, Quesada\", \"cite_color\": \"black\", \"id\": \"21642962\", \"group\": \"Cited\", \"name\": \"21642962\", \"pubDate\": \"Jun 2011\", \"title\": \"Whole-genome sequencing identifies recurrent mutations in chronic lymphocytic leukaemia.\", \"label\": \"Nature\", \"journal_iso\": \"Nature\"}}, {\"data\": {\"node_col\": \"#ffa4a4\", \"journal\": \"Nature\", \"key\": \"20981101\", \"authors\": \"Campbell, Yachida, Mudie\", \"cite_color\": \"black\", \"id\": \"20981101\", \"group\": \"Cited\", \"name\": \"20981101\", \"pubDate\": \"Oct 2010\", \"title\": \"The patterns and dynamics of genomic instability in metastatic pancreatic cancer.\", \"label\": \"Nature\", \"journal_iso\": \"Nature\"}}, {\"data\": {\"node_col\": \"#ffd0d0\", \"journal\": \"Leukemia\", \"key\": \"27604819\", \"authors\": \"Mupo, Seiler, Sathiaseelan\", \"cite_color\": \"black\", \"id\": \"27604819\", \"group\": \"Searched\", \"name\": \"27604819\", \"pubDate\": \"Oct 2016\", \"title\": \"Hemopoietic-specific Sf3b1-K700E knock-in mice display the splicing defect seen in human MDS but develop anemia without ring sideroblasts.\", \"label\": \"Leukemia\", \"journal_iso\": \"Leukemia\"}}, {\"data\": {\"node_col\": \"#f99\", \"journal\": \"Nucleic acids research\", \"key\": \"21088000\", \"authors\": \"Thorne, Maguire, Doig\", \"cite_color\": \"black\", \"id\": \"21088000\", \"group\": \"Cited\", \"name\": \"21088000\", \"pubDate\": \"Mar 2011\", \"title\": \"Epigenetic control of a VDR-governed feed-forward loop that regulates p21(waf1/cip1) expression and function in non-malignant prostate cells.\", \"label\": \"Nucleic acids research\", \"journal_iso\": \"Nucleic Acids Res.\"}}, {\"data\": {\"node_col\": \"#ffbaba\", \"journal\": \"Nature\", \"key\": \"20393554\", \"authors\": \", Hudson, Anderson\", \"cite_color\": \"black\", \"id\": \"20393554\", \"group\": \"Cited\", \"name\": \"20393554\", \"pubDate\": \"Apr 2010\", \"title\": \"International network of cancer genome projects.\", \"label\": \"Nature\", \"journal_iso\": \"Nature\"}}, {\"data\": {\"node_col\": \"#ffbaba\", \"journal\": \"Nature methods\", \"key\": \"20354512\", \"authors\": \"Adzhubei, Schmidt, Peshkin\", \"cite_color\": \"black\", \"id\": \"20354512\", \"group\": \"Cited\", \"name\": \"20354512\", \"pubDate\": \"Apr 2010\", \"title\": \"A method and server for predicting damaging missense mutations.\", \"label\": \"Nature methods\", \"journal_iso\": \"Nat. Methods\"}}, {\"data\": {\"node_col\": \"#ffbaba\", \"journal\": \"Trends in genetics : TIG\", \"key\": \"19185382\", \"authors\": \"Mohn, Sch\\\\u00fcbeler\", \"cite_color\": \"black\", \"id\": \"19185382\", \"group\": \"Cited\", \"name\": \"19185382\", \"pubDate\": \"Mar 2009\", \"title\": \"Genetics and epigenetics: stability and plasticity during cellular differentiation.\", \"label\": \"Trends in genetics : TIG\", \"journal_iso\": \"Trends Genet.\"}}, {\"data\": {\"node_col\": \"#ff4242\", \"journal\": \"Nature\", \"key\": \"27135926\", \"authors\": \"Nik-Zainal, Davies, Staaf\", \"cite_color\": \"black\", \"id\": \"27135926\", \"group\": \"Searched\", \"name\": \"27135926\", \"pubDate\": \"May 2016\", \"title\": \"Landscape of somatic mutations in 560 breast cancer whole-genome sequences.\", \"label\": \"Nature\", \"journal_iso\": \"Nature\"}}, {\"data\": {\"node_col\": \"#ffafaf\", \"journal\": \"Nature\", \"key\": \"20016485\", \"authors\": \"Pleasance, Cheetham, Stephens\", \"cite_color\": \"black\", \"id\": \"20016485\", \"group\": \"Cited\", \"name\": \"20016485\", \"pubDate\": \"Jan 2010\", \"title\": \"A comprehensive catalogue of somatic mutations from a human cancer genome.\", \"label\": \"Nature\", \"journal_iso\": \"Nature\"}}, {\"data\": {\"node_col\": \"#ff7878\", \"journal\": \"Nature\", \"key\": \"20016488\", \"authors\": \"Pleasance, Stephens, O\\'Meara\", \"cite_color\": \"black\", \"id\": \"20016488\", \"group\": \"Searched\", \"name\": \"20016488\", \"pubDate\": \"Jan 2010\", \"title\": \"A small-cell lung cancer genome with complex signatures of tobacco exposure.\", \"label\": \"Nature\", \"journal_iso\": \"Nature\"}}, {\"data\": {\"node_col\": \"#ff6d6d\", \"journal\": \"Nature\", \"key\": \"23945592\", \"authors\": \"Alexandrov, Nik-Zainal, Wedge\", \"cite_color\": \"black\", \"id\": \"23945592\", \"group\": \"Searched\", \"name\": \"23945592\", \"pubDate\": \"Aug 2013\", \"title\": \"Signatures of mutational processes in human cancer.\", \"label\": \"Nature\", \"journal_iso\": \"Nature\"}}, {\"data\": {\"node_col\": \"#ffbaba\", \"journal\": \"Bioinformatics (Oxford, England)\", \"key\": \"20080505\", \"authors\": \"Li, Durbin\", \"cite_color\": \"black\", \"id\": \"20080505\", \"group\": \"Cited\", \"name\": \"20080505\", \"pubDate\": \"Mar 2010\", \"title\": \"Fast and accurate long-read alignment with Burrows-Wheeler transform.\", \"label\": \"Bioinformatics (Oxford, England)\", \"journal_iso\": \"Bioinformatics\"}}, {\"data\": {\"node_col\": \"#ff6d6d\", \"journal\": \"eLife\", \"key\": \"25271376\", \"authors\": \"Ju, Alexandrov, Gerstung\", \"cite_color\": \"black\", \"id\": \"25271376\", \"group\": \"Searched\", \"name\": \"25271376\", \"pubDate\": \"Oct 2014\", \"title\": \"Origins and functional consequences of somatic mitochondrial DNA mutations in human cancer.\", \"label\": \"eLife\", \"journal_iso\": \"Elife\"}}, {\"data\": {\"node_col\": \"#ffdbdb\", \"journal\": \"Genetics research international\", \"key\": \"22567363\", \"authors\": \"Mackinnon, Campbell\", \"cite_color\": \"black\", \"id\": \"22567363\", \"group\": \"Searched\", \"name\": \"22567363\", \"pubDate\": \" 2011\", \"title\": \"The role of dicentric chromosome formation and secondary centromere deletion in the evolution of myeloid malignancy.\", \"label\": \"Genetics research international\", \"journal_iso\": \"Genet Res Int\"}}, {\"data\": {\"node_col\": \"#ffbaba\", \"journal\": \"Nature\", \"key\": \"19812674\", \"authors\": \"Shah, Morin, Khattra\", \"cite_color\": \"black\", \"id\": \"19812674\", \"group\": \"Cited\", \"name\": \"19812674\", \"pubDate\": \"Oct 2009\", \"title\": \"Mutational evolution in a lobular breast tumour profiled at single nucleotide resolution.\", \"label\": \"Nature\", \"journal_iso\": \"Nature\"}}, {\"data\": {\"node_col\": \"#ffd0d0\", \"journal\": \"Scientific reports\", \"key\": \"26553438\", \"authors\": \"Timofeeva, Kinnersley, Farrington\", \"cite_color\": \"black\", \"id\": \"26553438\", \"group\": \"Searched\", \"name\": \"26553438\", \"pubDate\": \"Nov 2015\", \"title\": \"Recurrent Coding Sequence Variation Explains Only A Small Fraction of the Genetic Architecture of Colorectal Cancer.\", \"label\": \"Scientific reports\", \"journal_iso\": \"Sci Rep\"}}, {\"data\": {\"node_col\": \"#ffbaba\", \"journal\": \"The New England journal of medicine\", \"key\": \"21995386\", \"authors\": \"Papaemmanuil, Cazzola, Boultwood\", \"cite_color\": \"black\", \"id\": \"21995386\", \"group\": \"Cited\", \"name\": \"21995386\", \"pubDate\": \"Oct 2011\", \"title\": \"Somatic SF3B1 mutation in myelodysplasia with ring sideroblasts.\", \"label\": \"The New England journal of medicine\", \"journal_iso\": \"N. Engl. J. Med.\"}}, {\"data\": {\"node_col\": \"#f00\", \"journal\": \"Cell\", \"key\": \"22608084\", \"authors\": \"Nik-Zainal, Alexandrov, Wedge\", \"cite_color\": \"black\", \"id\": \"22608084\", \"group\": \"Cited\", \"name\": \"22608084\", \"pubDate\": \"May 2012\", \"title\": \"Mutational processes molding the genomes of 21 breast cancers.\", \"label\": \"Cell\", \"journal_iso\": \"Cell\"}}, {\"data\": {\"node_col\": \"#ff1616\", \"journal\": \"Cell\", \"key\": \"22608083\", \"authors\": \"Nik-Zainal, Van Loo, Wedge\", \"cite_color\": \"black\", \"id\": \"22608083\", \"group\": \"Cited\", \"name\": \"22608083\", \"pubDate\": \"May 2012\", \"title\": \"The life history of 21 breast cancers.\", \"label\": \"Cell\", \"journal_iso\": \"Cell\"}}, {\"data\": {\"node_col\": \"#ffafaf\", \"journal\": \"Nucleic acids research\", \"key\": \"26117541\", \"authors\": \"Long, van den Berg, Russell\", \"cite_color\": \"black\", \"id\": \"26117541\", \"group\": \"Searched\", \"name\": \"26117541\", \"pubDate\": \"Sep 2015\", \"title\": \"Integrative genomic analysis in K562 chronic myelogenous leukemia cells reveals that proximal NCOR1 binding positively regulates genes that govern erythroid differentiation and Imatinib sensitivity.\", \"label\": \"Nucleic acids research\", \"journal_iso\": \"Nucleic Acids Res.\"}}, {\"data\": {\"node_col\": \"#ffbaba\", \"journal\": \"Bioinformatics (Oxford, England)\", \"key\": \"19561018\", \"authors\": \"Ye, Schulz, Long\", \"cite_color\": \"black\", \"id\": \"19561018\", \"group\": \"Cited\", \"name\": \"19561018\", \"pubDate\": \"Nov 2009\", \"title\": \"Pindel: a pattern growth approach to detect break points of large deletions and medium sized insertions from paired-end short reads.\", \"label\": \"Bioinformatics (Oxford, England)\", \"journal_iso\": \"Bioinformatics\"}}, {\"data\": {\"node_col\": \"#ffbaba\", \"journal\": \"Nucleic acids research\", \"key\": \"21846776\", \"authors\": \"Heikkinen, V\\\\u00e4is\\\\u00e4nen, Pehkonen\", \"cite_color\": \"black\", \"id\": \"21846776\", \"group\": \"Cited\", \"name\": \"21846776\", \"pubDate\": \"Nov 2011\", \"title\": \"Nuclear hormone 1\\\\u03b1,25-dihydroxyvitamin D3 elicits a genome-wide shift in the locations of VDR chromatin occupancy.\", \"label\": \"Nucleic acids research\", \"journal_iso\": \"Nucleic Acids Res.\"}}, {\"data\": {\"node_col\": \"#ffbaba\", \"journal\": \"Molecular endocrinology (Baltimore, Md.)\", \"key\": \"19098224\", \"authors\": \"Kim, Son, Lee\", \"cite_color\": \"black\", \"id\": \"19098224\", \"group\": \"Cited\", \"name\": \"19098224\", \"pubDate\": \"Feb 2009\", \"title\": \"Involvement of SMRT corepressor in transcriptional repression by the vitamin D receptor.\", \"label\": \"Molecular endocrinology (Baltimore, Md.)\", \"journal_iso\": \"Mol. Endocrinol.\"}}, {\"data\": {\"node_col\": \"#f99\", \"journal\": \"Nature\", \"key\": \"22722201\", \"authors\": \"Stephens, Tarpey, Davies\", \"cite_color\": \"black\", \"id\": \"22722201\", \"group\": \"Cited\", \"name\": \"22722201\", \"pubDate\": \"May 2012\", \"title\": \"The landscape of cancer genes and mutational processes in breast cancer.\", \"label\": \"Nature\", \"journal_iso\": \"Nature\"}}, {\"data\": {\"node_col\": \"#ffd0d0\", \"journal\": \"Nature communications\", \"key\": \"25849990\", \"authors\": \"Tapper, Jones, Kralovics\", \"cite_color\": \"black\", \"id\": \"25849990\", \"group\": \"Searched\", \"name\": \"25849990\", \"pubDate\": \"Apr 2015\", \"title\": \"Genetic variation at MECOM, TERT, JAK2 and HBS1L-MYB predisposes to myeloproliferative neoplasms.\", \"label\": \"Nature communications\", \"journal_iso\": \"Nat Commun\"}}, {\"data\": {\"node_col\": \"#ffbaba\", \"journal\": \"Nature\", \"key\": \"20981092\", \"authors\": \", Abecasis, Altshuler\", \"cite_color\": \"black\", \"id\": \"20981092\", \"group\": \"Cited\", \"name\": \"20981092\", \"pubDate\": \"Oct 2010\", \"title\": \"A map of human genome variation from population-scale sequencing.\", \"label\": \"Nature\", \"journal_iso\": \"Nature\"}}, {\"data\": {\"node_col\": \"#ffafaf\", \"journal\": \"Nature\", \"key\": \"17344846\", \"authors\": \"Greenman, Stephens, Smith\", \"cite_color\": \"black\", \"id\": \"17344846\", \"group\": \"Cited\", \"name\": \"17344846\", \"pubDate\": \"Mar 2007\", \"title\": \"Patterns of somatic mutation in human cancer genomes.\", \"label\": \"Nature\", \"journal_iso\": \"Nature\"}}, {\"data\": {\"node_col\": \"#ffafaf\", \"journal\": \"Genome research\", \"key\": \"22955989\", \"authors\": \"Boyle, Hong, Hariharan\", \"cite_color\": \"black\", \"id\": \"22955989\", \"group\": \"Cited\", \"name\": \"22955989\", \"pubDate\": \"Sep 2012\", \"title\": \"Annotation of functional variation in personal genomes using RegulomeDB.\", \"label\": \"Genome research\", \"journal_iso\": \"Genome Res.\"}}, {\"data\": {\"node_col\": \"#ffd0d0\", \"journal\": \"Nature\", \"key\": \"21248752\", \"authors\": \"Varela, Tarpey, Raine\", \"cite_color\": \"black\", \"id\": \"21248752\", \"group\": \"Searched\", \"name\": \"21248752\", \"pubDate\": \"Jan 2011\", \"title\": \"Exome sequencing identifies frequent mutation of the SWI/SNF complex gene PBRM1 in renal carcinoma.\", \"label\": \"Nature\", \"journal_iso\": \"Nature\"}}, {\"data\": {\"node_col\": \"#ff8e8e\", \"journal\": \"Nature\", \"key\": \"20033038\", \"authors\": \"Stephens, McBride, Lin\", \"cite_color\": \"black\", \"id\": \"20033038\", \"group\": \"Cited\", \"name\": \"20033038\", \"pubDate\": \"Dec 2009\", \"title\": \"Complex landscapes of somatic rearrangement in human breast cancer genomes.\", \"label\": \"Nature\", \"journal_iso\": \"Nature\"}}, {\"data\": {\"node_col\": \"#ffdbdb\", \"journal\": \"PloS one\", \"key\": \"22536442\", \"authors\": \"Ryland, Bearfoot, Doyle\", \"cite_color\": \"black\", \"id\": \"22536442\", \"group\": \"Searched\", \"name\": \"22536442\", \"pubDate\": \" 2012\", \"title\": \"MicroRNA genes and their target 3\\'-untranslated regions are infrequently somatically mutated in ovarian cancers.\", \"label\": \"PloS one\", \"journal_iso\": \"PLoS ONE\"}}, {\"data\": {\"node_col\": \"#ffbaba\", \"journal\": \"Nucleic acids research\", \"key\": \"16434701\", \"authors\": \"Saram\\\\u00e4ki, Banwell, Campbell\", \"cite_color\": \"black\", \"id\": \"16434701\", \"group\": \"Cited\", \"name\": \"16434701\", \"pubDate\": \" 2006\", \"title\": \"Regulation of the human p21(waf1/cip1) gene promoter via multiple binding sites for p53 and the vitamin D3 receptor.\", \"label\": \"Nucleic acids research\", \"journal_iso\": \"Nucleic Acids Res.\"}}, {\"data\": {\"node_col\": \"#ffdbdb\", \"journal\": \"Oncotarget\", \"key\": \"27765926\", \"authors\": \"Shemesh, Kugel, Steiner\", \"cite_color\": \"black\", \"id\": \"27765926\", \"group\": \"Cited\", \"name\": \"27765926\", \"pubDate\": \"Sep 2016\", \"title\": \"NKp44 and NKp30 splice variant profiles in decidua and tumor tissues: a comparative viewpoint.\", \"label\": \"Oncotarget\", \"journal_iso\": \"Oncotarget\"}}, {\"data\": {\"node_col\": \"#f99\", \"journal\": \"Cell reports\", \"key\": \"27498871\", \"authors\": \"Shlien, Raine, Fuligni\", \"cite_color\": \"black\", \"id\": \"27498871\", \"group\": \"Searched\", \"name\": \"27498871\", \"pubDate\": \"Aug 2016\", \"title\": \"Direct Transcriptional Consequences of Somatic Mutation in Breast Cancer.\", \"label\": \"Cell reports\", \"journal_iso\": \"Cell Rep\"}}, {\"data\": {\"node_col\": \"#ffbaba\", \"journal\": \"Nature communications\", \"key\": \"26647970\", \"authors\": \"Alioto, Buchhalter, Derdak\", \"cite_color\": \"black\", \"id\": \"26647970\", \"group\": \"Searched\", \"name\": \"26647970\", \"pubDate\": \"Dec 2015\", \"title\": \"A comprehensive assessment of somatic mutation detection in cancer using whole-genome sequencing.\", \"label\": \"Nature communications\", \"journal_iso\": \"Nat Commun\"}}, {\"data\": {\"node_col\": \"#ffd0d0\", \"journal\": \"Nature genetics\", \"key\": \"26618344\", \"authors\": \"Castro, de Santiago, Campbell\", \"cite_color\": \"black\", \"id\": \"26618344\", \"group\": \"Searched\", \"name\": \"26618344\", \"pubDate\": \"Jan 2016\", \"title\": \"Regulators of genetic risk of breast cancer identified by integrative network analysis.\", \"label\": \"Nature genetics\", \"journal_iso\": \"Nat. Genet.\"}}], \"edges\": [{\"data\": {\"source\": \"24443148\", \"id\": \"24443148_20080505\", \"target\": \"20080505\"}}, {\"data\": {\"source\": \"24443148\", \"id\": \"24443148_22722201\", \"target\": \"22722201\"}}, {\"data\": {\"source\": \"24443148\", \"id\": \"24443148_22608083\", \"target\": \"22608083\"}}, {\"data\": {\"source\": \"24443148\", \"id\": \"24443148_21995386\", \"target\": \"21995386\"}}, {\"data\": {\"source\": \"24860511\", \"id\": \"24860511_16434701\", \"target\": \"16434701\"}}, {\"data\": {\"source\": \"24860511\", \"id\": \"24860511_21088000\", \"target\": \"21088000\"}}, {\"data\": {\"source\": \"24860511\", \"id\": \"24860511_15300237\", \"target\": \"15300237\"}}, {\"data\": {\"source\": \"24860511\", \"id\": \"24860511_19185382\", \"target\": \"19185382\"}}, {\"data\": {\"source\": \"24860511\", \"id\": \"24860511_22955989\", \"target\": \"22955989\"}}, {\"data\": {\"source\": \"24860511\", \"id\": \"24860511_19098224\", \"target\": \"19098224\"}}, {\"data\": {\"source\": \"24860511\", \"id\": \"24860511_21846776\", \"target\": \"21846776\"}}, {\"data\": {\"source\": \"24670643\", \"id\": \"24670643_18438408\", \"target\": \"18438408\"}}, {\"data\": {\"source\": \"24670643\", \"id\": \"24670643_19360079\", \"target\": \"19360079\"}}, {\"data\": {\"source\": \"24670643\", \"id\": \"24670643_20981101\", \"target\": \"20981101\"}}, {\"data\": {\"source\": \"24670643\", \"id\": \"24670643_21215367\", \"target\": \"21215367\"}}, {\"data\": {\"source\": \"16783027\", \"id\": \"16783027_24316979\", \"target\": \"24316979\"}}, {\"data\": {\"source\": \"16783027\", \"id\": \"16783027_24148783\", \"target\": \"24148783\"}}, {\"data\": {\"source\": \"16783027\", \"id\": \"16783027_27135926\", \"target\": \"27135926\"}}, {\"data\": {\"source\": \"16783027\", \"id\": \"16783027_25271376\", \"target\": \"25271376\"}}, {\"data\": {\"source\": \"16783027\", \"id\": \"16783027_24714652\", \"target\": \"24714652\"}}, {\"data\": {\"source\": \"24714652\", \"id\": \"24714652_24316979\", \"target\": \"24316979\"}}, {\"data\": {\"source\": \"24714652\", \"id\": \"24714652_21995386\", \"target\": \"21995386\"}}, {\"data\": {\"source\": \"24714652\", \"id\": \"24714652_21215367\", \"target\": \"21215367\"}}, {\"data\": {\"source\": \"24714652\", \"id\": \"24714652_23945592\", \"target\": \"23945592\"}}, {\"data\": {\"source\": \"24714652\", \"id\": \"24714652_19360079\", \"target\": \"19360079\"}}, {\"data\": {\"source\": \"24714652\", \"id\": \"24714652_22608084\", \"target\": \"22608084\"}}, {\"data\": {\"source\": \"24714652\", \"id\": \"24714652_20080505\", \"target\": \"20080505\"}}, {\"data\": {\"source\": \"24714652\", \"id\": \"24714652_22722201\", \"target\": \"22722201\"}}, {\"data\": {\"source\": \"24714652\", \"id\": \"24714652_22608083\", \"target\": \"22608083\"}}, {\"data\": {\"source\": \"24714652\", \"id\": \"24714652_20033038\", \"target\": \"20033038\"}}, {\"data\": {\"source\": \"24714652\", \"id\": \"24714652_20981101\", \"target\": \"20981101\"}}, {\"data\": {\"source\": \"19451168\", \"id\": \"19451168_25298093\", \"target\": \"25298093\"}}, {\"data\": {\"source\": \"19451168\", \"id\": \"19451168_22608084\", \"target\": \"22608084\"}}, {\"data\": {\"source\": \"19451168\", \"id\": \"19451168_23028338\", \"target\": \"23028338\"}}, {\"data\": {\"source\": \"19451168\", \"id\": \"19451168_26647970\", \"target\": \"26647970\"}}, {\"data\": {\"source\": \"19451168\", \"id\": \"19451168_27135926\", \"target\": \"27135926\"}}, {\"data\": {\"source\": \"19451168\", \"id\": \"19451168_25271376\", \"target\": \"25271376\"}}, {\"data\": {\"source\": \"24316979\", \"id\": \"24316979_20354512\", \"target\": \"20354512\"}}, {\"data\": {\"source\": \"24316979\", \"id\": \"24316979_22608084\", \"target\": \"22608084\"}}, {\"data\": {\"source\": \"24316979\", \"id\": \"24316979_21642962\", \"target\": \"21642962\"}}, {\"data\": {\"source\": \"24316979\", \"id\": \"24316979_22722201\", \"target\": \"22722201\"}}, {\"data\": {\"source\": \"22955616\", \"id\": \"22955616_25298093\", \"target\": \"25298093\"}}, {\"data\": {\"source\": \"22955616\", \"id\": \"22955616_24202443\", \"target\": \"24202443\"}}, {\"data\": {\"source\": \"22955616\", \"id\": \"22955616_25849990\", \"target\": \"25849990\"}}, {\"data\": {\"source\": \"22955616\", \"id\": \"22955616_27135926\", \"target\": \"27135926\"}}, {\"data\": {\"source\": \"22955616\", \"id\": \"22955616_27459855\", \"target\": \"27459855\"}}, {\"data\": {\"source\": \"18528521\", \"id\": \"18528521_15300237\", \"target\": \"15300237\"}}, {\"data\": {\"source\": \"25355519\", \"id\": \"25355519_20393554\", \"target\": \"20393554\"}}, {\"data\": {\"source\": \"25355519\", \"id\": \"25355519_26618344\", \"target\": \"26618344\"}}, {\"data\": {\"source\": \"25355519\", \"id\": \"25355519_14993899\", \"target\": \"14993899\"}}, {\"data\": {\"source\": \"19360079\", \"id\": \"19360079_23945592\", \"target\": \"23945592\"}}, {\"data\": {\"source\": \"19360079\", \"id\": \"19360079_22608083\", \"target\": \"22608083\"}}, {\"data\": {\"source\": \"19360079\", \"id\": \"19360079_20016488\", \"target\": \"20016488\"}}, {\"data\": {\"source\": \"19360079\", \"id\": \"19360079_27498871\", \"target\": \"27498871\"}}, {\"data\": {\"source\": \"19360079\", \"id\": \"19360079_22608084\", \"target\": \"22608084\"}}, {\"data\": {\"source\": \"19360079\", \"id\": \"19360079_25271376\", \"target\": \"25271376\"}}, {\"data\": {\"source\": \"19360079\", \"id\": \"19360079_27135926\", \"target\": \"27135926\"}}, {\"data\": {\"source\": \"19360079\", \"id\": \"19360079_20033038\", \"target\": \"20033038\"}}, {\"data\": {\"source\": \"19360079\", \"id\": \"19360079_21215367\", \"target\": \"21215367\"}}, {\"data\": {\"source\": \"24202443\", \"id\": \"24202443_16434701\", \"target\": \"16434701\"}}, {\"data\": {\"source\": \"24202443\", \"id\": \"24202443_15300237\", \"target\": \"15300237\"}}, {\"data\": {\"source\": \"24202443\", \"id\": \"24202443_21088000\", \"target\": \"21088000\"}}, {\"data\": {\"source\": \"24202443\", \"id\": \"24202443_21846776\", \"target\": \"21846776\"}}, {\"data\": {\"source\": \"14993899\", \"id\": \"14993899_22536442\", \"target\": \"22536442\"}}, {\"data\": {\"source\": \"14993899\", \"id\": \"14993899_24148783\", \"target\": \"24148783\"}}, {\"data\": {\"source\": \"14993899\", \"id\": \"14993899_20033038\", \"target\": \"20033038\"}}, {\"data\": {\"source\": \"23098689\", \"id\": \"23098689_16434701\", \"target\": \"16434701\"}}, {\"data\": {\"source\": \"23098689\", \"id\": \"23098689_15300237\", \"target\": \"15300237\"}}, {\"data\": {\"source\": \"23098689\", \"id\": \"23098689_19185382\", \"target\": \"19185382\"}}, {\"data\": {\"source\": \"23098689\", \"id\": \"23098689_19098224\", \"target\": \"19098224\"}}, {\"data\": {\"source\": \"23098689\", \"id\": \"23098689_21088000\", \"target\": \"21088000\"}}, {\"data\": {\"source\": \"23098689\", \"id\": \"23098689_21846776\", \"target\": \"21846776\"}}, {\"data\": {\"source\": \"24148783\", \"id\": \"24148783_21248752\", \"target\": \"21248752\"}}, {\"data\": {\"source\": \"24148783\", \"id\": \"24148783_20016488\", \"target\": \"20016488\"}}, {\"data\": {\"source\": \"24148783\", \"id\": \"24148783_19561018\", \"target\": \"19561018\"}}, {\"data\": {\"source\": \"24148783\", \"id\": \"24148783_22722201\", \"target\": \"22722201\"}}, {\"data\": {\"source\": \"24148783\", \"id\": \"24148783_20080505\", \"target\": \"20080505\"}}, {\"data\": {\"source\": \"24148783\", \"id\": \"24148783_20837533\", \"target\": \"20837533\"}}, {\"data\": {\"source\": \"24148783\", \"id\": \"24148783_22608084\", \"target\": \"22608084\"}}, {\"data\": {\"source\": \"25298093\", \"id\": \"25298093_22955989\", \"target\": \"22955989\"}}, {\"data\": {\"source\": \"25298093\", \"id\": \"25298093_20354512\", \"target\": \"20354512\"}}, {\"data\": {\"source\": \"25298093\", \"id\": \"25298093_22608084\", \"target\": \"22608084\"}}, {\"data\": {\"source\": \"21376230\", \"id\": \"21376230_25243985\", \"target\": \"25243985\"}}, {\"data\": {\"source\": \"21376230\", \"id\": \"21376230_25271376\", \"target\": \"25271376\"}}, {\"data\": {\"source\": \"21376230\", \"id\": \"21376230_22608083\", \"target\": \"22608083\"}}, {\"data\": {\"source\": \"27459855\", \"id\": \"27459855_22955989\", \"target\": \"22955989\"}}, {\"data\": {\"source\": \"27459855\", \"id\": \"27459855_22522925\", \"target\": \"22522925\"}}, {\"data\": {\"source\": \"27459855\", \"id\": \"27459855_20981092\", \"target\": \"20981092\"}}, {\"data\": {\"source\": \"18438408\", \"id\": \"18438408_22608084\", \"target\": \"22608084\"}}, {\"data\": {\"source\": \"18438408\", \"id\": \"18438408_20033038\", \"target\": \"20033038\"}}, {\"data\": {\"source\": \"18438408\", \"id\": \"18438408_21215367\", \"target\": \"21215367\"}}, {\"data\": {\"source\": \"18438408\", \"id\": \"18438408_20016488\", \"target\": \"20016488\"}}, {\"data\": {\"source\": \"21215367\", \"id\": \"21215367_20016485\", \"target\": \"20016485\"}}, {\"data\": {\"source\": \"21215367\", \"id\": \"21215367_20016488\", \"target\": \"20016488\"}}, {\"data\": {\"source\": \"21215367\", \"id\": \"21215367_19812674\", \"target\": \"19812674\"}}, {\"data\": {\"source\": \"21215367\", \"id\": \"21215367_27498871\", \"target\": \"27498871\"}}, {\"data\": {\"source\": \"21215367\", \"id\": \"21215367_27615322\", \"target\": \"27615322\"}}, {\"data\": {\"source\": \"21215367\", \"id\": \"21215367_22608084\", \"target\": \"22608084\"}}, {\"data\": {\"source\": \"21215367\", \"id\": \"21215367_22608083\", \"target\": \"22608083\"}}, {\"data\": {\"source\": \"21215367\", \"id\": \"21215367_20033038\", \"target\": \"20033038\"}}, {\"data\": {\"source\": \"21215367\", \"id\": \"21215367_20981101\", \"target\": \"20981101\"}}, {\"data\": {\"source\": \"20837533\", \"id\": \"20837533_22608084\", \"target\": \"22608084\"}}, {\"data\": {\"source\": \"20837533\", \"id\": \"20837533_27135926\", \"target\": \"27135926\"}}, {\"data\": {\"source\": \"20837533\", \"id\": \"20837533_22608083\", \"target\": \"22608083\"}}, {\"data\": {\"source\": \"20837533\", \"id\": \"20837533_27615322\", \"target\": \"27615322\"}}, {\"data\": {\"source\": \"25574665\", \"id\": \"25574665_27604819\", \"target\": \"27604819\"}}, {\"data\": {\"source\": \"27615322\", \"id\": \"27615322_23945592\", \"target\": \"23945592\"}}, {\"data\": {\"source\": \"27615322\", \"id\": \"27615322_20016488\", \"target\": \"20016488\"}}, {\"data\": {\"source\": \"27615322\", \"id\": \"27615322_20080505\", \"target\": \"20080505\"}}, {\"data\": {\"source\": \"27615322\", \"id\": \"27615322_22608084\", \"target\": \"22608084\"}}, {\"data\": {\"source\": \"27615322\", \"id\": \"27615322_22608083\", \"target\": \"22608083\"}}, {\"data\": {\"source\": \"27615322\", \"id\": \"27615322_27135926\", \"target\": \"27135926\"}}, {\"data\": {\"source\": \"27615322\", \"id\": \"27615322_20981101\", \"target\": \"20981101\"}}, {\"data\": {\"source\": \"23028338\", \"id\": \"23028338_20354512\", \"target\": \"20354512\"}}, {\"data\": {\"source\": \"23028338\", \"id\": \"23028338_20981092\", \"target\": \"20981092\"}}, {\"data\": {\"source\": \"22522925\", \"id\": \"22522925_26618344\", \"target\": \"26618344\"}}, {\"data\": {\"source\": \"22522925\", \"id\": \"22522925_27135926\", \"target\": \"27135926\"}}, {\"data\": {\"source\": \"22522925\", \"id\": \"22522925_27498871\", \"target\": \"27498871\"}}, {\"data\": {\"source\": \"15300237\", \"id\": \"15300237_26117541\", \"target\": \"26117541\"}}, {\"data\": {\"source\": \"15300237\", \"id\": \"15300237_21088000\", \"target\": \"21088000\"}}, {\"data\": {\"source\": \"27102296\", \"id\": \"27102296_27765926\", \"target\": \"27765926\"}}, {\"data\": {\"source\": \"21642962\", \"id\": \"21642962_27135926\", \"target\": \"27135926\"}}, {\"data\": {\"source\": \"21642962\", \"id\": \"21642962_22608083\", \"target\": \"22608083\"}}, {\"data\": {\"source\": \"21642962\", \"id\": \"21642962_26647970\", \"target\": \"26647970\"}}, {\"data\": {\"source\": \"21642962\", \"id\": \"21642962_23945592\", \"target\": \"23945592\"}}, {\"data\": {\"source\": \"20981101\", \"id\": \"20981101_22608083\", \"target\": \"22608083\"}}, {\"data\": {\"source\": \"20981101\", \"id\": \"20981101_22567363\", \"target\": \"22567363\"}}, {\"data\": {\"source\": \"27604819\", \"id\": \"27604819_21995386\", \"target\": \"21995386\"}}, {\"data\": {\"source\": \"21088000\", \"id\": \"21088000_19185382\", \"target\": \"19185382\"}}, {\"data\": {\"source\": \"21088000\", \"id\": \"21088000_16434701\", \"target\": \"16434701\"}}, {\"data\": {\"source\": \"21088000\", \"id\": \"21088000_19098224\", \"target\": \"19098224\"}}, {\"data\": {\"source\": \"20393554\", \"id\": \"20393554_23945592\", \"target\": \"23945592\"}}, {\"data\": {\"source\": \"20393554\", \"id\": \"20393554_22608084\", \"target\": \"22608084\"}}, {\"data\": {\"source\": \"20393554\", \"id\": \"20393554_26647970\", \"target\": \"26647970\"}}, {\"data\": {\"source\": \"20354512\", \"id\": \"20354512_26553438\", \"target\": \"26553438\"}}, {\"data\": {\"source\": \"19185382\", \"id\": \"19185382_26117541\", \"target\": \"26117541\"}}, {\"data\": {\"source\": \"27135926\", \"id\": \"27135926_20016485\", \"target\": \"20016485\"}}, {\"data\": {\"source\": \"27135926\", \"id\": \"27135926_20016488\", \"target\": \"20016488\"}}, {\"data\": {\"source\": \"27135926\", \"id\": \"27135926_19561018\", \"target\": \"19561018\"}}, {\"data\": {\"source\": \"27135926\", \"id\": \"27135926_23945592\", \"target\": \"23945592\"}}, {\"data\": {\"source\": \"27135926\", \"id\": \"27135926_22722201\", \"target\": \"22722201\"}}, {\"data\": {\"source\": \"27135926\", \"id\": \"27135926_22608084\", \"target\": \"22608084\"}}, {\"data\": {\"source\": \"27135926\", \"id\": \"27135926_22608083\", \"target\": \"22608083\"}}, {\"data\": {\"source\": \"20016485\", \"id\": \"20016485_22608084\", \"target\": \"22608084\"}}, {\"data\": {\"source\": \"20016485\", \"id\": \"20016485_22608083\", \"target\": \"22608083\"}}, {\"data\": {\"source\": \"20016485\", \"id\": \"20016485_25271376\", \"target\": \"25271376\"}}, {\"data\": {\"source\": \"20016488\", \"id\": \"20016488_22608084\", \"target\": \"22608084\"}}, {\"data\": {\"source\": \"20016488\", \"id\": \"20016488_22608083\", \"target\": \"22608083\"}}, {\"data\": {\"source\": \"20016488\", \"id\": \"20016488_25271376\", \"target\": \"25271376\"}}, {\"data\": {\"source\": \"20016488\", \"id\": \"20016488_17344846\", \"target\": \"17344846\"}}, {\"data\": {\"source\": \"23945592\", \"id\": \"23945592_26647970\", \"target\": \"26647970\"}}, {\"data\": {\"source\": \"23945592\", \"id\": \"23945592_25271376\", \"target\": \"25271376\"}}, {\"data\": {\"source\": \"23945592\", \"id\": \"23945592_22722201\", \"target\": \"22722201\"}}, {\"data\": {\"source\": \"23945592\", \"id\": \"23945592_22608084\", \"target\": \"22608084\"}}, {\"data\": {\"source\": \"23945592\", \"id\": \"23945592_22608083\", \"target\": \"22608083\"}}, {\"data\": {\"source\": \"25271376\", \"id\": \"25271376_22608084\", \"target\": \"22608084\"}}, {\"data\": {\"source\": \"25271376\", \"id\": \"25271376_20981092\", \"target\": \"20981092\"}}, {\"data\": {\"source\": \"25271376\", \"id\": \"25271376_22608083\", \"target\": \"22608083\"}}, {\"data\": {\"source\": \"25271376\", \"id\": \"25271376_17344846\", \"target\": \"17344846\"}}, {\"data\": {\"source\": \"19812674\", \"id\": \"19812674_27498871\", \"target\": \"27498871\"}}, {\"data\": {\"source\": \"19812674\", \"id\": \"19812674_22608084\", \"target\": \"22608084\"}}, {\"data\": {\"source\": \"19812674\", \"id\": \"19812674_22608083\", \"target\": \"22608083\"}}, {\"data\": {\"source\": \"26553438\", \"id\": \"26553438_22955989\", \"target\": \"22955989\"}}, {\"data\": {\"source\": \"21995386\", \"id\": \"21995386_22608083\", \"target\": \"22608083\"}}, {\"data\": {\"source\": \"22608084\", \"id\": \"22608084_17344846\", \"target\": \"17344846\"}}, {\"data\": {\"source\": \"22608084\", \"id\": \"22608084_27498871\", \"target\": \"27498871\"}}, {\"data\": {\"source\": \"22608084\", \"id\": \"22608084_19561018\", \"target\": \"19561018\"}}, {\"data\": {\"source\": \"22608084\", \"id\": \"22608084_20033038\", \"target\": \"20033038\"}}, {\"data\": {\"source\": \"22608083\", \"id\": \"22608083_17344846\", \"target\": \"17344846\"}}, {\"data\": {\"source\": \"22608083\", \"id\": \"22608083_27498871\", \"target\": \"27498871\"}}, {\"data\": {\"source\": \"22608083\", \"id\": \"22608083_20981092\", \"target\": \"20981092\"}}, {\"data\": {\"source\": \"26117541\", \"id\": \"26117541_21846776\", \"target\": \"21846776\"}}, {\"data\": {\"source\": \"26117541\", \"id\": \"26117541_19098224\", \"target\": \"19098224\"}}, {\"data\": {\"source\": \"26117541\", \"id\": \"26117541_22722201\", \"target\": \"22722201\"}}, {\"data\": {\"source\": \"19561018\", \"id\": \"19561018_21248752\", \"target\": \"21248752\"}}, {\"data\": {\"source\": \"25849990\", \"id\": \"25849990_22955989\", \"target\": \"22955989\"}}, {\"data\": {\"source\": \"17344846\", \"id\": \"17344846_20033038\", \"target\": \"20033038\"}}, {\"data\": {\"source\": \"20033038\", \"id\": \"20033038_27498871\", \"target\": \"27498871\"}}]}, \"stats\": {\"pub_years\": {\"values\": [2014, 2014, 2014, 2006, 2014, 2009, 2014, 2012, 2008, 2015, 2009, 2013, 2004, 2013, 2013, 2014, 2011, 2015, 2016, 2008, 2011, 2010, 2015, 2016, 2012, 2012, 2004, 2016, 2011, 2010, 2016, 2011, 2010, 2010, 2009, 2016, 2010, 2010, 2013, 2010, 2014, 2011, 2009, 2015, 2011, 2012, 2012, 2015, 2009, 2011, 2009, 2012, 2015, 2010, 2007, 2012, 2011, 2009, 2012, 2006, 2016, 2016, 2015, 2016], \"num_bin\": 6}, \"top_journals\": \"Nature (17), Nucleic Acids Res. (5), Nat Commun (5), Cell (4), Bioinformatics (4)\", \"num_links\": 178, \"top_authors\": \"Campbell (51), Stratton (29), Futreal (27), Teague (22), Jones (20)\", \"num_citations\": 35, \"num_results\": 29, \"max_degree_cited\": 21}}'"
      ]
     },
     "execution_count": 2,
     "metadata": {},
     "output_type": "execute_result"
    }
   ],
   "source": [
    "import sys\n",
    "sys.path.append('../backend/lib')\n",
    "sys.path.append('../backend')\n",
    "from GraphSession import GraphSession\n",
    "from ResultGraph import ResultGraph\n",
    "from networkx import generate_gml\n",
    "import networkx as nx\n",
    "\n",
    "graphsession = GraphSession('')\n",
    "\n",
    "resultGraph = ResultGraph()\n",
    "resultGraph.G = resultGraph.read_json_file('output/demo_network_pubyear.json')\n",
    "\n",
    "print resultGraph.G.number_of_nodes()\n",
    "\n",
    "resultGraph.extract_by_connectivity(connectivity=3)\n",
    "print resultGraph.G.number_of_nodes()\n",
    "\n",
    "resultGraph.get_graph(graph_format='cytoscape')"
   ]
  },
  {
   "cell_type": "markdown",
   "metadata": {
    "collapsed": true
   },
   "source": [
    "## Debug top journals display"
   ]
  },
  {
   "cell_type": "code",
   "execution_count": 3,
   "metadata": {},
   "outputs": [
    {
     "name": "stderr",
     "output_type": "stream",
     "text": [
      "05/19/2018 04:38:14 PM [INFO]: RequestFullTextSearch: Creating request\n"
     ]
    },
    {
     "name": "stdout",
     "output_type": "stream",
     "text": [
      "370\n",
      "64\n",
      "29\n"
     ]
    },
    {
     "data": {
      "text/plain": [
       "{'max_degree_cited': 21,\n",
       " 'num_citations': 35,\n",
       " 'num_links': 178,\n",
       " 'num_results': 29,\n",
       " 'pub_years': {'num_bin': 6,\n",
       "  'values': [2014,\n",
       "   2014,\n",
       "   2014,\n",
       "   2006,\n",
       "   2014,\n",
       "   2009,\n",
       "   2014,\n",
       "   2012,\n",
       "   2008,\n",
       "   2015,\n",
       "   2009,\n",
       "   2013,\n",
       "   2004,\n",
       "   2013,\n",
       "   2013,\n",
       "   2014,\n",
       "   2011,\n",
       "   2015,\n",
       "   2016,\n",
       "   2008,\n",
       "   2011,\n",
       "   2010,\n",
       "   2015,\n",
       "   2016,\n",
       "   2012,\n",
       "   2012,\n",
       "   2004,\n",
       "   2016,\n",
       "   2011,\n",
       "   2010,\n",
       "   2016,\n",
       "   2011,\n",
       "   2010,\n",
       "   2010,\n",
       "   2009,\n",
       "   2016,\n",
       "   2010,\n",
       "   2010,\n",
       "   2013,\n",
       "   2010,\n",
       "   2014,\n",
       "   2011,\n",
       "   2009,\n",
       "   2015,\n",
       "   2011,\n",
       "   2012,\n",
       "   2012,\n",
       "   2015,\n",
       "   2009,\n",
       "   2011,\n",
       "   2009,\n",
       "   2012,\n",
       "   2015,\n",
       "   2010,\n",
       "   2007,\n",
       "   2012,\n",
       "   2011,\n",
       "   2009,\n",
       "   2012,\n",
       "   2006,\n",
       "   2016,\n",
       "   2016,\n",
       "   2015,\n",
       "   2016]},\n",
       " 'top_authors': 'Campbell (51), Stratton (29), Futreal (27), Teague (22), Jones (20)',\n",
       " 'top_journals': 'Nature (17), Nucleic Acids Res. (5), Nat Commun (5), Cell (4), Bioinformatics (4)'}"
      ]
     },
     "execution_count": 3,
     "metadata": {},
     "output_type": "execute_result"
    }
   ],
   "source": [
    "import sys\n",
    "sys.path.append('../backend/lib')\n",
    "sys.path.append('../backend')\n",
    "from GraphSession import GraphSession\n",
    "from ResultGraph import ResultGraph\n",
    "from networkx import generate_gml\n",
    "import networkx as nx\n",
    "from networkx.readwrite import json_graph\n",
    "\n",
    "graphsession = GraphSession('')\n",
    "\n",
    "resultGraph = ResultGraph()\n",
    "resultGraph.G = resultGraph.read_json_file('output/demo_network_pubyear.json')\n",
    "\n",
    "print resultGraph.G.number_of_nodes()\n",
    "\n",
    "resultGraph.extract_by_connectivity(connectivity=3)\n",
    "print resultGraph.G.number_of_nodes()\n",
    "\n",
    "#resultGraph.get_graph(graph_format='cytoscape')\n",
    "\n",
    "n_json = json_graph.node_link_data(resultGraph.G)\n",
    "search_stats = resultGraph.get_search_stats(n_json)\n",
    "search_stats"
   ]
  },
  {
   "cell_type": "code",
   "execution_count": 16,
   "metadata": {},
   "outputs": [
    {
     "data": {
      "text/plain": [
       "'Nature (17), Nat Commun (6), Nucleic Acids Res. (5), Cell (4), Bioinformatics (4)'"
      ]
     },
     "execution_count": 16,
     "metadata": {},
     "output_type": "execute_result"
    }
   ],
   "source": [
    "from collections import Counter\n",
    "\n",
    "journal_counts = Counter(search_stats['journal_lst'])\n",
    "top_journals = journal_counts.most_common(5)\n",
    "top_journals = ', '.join(['{0} ({1})'.format(journal[0], journal[1]) for journal in top_journals])\n",
    "top_journals"
   ]
  },
  {
   "cell_type": "code",
   "execution_count": 26,
   "metadata": {},
   "outputs": [
    {
     "data": {
      "text/plain": [
       "'Campbell (53), Stratton (30), Futreal (28), Teague (23), Jones (20)'"
      ]
     },
     "execution_count": 26,
     "metadata": {},
     "output_type": "execute_result"
    }
   ],
   "source": [
    "from collections import Counter\n",
    "import itertools\n",
    "\n",
    "author_lst = [node['authors_all'] for node in n_json['nodes']]\n",
    "author_lst = list(itertools.chain.from_iterable(author_lst))\n",
    "author_lst = [author for author in author_lst if author!='']\n",
    "author_counts = Counter(author_lst)\n",
    "top_authors = author_counts.most_common(5)\n",
    "top_authors = ', '.join(['{0} ({1})'.format(author[0], author[1]) for author in top_authors])\n",
    "top_authors"
   ]
  },
  {
   "cell_type": "markdown",
   "metadata": {
    "collapsed": true
   },
   "source": [
    "## Debug pub year histogram"
   ]
  },
  {
   "cell_type": "code",
   "execution_count": 4,
   "metadata": {},
   "outputs": [
    {
     "name": "stderr",
     "output_type": "stream",
     "text": [
      "05/19/2018 04:38:20 PM [INFO]: RequestFullTextSearch: Creating request\n"
     ]
    },
    {
     "name": "stdout",
     "output_type": "stream",
     "text": [
      "370\n",
      "64\n",
      "29\n"
     ]
    },
    {
     "data": {
      "text/plain": [
       "{'max_degree_cited': 21,\n",
       " 'num_citations': 35,\n",
       " 'num_links': 178,\n",
       " 'num_results': 29,\n",
       " 'pub_years': {'num_bin': 6,\n",
       "  'values': [2014,\n",
       "   2014,\n",
       "   2014,\n",
       "   2006,\n",
       "   2014,\n",
       "   2009,\n",
       "   2014,\n",
       "   2012,\n",
       "   2008,\n",
       "   2015,\n",
       "   2009,\n",
       "   2013,\n",
       "   2004,\n",
       "   2013,\n",
       "   2013,\n",
       "   2014,\n",
       "   2011,\n",
       "   2015,\n",
       "   2016,\n",
       "   2008,\n",
       "   2011,\n",
       "   2010,\n",
       "   2015,\n",
       "   2016,\n",
       "   2012,\n",
       "   2012,\n",
       "   2004,\n",
       "   2016,\n",
       "   2011,\n",
       "   2010,\n",
       "   2016,\n",
       "   2011,\n",
       "   2010,\n",
       "   2010,\n",
       "   2009,\n",
       "   2016,\n",
       "   2010,\n",
       "   2010,\n",
       "   2013,\n",
       "   2010,\n",
       "   2014,\n",
       "   2011,\n",
       "   2009,\n",
       "   2015,\n",
       "   2011,\n",
       "   2012,\n",
       "   2012,\n",
       "   2015,\n",
       "   2009,\n",
       "   2011,\n",
       "   2009,\n",
       "   2012,\n",
       "   2015,\n",
       "   2010,\n",
       "   2007,\n",
       "   2012,\n",
       "   2011,\n",
       "   2009,\n",
       "   2012,\n",
       "   2006,\n",
       "   2016,\n",
       "   2016,\n",
       "   2015,\n",
       "   2016]},\n",
       " 'top_authors': 'Campbell (51), Stratton (29), Futreal (27), Teague (22), Jones (20)',\n",
       " 'top_journals': 'Nature (17), Nucleic Acids Res. (5), Nat Commun (5), Cell (4), Bioinformatics (4)'}"
      ]
     },
     "execution_count": 4,
     "metadata": {},
     "output_type": "execute_result"
    }
   ],
   "source": [
    "import sys\n",
    "sys.path.append('../backend/lib')\n",
    "sys.path.append('../backend')\n",
    "from GraphSession import GraphSession\n",
    "from ResultGraph import ResultGraph\n",
    "from networkx import generate_gml\n",
    "import networkx as nx\n",
    "from networkx.readwrite import json_graph\n",
    "\n",
    "graphsession = GraphSession('')\n",
    "\n",
    "resultGraph = ResultGraph()\n",
    "resultGraph.G = resultGraph.read_json_file('output/demo_network_pubyear.json')\n",
    "\n",
    "print resultGraph.G.number_of_nodes()\n",
    "\n",
    "resultGraph.extract_by_connectivity(connectivity=3)\n",
    "print resultGraph.G.number_of_nodes()\n",
    "\n",
    "#resultGraph.get_graph(graph_format='cytoscape')\n",
    "\n",
    "n_json = json_graph.node_link_data(resultGraph.G)\n",
    "search_stats = resultGraph.get_search_stats(n_json)\n",
    "search_stats"
   ]
  },
  {
   "cell_type": "code",
   "execution_count": 5,
   "metadata": {},
   "outputs": [
    {
     "data": {
      "text/plain": [
       "[2014,\n",
       " 2014,\n",
       " 2014,\n",
       " 2006,\n",
       " 2014,\n",
       " 2009,\n",
       " 2014,\n",
       " 2012,\n",
       " 2008,\n",
       " 2015,\n",
       " 2009,\n",
       " 2013,\n",
       " 2004,\n",
       " 2013,\n",
       " 2013,\n",
       " 2014,\n",
       " 2011,\n",
       " 2015,\n",
       " 2016,\n",
       " 2008,\n",
       " 2011,\n",
       " 2010,\n",
       " 2015,\n",
       " 2016,\n",
       " 2012,\n",
       " 2012,\n",
       " 2004,\n",
       " 2016,\n",
       " 2011,\n",
       " 2010,\n",
       " 2016,\n",
       " 2011,\n",
       " 2010,\n",
       " 2010,\n",
       " 2009,\n",
       " 2016,\n",
       " 2010,\n",
       " 2010,\n",
       " 2013,\n",
       " 2010,\n",
       " 2014,\n",
       " 2011,\n",
       " 2009,\n",
       " 2015,\n",
       " 2011,\n",
       " 2012,\n",
       " 2012,\n",
       " 2015,\n",
       " 2009,\n",
       " 2011,\n",
       " 2009,\n",
       " 2012,\n",
       " 2015,\n",
       " 2010,\n",
       " 2007,\n",
       " 2012,\n",
       " 2011,\n",
       " 2009,\n",
       " 2012,\n",
       " 2006,\n",
       " 2016,\n",
       " 2016,\n",
       " 2015,\n",
       " 2016]"
      ]
     },
     "execution_count": 5,
     "metadata": {},
     "output_type": "execute_result"
    }
   ],
   "source": [
    "years_lst = [int(node['year']) for node in n_json['nodes']]\n",
    "years_lst"
   ]
  },
  {
   "cell_type": "code",
   "execution_count": 3,
   "metadata": {},
   "outputs": [
    {
     "data": {
      "text/plain": [
       "[u'2014',\n",
       " u'2014',\n",
       " u'2014',\n",
       " u'2006',\n",
       " u'2014',\n",
       " u'2009',\n",
       " u'2014',\n",
       " u'2012',\n",
       " u'2008',\n",
       " u'2015',\n",
       " u'2009',\n",
       " u'2013',\n",
       " u'2004',\n",
       " u'2013',\n",
       " u'2013',\n",
       " u'2014',\n",
       " u'2011',\n",
       " u'2015',\n",
       " u'2016',\n",
       " u'2008',\n",
       " u'2011',\n",
       " u'2010',\n",
       " u'2015',\n",
       " u'2016',\n",
       " u'2012',\n",
       " u'2012',\n",
       " u'2004',\n",
       " u'2016',\n",
       " u'2011',\n",
       " u'2010',\n",
       " u'2016',\n",
       " u'2011',\n",
       " u'2010',\n",
       " u'2010',\n",
       " u'2009',\n",
       " u'2016',\n",
       " u'2010',\n",
       " u'2010',\n",
       " u'2013',\n",
       " u'2010',\n",
       " u'2014',\n",
       " u'2011',\n",
       " u'2009',\n",
       " u'2015',\n",
       " u'2011',\n",
       " u'2012',\n",
       " u'2012',\n",
       " u'2015',\n",
       " u'2009',\n",
       " u'2011',\n",
       " u'2009',\n",
       " u'2012',\n",
       " u'2015',\n",
       " u'2010',\n",
       " u'2007',\n",
       " u'2012',\n",
       " u'2011',\n",
       " u'2009',\n",
       " u'2012',\n",
       " u'2006',\n",
       " u'2016',\n",
       " u'2016',\n",
       " u'2015',\n",
       " u'2016']"
      ]
     },
     "execution_count": 3,
     "metadata": {},
     "output_type": "execute_result"
    }
   ],
   "source": [
    "years_lst"
   ]
  }
 ],
 "metadata": {
  "kernelspec": {
   "display_name": "Python 2",
   "language": "python",
   "name": "python2"
  },
  "language_info": {
   "codemirror_mode": {
    "name": "ipython",
    "version": 2
   },
   "file_extension": ".py",
   "mimetype": "text/x-python",
   "name": "python",
   "nbconvert_exporter": "python",
   "pygments_lexer": "ipython2",
   "version": "2.7.14"
  }
 },
 "nbformat": 4,
 "nbformat_minor": 2
}
