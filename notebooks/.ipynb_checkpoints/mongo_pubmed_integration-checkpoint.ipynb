{
 "cells": [
  {
   "cell_type": "markdown",
   "metadata": {},
   "source": [
    "# Debugging the integration of the Mongo DB containing parsed Pubmed data"
   ]
  },
  {
   "cell_type": "markdown",
   "metadata": {},
   "source": [
    "### Simulate a browser session"
   ]
  },
  {
   "cell_type": "code",
   "execution_count": 3,
   "metadata": {},
   "outputs": [
    {
     "name": "stderr",
     "output_type": "stream",
     "text": [
      "12/01/2017 04:26:40 PM [INFO]: RequestFullTextSearch: Creating request\n",
      "12/01/2017 04:26:40 PM [INFO]: ConnectEutils: Connecting to eutils API:\n",
      " https://eutils.ncbi.nlm.nih.gov/entrez/eutils/esearch.fcgi?db=pmc&tool=graphsearch&sort=relevance&term=cancer+stratton&retmax=20\n",
      "12/01/2017 04:26:41 PM [INFO]: GraphSession: Found 20 primary search results.\n",
      "12/01/2017 04:26:41 PM [INFO]: MongoSession: Mongo db connection successful\n",
      "12/01/2017 04:26:41 PM [INFO]: ConnectEutils: Connecting to eutils API:\n",
      " https://eutils.ncbi.nlm.nih.gov/entrez/eutils/elink.fcgi?dbfrom=pubmed&linkname=pmc_pmc_cites&id=4910866&tool=GraphSearch\n",
      "12/01/2017 04:26:41 PM [INFO]: ConnectEutils: Connecting to eutils API:\n",
      " https://eutils.ncbi.nlm.nih.gov/entrez/eutils/elink.fcgi?dbfrom=pubmed&linkname=pmc_pmc_cites&id=3986385&tool=GraphSearch\n",
      "12/01/2017 04:26:42 PM [INFO]: ConnectEutils: Connecting to eutils API:\n",
      " https://eutils.ncbi.nlm.nih.gov/entrez/eutils/elink.fcgi?dbfrom=pubmed&linkname=pmc_pmc_cites&id=3776390&tool=GraphSearch\n",
      "12/01/2017 04:26:42 PM [INFO]: ConnectEutils: Connecting to eutils API:\n",
      " https://eutils.ncbi.nlm.nih.gov/entrez/eutils/elink.fcgi?dbfrom=pubmed&linkname=pmc_pmc_cites&id=4737860&tool=GraphSearch\n",
      "12/01/2017 04:26:42 PM [INFO]: ConnectEutils: Connecting to eutils API:\n",
      " https://eutils.ncbi.nlm.nih.gov/entrez/eutils/elink.fcgi?dbfrom=pubmed&linkname=pmc_pmc_cites&id=3799979&tool=GraphSearch\n",
      "12/01/2017 04:26:43 PM [INFO]: ConnectEutils: Connecting to eutils API:\n",
      " https://eutils.ncbi.nlm.nih.gov/entrez/eutils/elink.fcgi?dbfrom=pubmed&linkname=pmc_pmc_cites&id=4086804&tool=GraphSearch\n",
      "12/01/2017 04:26:43 PM [INFO]: ConnectEutils: Connecting to eutils API:\n",
      " https://eutils.ncbi.nlm.nih.gov/entrez/eutils/elink.fcgi?dbfrom=pubmed&linkname=pmc_pmc_cites&id=4251960&tool=GraphSearch\n",
      "12/01/2017 04:26:43 PM [INFO]: ConnectEutils: Connecting to eutils API:\n",
      " https://eutils.ncbi.nlm.nih.gov/entrez/eutils/elink.fcgi?dbfrom=pubmed&linkname=pmc_pmc_cites&id=2937541&tool=GraphSearch\n",
      "12/01/2017 04:26:44 PM [INFO]: ConnectEutils: Connecting to eutils API:\n",
      " https://eutils.ncbi.nlm.nih.gov/entrez/eutils/elink.fcgi?dbfrom=pubmed&linkname=pmc_pmc_cites&id=4137149&tool=GraphSearch\n",
      "12/01/2017 04:26:44 PM [INFO]: ConnectEutils: Connecting to eutils API:\n",
      " https://eutils.ncbi.nlm.nih.gov/entrez/eutils/elink.fcgi?dbfrom=pubmed&linkname=pmc_pmc_cites&id=2940121&tool=GraphSearch\n",
      "12/01/2017 04:26:44 PM [INFO]: ConnectEutils: Connecting to eutils API:\n",
      " https://eutils.ncbi.nlm.nih.gov/entrez/eutils/elink.fcgi?dbfrom=pubmed&linkname=pmc_pmc_cites&id=1180332&tool=GraphSearch\n",
      "12/01/2017 04:26:45 PM [INFO]: ConnectEutils: Connecting to eutils API:\n",
      " https://eutils.ncbi.nlm.nih.gov/entrez/eutils/elink.fcgi?dbfrom=pubmed&linkname=pmc_pmc_cites&id=4967469&tool=GraphSearch\n",
      "12/01/2017 04:26:45 PM [INFO]: ConnectEutils: Connecting to eutils API:\n",
      " https://eutils.ncbi.nlm.nih.gov/entrez/eutils/elink.fcgi?dbfrom=pubmed&linkname=pmc_pmc_cites&id=4907859&tool=GraphSearch\n",
      "12/01/2017 04:26:45 PM [INFO]: ConnectEutils: Connecting to eutils API:\n",
      " https://eutils.ncbi.nlm.nih.gov/entrez/eutils/elink.fcgi?dbfrom=pubmed&linkname=pmc_pmc_cites&id=2880489&tool=GraphSearch\n",
      "12/01/2017 04:26:46 PM [INFO]: ConnectEutils: Connecting to eutils API:\n",
      " https://eutils.ncbi.nlm.nih.gov/entrez/eutils/elink.fcgi?dbfrom=pubmed&linkname=pmc_pmc_cites&id=3145117&tool=GraphSearch\n",
      "12/01/2017 04:26:46 PM [INFO]: ConnectEutils: Connecting to eutils API:\n",
      " https://eutils.ncbi.nlm.nih.gov/entrez/eutils/elink.fcgi?dbfrom=pubmed&linkname=pmc_pmc_cites&id=3270887&tool=GraphSearch\n",
      "12/01/2017 04:26:47 PM [INFO]: ConnectEutils: Connecting to eutils API:\n",
      " https://eutils.ncbi.nlm.nih.gov/entrez/eutils/elink.fcgi?dbfrom=pubmed&linkname=pmc_pmc_cites&id=3588146&tool=GraphSearch\n",
      "12/01/2017 04:26:47 PM [INFO]: ConnectEutils: Connecting to eutils API:\n",
      " https://eutils.ncbi.nlm.nih.gov/entrez/eutils/elink.fcgi?dbfrom=pubmed&linkname=pmc_pmc_cites&id=4527537&tool=GraphSearch\n",
      "12/01/2017 04:26:47 PM [INFO]: ConnectEutils: Connecting to eutils API:\n",
      " https://eutils.ncbi.nlm.nih.gov/entrez/eutils/elink.fcgi?dbfrom=pubmed&linkname=pmc_pmc_cites&id=2705832&tool=GraphSearch\n"
     ]
    },
    {
     "ename": "KeyboardInterrupt",
     "evalue": "",
     "output_type": "error",
     "traceback": [
      "\u001b[0;31m---------------------------------------------------------------------------\u001b[0m",
      "\u001b[0;31mKeyboardInterrupt\u001b[0m                         Traceback (most recent call last)",
      "\u001b[0;32m<ipython-input-3-26152c6b10b5>\u001b[0m in \u001b[0;36m<module>\u001b[0;34m()\u001b[0m\n\u001b[1;32m      8\u001b[0m \u001b[0msearch_input\u001b[0m \u001b[0;34m=\u001b[0m \u001b[0;34m\"cancer stratton\"\u001b[0m\u001b[0;34m\u001b[0m\u001b[0m\n\u001b[1;32m      9\u001b[0m \u001b[0mgraphsession\u001b[0m \u001b[0;34m=\u001b[0m \u001b[0mGraphSession\u001b[0m\u001b[0;34m(\u001b[0m\u001b[0msearch_input\u001b[0m\u001b[0;34m)\u001b[0m\u001b[0;34m\u001b[0m\u001b[0m\n\u001b[0;32m---> 10\u001b[0;31m \u001b[0mcitations\u001b[0m \u001b[0;34m=\u001b[0m \u001b[0mgraphsession\u001b[0m\u001b[0;34m.\u001b[0m\u001b[0mget_citations_from_fulltext\u001b[0m\u001b[0;34m(\u001b[0m\u001b[0msearch_input\u001b[0m\u001b[0;34m)\u001b[0m\u001b[0;34m\u001b[0m\u001b[0m\n\u001b[0m\u001b[1;32m     11\u001b[0m \u001b[0mresultGraph\u001b[0m \u001b[0;34m=\u001b[0m \u001b[0mResultGraph\u001b[0m\u001b[0;34m(\u001b[0m\u001b[0;34m)\u001b[0m\u001b[0;34m\u001b[0m\u001b[0m\n\u001b[1;32m     12\u001b[0m \u001b[0mresultGraph\u001b[0m\u001b[0;34m.\u001b[0m\u001b[0mpopulate_from_cite_dict\u001b[0m\u001b[0;34m(\u001b[0m\u001b[0mcitations\u001b[0m\u001b[0;34m)\u001b[0m\u001b[0;34m\u001b[0m\u001b[0m\n",
      "\u001b[0;32m/home/ubuntu/git/GraphSearch/backend/lib/GraphSession.py\u001b[0m in \u001b[0;36mget_citations_from_fulltext\u001b[0;34m(self, fulltext)\u001b[0m\n\u001b[1;32m     76\u001b[0m         \u001b[0mmsg\u001b[0m \u001b[0;34m=\u001b[0m \u001b[0;34m'{0}: Found {1} primary search results.'\u001b[0m\u001b[0;34m\u001b[0m\u001b[0m\n\u001b[1;32m     77\u001b[0m         \u001b[0mlog\u001b[0m\u001b[0;34m.\u001b[0m\u001b[0minfo\u001b[0m\u001b[0;34m(\u001b[0m\u001b[0mmsg\u001b[0m\u001b[0;34m.\u001b[0m\u001b[0mformat\u001b[0m\u001b[0;34m(\u001b[0m\u001b[0mself\u001b[0m\u001b[0;34m.\u001b[0m\u001b[0m__class__\u001b[0m\u001b[0;34m.\u001b[0m\u001b[0m__name__\u001b[0m\u001b[0;34m,\u001b[0m \u001b[0mstr\u001b[0m\u001b[0;34m(\u001b[0m\u001b[0mlen\u001b[0m\u001b[0;34m(\u001b[0m\u001b[0mprimary_fulltext_results\u001b[0m\u001b[0;34m)\u001b[0m\u001b[0;34m)\u001b[0m\u001b[0;34m)\u001b[0m\u001b[0;34m)\u001b[0m\u001b[0;34m\u001b[0m\u001b[0m\n\u001b[0;32m---> 78\u001b[0;31m         \u001b[0;32mreturn\u001b[0m \u001b[0mself\u001b[0m\u001b[0;34m.\u001b[0m\u001b[0mloadCitations\u001b[0m\u001b[0;34m(\u001b[0m\u001b[0mprimary_fulltext_results\u001b[0m\u001b[0;34m)\u001b[0m\u001b[0;34m\u001b[0m\u001b[0m\n\u001b[0m\u001b[1;32m     79\u001b[0m \u001b[0;34m\u001b[0m\u001b[0m\n\u001b[1;32m     80\u001b[0m     \u001b[0;32mdef\u001b[0m \u001b[0mget_metadataList_from_idList\u001b[0m\u001b[0;34m(\u001b[0m\u001b[0mself\u001b[0m\u001b[0;34m,\u001b[0m \u001b[0midList\u001b[0m\u001b[0;34m)\u001b[0m\u001b[0;34m:\u001b[0m\u001b[0;34m\u001b[0m\u001b[0m\n",
      "\u001b[0;32m/home/ubuntu/git/GraphSearch/backend/lib/GraphSession.py\u001b[0m in \u001b[0;36mloadCitations\u001b[0;34m(pmidList)\u001b[0m\n\u001b[1;32m     62\u001b[0m                 \u001b[0mcitationDict\u001b[0m\u001b[0;34m[\u001b[0m\u001b[0mpmid\u001b[0m\u001b[0;34m]\u001b[0m \u001b[0;34m=\u001b[0m \u001b[0mmongoCursor\u001b[0m\u001b[0;34m[\u001b[0m\u001b[0;34m'citations'\u001b[0m\u001b[0;34m]\u001b[0m\u001b[0;34m\u001b[0m\u001b[0m\n\u001b[1;32m     63\u001b[0m             \u001b[0;32melse\u001b[0m\u001b[0;34m:\u001b[0m\u001b[0;34m\u001b[0m\u001b[0m\n\u001b[0;32m---> 64\u001b[0;31m                 \u001b[0mcitationDict\u001b[0m\u001b[0;34m[\u001b[0m\u001b[0mpmid\u001b[0m\u001b[0;34m]\u001b[0m \u001b[0;34m=\u001b[0m \u001b[0meutils\u001b[0m\u001b[0;34m.\u001b[0m\u001b[0mget_cited_pub\u001b[0m\u001b[0;34m(\u001b[0m\u001b[0mpmid\u001b[0m\u001b[0;34m)\u001b[0m\u001b[0;34m\u001b[0m\u001b[0m\n\u001b[0m\u001b[1;32m     65\u001b[0m                 \u001b[0mmongoSession\u001b[0m\u001b[0;34m.\u001b[0m\u001b[0minsertPublication\u001b[0m\u001b[0;34m(\u001b[0m\u001b[0;34m{\u001b[0m\u001b[0;34m\"pmid\"\u001b[0m \u001b[0;34m:\u001b[0m \u001b[0mpmid\u001b[0m\u001b[0;34m,\u001b[0m \u001b[0;34m\"citations\"\u001b[0m \u001b[0;34m:\u001b[0m \u001b[0mcitationDict\u001b[0m\u001b[0;34m[\u001b[0m\u001b[0mpmid\u001b[0m\u001b[0;34m]\u001b[0m\u001b[0;34m}\u001b[0m\u001b[0;34m)\u001b[0m\u001b[0;34m\u001b[0m\u001b[0m\n\u001b[1;32m     66\u001b[0m         \u001b[0;32mreturn\u001b[0m \u001b[0mcitationDict\u001b[0m\u001b[0;34m\u001b[0m\u001b[0m\n",
      "\u001b[0;32m/home/ubuntu/git/GraphSearch/backend/lib/ConnectEutils.pyc\u001b[0m in \u001b[0;36mget_cited_pub\u001b[0;34m(self, pub_id)\u001b[0m\n\u001b[1;32m    113\u001b[0m         \u001b[0;31m#pub_id = self.get_pmid_from_PMC(pub_id)\u001b[0m\u001b[0;34m\u001b[0m\u001b[0;34m\u001b[0m\u001b[0m\n\u001b[1;32m    114\u001b[0m \u001b[0;34m\u001b[0m\u001b[0m\n\u001b[0;32m--> 115\u001b[0;31m         \u001b[0mpmid_lst\u001b[0m \u001b[0;34m=\u001b[0m \u001b[0mself\u001b[0m\u001b[0;34m.\u001b[0m\u001b[0mget_cited_PMID_elink\u001b[0m\u001b[0;34m(\u001b[0m\u001b[0mpub_id\u001b[0m\u001b[0;34m)\u001b[0m\u001b[0;34m\u001b[0m\u001b[0m\n\u001b[0m\u001b[1;32m    116\u001b[0m         \u001b[0;32mreturn\u001b[0m \u001b[0mpmid_lst\u001b[0m\u001b[0;34m\u001b[0m\u001b[0m\n\u001b[1;32m    117\u001b[0m \u001b[0;34m\u001b[0m\u001b[0m\n",
      "\u001b[0;32m/home/ubuntu/git/GraphSearch/backend/lib/ConnectEutils.pyc\u001b[0m in \u001b[0;36mget_cited_PMID_elink\u001b[0;34m(self, PMID)\u001b[0m\n\u001b[1;32m     84\u001b[0m \u001b[0;34m\u001b[0m\u001b[0m\n\u001b[1;32m     85\u001b[0m         \u001b[0;31m# Parse the Eutils XML as an element tree\u001b[0m\u001b[0;34m\u001b[0m\u001b[0;34m\u001b[0m\u001b[0m\n\u001b[0;32m---> 86\u001b[0;31m         \u001b[0mtree\u001b[0m \u001b[0;34m=\u001b[0m \u001b[0mET\u001b[0m\u001b[0;34m.\u001b[0m\u001b[0mElementTree\u001b[0m\u001b[0;34m(\u001b[0m\u001b[0mfile\u001b[0m\u001b[0;34m=\u001b[0m\u001b[0murllib2\u001b[0m\u001b[0;34m.\u001b[0m\u001b[0murlopen\u001b[0m\u001b[0;34m(\u001b[0m\u001b[0msearch_url\u001b[0m\u001b[0;34m)\u001b[0m\u001b[0;34m)\u001b[0m\u001b[0;34m\u001b[0m\u001b[0m\n\u001b[0m\u001b[1;32m     87\u001b[0m \u001b[0;34m\u001b[0m\u001b[0m\n\u001b[1;32m     88\u001b[0m         \u001b[0;31m# Iterate through element tree to identify tags specifying PMIDs\u001b[0m\u001b[0;34m\u001b[0m\u001b[0;34m\u001b[0m\u001b[0m\n",
      "\u001b[0;32m/home/ubuntu/bin/anacona2/lib/python2.7/urllib2.pyc\u001b[0m in \u001b[0;36murlopen\u001b[0;34m(url, data, timeout, cafile, capath, cadefault, context)\u001b[0m\n\u001b[1;32m    152\u001b[0m     \u001b[0;32melse\u001b[0m\u001b[0;34m:\u001b[0m\u001b[0;34m\u001b[0m\u001b[0m\n\u001b[1;32m    153\u001b[0m         \u001b[0mopener\u001b[0m \u001b[0;34m=\u001b[0m \u001b[0m_opener\u001b[0m\u001b[0;34m\u001b[0m\u001b[0m\n\u001b[0;32m--> 154\u001b[0;31m     \u001b[0;32mreturn\u001b[0m \u001b[0mopener\u001b[0m\u001b[0;34m.\u001b[0m\u001b[0mopen\u001b[0m\u001b[0;34m(\u001b[0m\u001b[0murl\u001b[0m\u001b[0;34m,\u001b[0m \u001b[0mdata\u001b[0m\u001b[0;34m,\u001b[0m \u001b[0mtimeout\u001b[0m\u001b[0;34m)\u001b[0m\u001b[0;34m\u001b[0m\u001b[0m\n\u001b[0m\u001b[1;32m    155\u001b[0m \u001b[0;34m\u001b[0m\u001b[0m\n\u001b[1;32m    156\u001b[0m \u001b[0;32mdef\u001b[0m \u001b[0minstall_opener\u001b[0m\u001b[0;34m(\u001b[0m\u001b[0mopener\u001b[0m\u001b[0;34m)\u001b[0m\u001b[0;34m:\u001b[0m\u001b[0;34m\u001b[0m\u001b[0m\n",
      "\u001b[0;32m/home/ubuntu/bin/anacona2/lib/python2.7/urllib2.pyc\u001b[0m in \u001b[0;36mopen\u001b[0;34m(self, fullurl, data, timeout)\u001b[0m\n\u001b[1;32m    427\u001b[0m             \u001b[0mreq\u001b[0m \u001b[0;34m=\u001b[0m \u001b[0mmeth\u001b[0m\u001b[0;34m(\u001b[0m\u001b[0mreq\u001b[0m\u001b[0;34m)\u001b[0m\u001b[0;34m\u001b[0m\u001b[0m\n\u001b[1;32m    428\u001b[0m \u001b[0;34m\u001b[0m\u001b[0m\n\u001b[0;32m--> 429\u001b[0;31m         \u001b[0mresponse\u001b[0m \u001b[0;34m=\u001b[0m \u001b[0mself\u001b[0m\u001b[0;34m.\u001b[0m\u001b[0m_open\u001b[0m\u001b[0;34m(\u001b[0m\u001b[0mreq\u001b[0m\u001b[0;34m,\u001b[0m \u001b[0mdata\u001b[0m\u001b[0;34m)\u001b[0m\u001b[0;34m\u001b[0m\u001b[0m\n\u001b[0m\u001b[1;32m    430\u001b[0m \u001b[0;34m\u001b[0m\u001b[0m\n\u001b[1;32m    431\u001b[0m         \u001b[0;31m# post-process response\u001b[0m\u001b[0;34m\u001b[0m\u001b[0;34m\u001b[0m\u001b[0m\n",
      "\u001b[0;32m/home/ubuntu/bin/anacona2/lib/python2.7/urllib2.pyc\u001b[0m in \u001b[0;36m_open\u001b[0;34m(self, req, data)\u001b[0m\n\u001b[1;32m    445\u001b[0m         \u001b[0mprotocol\u001b[0m \u001b[0;34m=\u001b[0m \u001b[0mreq\u001b[0m\u001b[0;34m.\u001b[0m\u001b[0mget_type\u001b[0m\u001b[0;34m(\u001b[0m\u001b[0;34m)\u001b[0m\u001b[0;34m\u001b[0m\u001b[0m\n\u001b[1;32m    446\u001b[0m         result = self._call_chain(self.handle_open, protocol, protocol +\n\u001b[0;32m--> 447\u001b[0;31m                                   '_open', req)\n\u001b[0m\u001b[1;32m    448\u001b[0m         \u001b[0;32mif\u001b[0m \u001b[0mresult\u001b[0m\u001b[0;34m:\u001b[0m\u001b[0;34m\u001b[0m\u001b[0m\n\u001b[1;32m    449\u001b[0m             \u001b[0;32mreturn\u001b[0m \u001b[0mresult\u001b[0m\u001b[0;34m\u001b[0m\u001b[0m\n",
      "\u001b[0;32m/home/ubuntu/bin/anacona2/lib/python2.7/urllib2.pyc\u001b[0m in \u001b[0;36m_call_chain\u001b[0;34m(self, chain, kind, meth_name, *args)\u001b[0m\n\u001b[1;32m    405\u001b[0m             \u001b[0mfunc\u001b[0m \u001b[0;34m=\u001b[0m \u001b[0mgetattr\u001b[0m\u001b[0;34m(\u001b[0m\u001b[0mhandler\u001b[0m\u001b[0;34m,\u001b[0m \u001b[0mmeth_name\u001b[0m\u001b[0;34m)\u001b[0m\u001b[0;34m\u001b[0m\u001b[0m\n\u001b[1;32m    406\u001b[0m \u001b[0;34m\u001b[0m\u001b[0m\n\u001b[0;32m--> 407\u001b[0;31m             \u001b[0mresult\u001b[0m \u001b[0;34m=\u001b[0m \u001b[0mfunc\u001b[0m\u001b[0;34m(\u001b[0m\u001b[0;34m*\u001b[0m\u001b[0margs\u001b[0m\u001b[0;34m)\u001b[0m\u001b[0;34m\u001b[0m\u001b[0m\n\u001b[0m\u001b[1;32m    408\u001b[0m             \u001b[0;32mif\u001b[0m \u001b[0mresult\u001b[0m \u001b[0;32mis\u001b[0m \u001b[0;32mnot\u001b[0m \u001b[0mNone\u001b[0m\u001b[0;34m:\u001b[0m\u001b[0;34m\u001b[0m\u001b[0m\n\u001b[1;32m    409\u001b[0m                 \u001b[0;32mreturn\u001b[0m \u001b[0mresult\u001b[0m\u001b[0;34m\u001b[0m\u001b[0m\n",
      "\u001b[0;32m/home/ubuntu/bin/anacona2/lib/python2.7/urllib2.pyc\u001b[0m in \u001b[0;36mhttps_open\u001b[0;34m(self, req)\u001b[0m\n\u001b[1;32m   1239\u001b[0m         \u001b[0;32mdef\u001b[0m \u001b[0mhttps_open\u001b[0m\u001b[0;34m(\u001b[0m\u001b[0mself\u001b[0m\u001b[0;34m,\u001b[0m \u001b[0mreq\u001b[0m\u001b[0;34m)\u001b[0m\u001b[0;34m:\u001b[0m\u001b[0;34m\u001b[0m\u001b[0m\n\u001b[1;32m   1240\u001b[0m             return self.do_open(httplib.HTTPSConnection, req,\n\u001b[0;32m-> 1241\u001b[0;31m                 context=self._context)\n\u001b[0m\u001b[1;32m   1242\u001b[0m \u001b[0;34m\u001b[0m\u001b[0m\n\u001b[1;32m   1243\u001b[0m         \u001b[0mhttps_request\u001b[0m \u001b[0;34m=\u001b[0m \u001b[0mAbstractHTTPHandler\u001b[0m\u001b[0;34m.\u001b[0m\u001b[0mdo_request_\u001b[0m\u001b[0;34m\u001b[0m\u001b[0m\n",
      "\u001b[0;32m/home/ubuntu/bin/anacona2/lib/python2.7/urllib2.pyc\u001b[0m in \u001b[0;36mdo_open\u001b[0;34m(self, http_class, req, **http_conn_args)\u001b[0m\n\u001b[1;32m   1193\u001b[0m \u001b[0;34m\u001b[0m\u001b[0m\n\u001b[1;32m   1194\u001b[0m         \u001b[0;32mtry\u001b[0m\u001b[0;34m:\u001b[0m\u001b[0;34m\u001b[0m\u001b[0m\n\u001b[0;32m-> 1195\u001b[0;31m             \u001b[0mh\u001b[0m\u001b[0;34m.\u001b[0m\u001b[0mrequest\u001b[0m\u001b[0;34m(\u001b[0m\u001b[0mreq\u001b[0m\u001b[0;34m.\u001b[0m\u001b[0mget_method\u001b[0m\u001b[0;34m(\u001b[0m\u001b[0;34m)\u001b[0m\u001b[0;34m,\u001b[0m \u001b[0mreq\u001b[0m\u001b[0;34m.\u001b[0m\u001b[0mget_selector\u001b[0m\u001b[0;34m(\u001b[0m\u001b[0;34m)\u001b[0m\u001b[0;34m,\u001b[0m \u001b[0mreq\u001b[0m\u001b[0;34m.\u001b[0m\u001b[0mdata\u001b[0m\u001b[0;34m,\u001b[0m \u001b[0mheaders\u001b[0m\u001b[0;34m)\u001b[0m\u001b[0;34m\u001b[0m\u001b[0m\n\u001b[0m\u001b[1;32m   1196\u001b[0m         \u001b[0;32mexcept\u001b[0m \u001b[0msocket\u001b[0m\u001b[0;34m.\u001b[0m\u001b[0merror\u001b[0m\u001b[0;34m,\u001b[0m \u001b[0merr\u001b[0m\u001b[0;34m:\u001b[0m \u001b[0;31m# XXX what error?\u001b[0m\u001b[0;34m\u001b[0m\u001b[0m\n\u001b[1;32m   1197\u001b[0m             \u001b[0mh\u001b[0m\u001b[0;34m.\u001b[0m\u001b[0mclose\u001b[0m\u001b[0;34m(\u001b[0m\u001b[0;34m)\u001b[0m\u001b[0;34m\u001b[0m\u001b[0m\n",
      "\u001b[0;32m/home/ubuntu/bin/anacona2/lib/python2.7/httplib.pyc\u001b[0m in \u001b[0;36mrequest\u001b[0;34m(self, method, url, body, headers)\u001b[0m\n\u001b[1;32m   1040\u001b[0m     \u001b[0;32mdef\u001b[0m \u001b[0mrequest\u001b[0m\u001b[0;34m(\u001b[0m\u001b[0mself\u001b[0m\u001b[0;34m,\u001b[0m \u001b[0mmethod\u001b[0m\u001b[0;34m,\u001b[0m \u001b[0murl\u001b[0m\u001b[0;34m,\u001b[0m \u001b[0mbody\u001b[0m\u001b[0;34m=\u001b[0m\u001b[0mNone\u001b[0m\u001b[0;34m,\u001b[0m \u001b[0mheaders\u001b[0m\u001b[0;34m=\u001b[0m\u001b[0;34m{\u001b[0m\u001b[0;34m}\u001b[0m\u001b[0;34m)\u001b[0m\u001b[0;34m:\u001b[0m\u001b[0;34m\u001b[0m\u001b[0m\n\u001b[1;32m   1041\u001b[0m         \u001b[0;34m\"\"\"Send a complete request to the server.\"\"\"\u001b[0m\u001b[0;34m\u001b[0m\u001b[0m\n\u001b[0;32m-> 1042\u001b[0;31m         \u001b[0mself\u001b[0m\u001b[0;34m.\u001b[0m\u001b[0m_send_request\u001b[0m\u001b[0;34m(\u001b[0m\u001b[0mmethod\u001b[0m\u001b[0;34m,\u001b[0m \u001b[0murl\u001b[0m\u001b[0;34m,\u001b[0m \u001b[0mbody\u001b[0m\u001b[0;34m,\u001b[0m \u001b[0mheaders\u001b[0m\u001b[0;34m)\u001b[0m\u001b[0;34m\u001b[0m\u001b[0m\n\u001b[0m\u001b[1;32m   1043\u001b[0m \u001b[0;34m\u001b[0m\u001b[0m\n\u001b[1;32m   1044\u001b[0m     \u001b[0;32mdef\u001b[0m \u001b[0m_set_content_length\u001b[0m\u001b[0;34m(\u001b[0m\u001b[0mself\u001b[0m\u001b[0;34m,\u001b[0m \u001b[0mbody\u001b[0m\u001b[0;34m,\u001b[0m \u001b[0mmethod\u001b[0m\u001b[0;34m)\u001b[0m\u001b[0;34m:\u001b[0m\u001b[0;34m\u001b[0m\u001b[0m\n",
      "\u001b[0;32m/home/ubuntu/bin/anacona2/lib/python2.7/httplib.pyc\u001b[0m in \u001b[0;36m_send_request\u001b[0;34m(self, method, url, body, headers)\u001b[0m\n\u001b[1;32m   1080\u001b[0m         \u001b[0;32mfor\u001b[0m \u001b[0mhdr\u001b[0m\u001b[0;34m,\u001b[0m \u001b[0mvalue\u001b[0m \u001b[0;32min\u001b[0m \u001b[0mheaders\u001b[0m\u001b[0;34m.\u001b[0m\u001b[0miteritems\u001b[0m\u001b[0;34m(\u001b[0m\u001b[0;34m)\u001b[0m\u001b[0;34m:\u001b[0m\u001b[0;34m\u001b[0m\u001b[0m\n\u001b[1;32m   1081\u001b[0m             \u001b[0mself\u001b[0m\u001b[0;34m.\u001b[0m\u001b[0mputheader\u001b[0m\u001b[0;34m(\u001b[0m\u001b[0mhdr\u001b[0m\u001b[0;34m,\u001b[0m \u001b[0mvalue\u001b[0m\u001b[0;34m)\u001b[0m\u001b[0;34m\u001b[0m\u001b[0m\n\u001b[0;32m-> 1082\u001b[0;31m         \u001b[0mself\u001b[0m\u001b[0;34m.\u001b[0m\u001b[0mendheaders\u001b[0m\u001b[0;34m(\u001b[0m\u001b[0mbody\u001b[0m\u001b[0;34m)\u001b[0m\u001b[0;34m\u001b[0m\u001b[0m\n\u001b[0m\u001b[1;32m   1083\u001b[0m \u001b[0;34m\u001b[0m\u001b[0m\n\u001b[1;32m   1084\u001b[0m     \u001b[0;32mdef\u001b[0m \u001b[0mgetresponse\u001b[0m\u001b[0;34m(\u001b[0m\u001b[0mself\u001b[0m\u001b[0;34m,\u001b[0m \u001b[0mbuffering\u001b[0m\u001b[0;34m=\u001b[0m\u001b[0mFalse\u001b[0m\u001b[0;34m)\u001b[0m\u001b[0;34m:\u001b[0m\u001b[0;34m\u001b[0m\u001b[0m\n",
      "\u001b[0;32m/home/ubuntu/bin/anacona2/lib/python2.7/httplib.pyc\u001b[0m in \u001b[0;36mendheaders\u001b[0;34m(self, message_body)\u001b[0m\n\u001b[1;32m   1036\u001b[0m         \u001b[0;32melse\u001b[0m\u001b[0;34m:\u001b[0m\u001b[0;34m\u001b[0m\u001b[0m\n\u001b[1;32m   1037\u001b[0m             \u001b[0;32mraise\u001b[0m \u001b[0mCannotSendHeader\u001b[0m\u001b[0;34m(\u001b[0m\u001b[0;34m)\u001b[0m\u001b[0;34m\u001b[0m\u001b[0m\n\u001b[0;32m-> 1038\u001b[0;31m         \u001b[0mself\u001b[0m\u001b[0;34m.\u001b[0m\u001b[0m_send_output\u001b[0m\u001b[0;34m(\u001b[0m\u001b[0mmessage_body\u001b[0m\u001b[0;34m)\u001b[0m\u001b[0;34m\u001b[0m\u001b[0m\n\u001b[0m\u001b[1;32m   1039\u001b[0m \u001b[0;34m\u001b[0m\u001b[0m\n\u001b[1;32m   1040\u001b[0m     \u001b[0;32mdef\u001b[0m \u001b[0mrequest\u001b[0m\u001b[0;34m(\u001b[0m\u001b[0mself\u001b[0m\u001b[0;34m,\u001b[0m \u001b[0mmethod\u001b[0m\u001b[0;34m,\u001b[0m \u001b[0murl\u001b[0m\u001b[0;34m,\u001b[0m \u001b[0mbody\u001b[0m\u001b[0;34m=\u001b[0m\u001b[0mNone\u001b[0m\u001b[0;34m,\u001b[0m \u001b[0mheaders\u001b[0m\u001b[0;34m=\u001b[0m\u001b[0;34m{\u001b[0m\u001b[0;34m}\u001b[0m\u001b[0;34m)\u001b[0m\u001b[0;34m:\u001b[0m\u001b[0;34m\u001b[0m\u001b[0m\n",
      "\u001b[0;32m/home/ubuntu/bin/anacona2/lib/python2.7/httplib.pyc\u001b[0m in \u001b[0;36m_send_output\u001b[0;34m(self, message_body)\u001b[0m\n\u001b[1;32m    880\u001b[0m             \u001b[0mmsg\u001b[0m \u001b[0;34m+=\u001b[0m \u001b[0mmessage_body\u001b[0m\u001b[0;34m\u001b[0m\u001b[0m\n\u001b[1;32m    881\u001b[0m             \u001b[0mmessage_body\u001b[0m \u001b[0;34m=\u001b[0m \u001b[0mNone\u001b[0m\u001b[0;34m\u001b[0m\u001b[0m\n\u001b[0;32m--> 882\u001b[0;31m         \u001b[0mself\u001b[0m\u001b[0;34m.\u001b[0m\u001b[0msend\u001b[0m\u001b[0;34m(\u001b[0m\u001b[0mmsg\u001b[0m\u001b[0;34m)\u001b[0m\u001b[0;34m\u001b[0m\u001b[0m\n\u001b[0m\u001b[1;32m    883\u001b[0m         \u001b[0;32mif\u001b[0m \u001b[0mmessage_body\u001b[0m \u001b[0;32mis\u001b[0m \u001b[0;32mnot\u001b[0m \u001b[0mNone\u001b[0m\u001b[0;34m:\u001b[0m\u001b[0;34m\u001b[0m\u001b[0m\n\u001b[1;32m    884\u001b[0m             \u001b[0;31m#message_body was not a string (i.e. it is a file) and\u001b[0m\u001b[0;34m\u001b[0m\u001b[0;34m\u001b[0m\u001b[0m\n",
      "\u001b[0;32m/home/ubuntu/bin/anacona2/lib/python2.7/httplib.pyc\u001b[0m in \u001b[0;36msend\u001b[0;34m(self, data)\u001b[0m\n\u001b[1;32m    842\u001b[0m         \u001b[0;32mif\u001b[0m \u001b[0mself\u001b[0m\u001b[0;34m.\u001b[0m\u001b[0msock\u001b[0m \u001b[0;32mis\u001b[0m \u001b[0mNone\u001b[0m\u001b[0;34m:\u001b[0m\u001b[0;34m\u001b[0m\u001b[0m\n\u001b[1;32m    843\u001b[0m             \u001b[0;32mif\u001b[0m \u001b[0mself\u001b[0m\u001b[0;34m.\u001b[0m\u001b[0mauto_open\u001b[0m\u001b[0;34m:\u001b[0m\u001b[0;34m\u001b[0m\u001b[0m\n\u001b[0;32m--> 844\u001b[0;31m                 \u001b[0mself\u001b[0m\u001b[0;34m.\u001b[0m\u001b[0mconnect\u001b[0m\u001b[0;34m(\u001b[0m\u001b[0;34m)\u001b[0m\u001b[0;34m\u001b[0m\u001b[0m\n\u001b[0m\u001b[1;32m    845\u001b[0m             \u001b[0;32melse\u001b[0m\u001b[0;34m:\u001b[0m\u001b[0;34m\u001b[0m\u001b[0m\n\u001b[1;32m    846\u001b[0m                 \u001b[0;32mraise\u001b[0m \u001b[0mNotConnected\u001b[0m\u001b[0;34m(\u001b[0m\u001b[0;34m)\u001b[0m\u001b[0;34m\u001b[0m\u001b[0m\n",
      "\u001b[0;32m/home/ubuntu/bin/anacona2/lib/python2.7/httplib.pyc\u001b[0m in \u001b[0;36mconnect\u001b[0;34m(self)\u001b[0m\n\u001b[1;32m   1253\u001b[0m             \u001b[0;34m\"Connect to a host on a given (SSL) port.\"\u001b[0m\u001b[0;34m\u001b[0m\u001b[0m\n\u001b[1;32m   1254\u001b[0m \u001b[0;34m\u001b[0m\u001b[0m\n\u001b[0;32m-> 1255\u001b[0;31m             \u001b[0mHTTPConnection\u001b[0m\u001b[0;34m.\u001b[0m\u001b[0mconnect\u001b[0m\u001b[0;34m(\u001b[0m\u001b[0mself\u001b[0m\u001b[0;34m)\u001b[0m\u001b[0;34m\u001b[0m\u001b[0m\n\u001b[0m\u001b[1;32m   1256\u001b[0m \u001b[0;34m\u001b[0m\u001b[0m\n\u001b[1;32m   1257\u001b[0m             \u001b[0;32mif\u001b[0m \u001b[0mself\u001b[0m\u001b[0;34m.\u001b[0m\u001b[0m_tunnel_host\u001b[0m\u001b[0;34m:\u001b[0m\u001b[0;34m\u001b[0m\u001b[0m\n",
      "\u001b[0;32m/home/ubuntu/bin/anacona2/lib/python2.7/httplib.pyc\u001b[0m in \u001b[0;36mconnect\u001b[0;34m(self)\u001b[0m\n\u001b[1;32m    819\u001b[0m         \u001b[0;34m\"\"\"Connect to the host and port specified in __init__.\"\"\"\u001b[0m\u001b[0;34m\u001b[0m\u001b[0m\n\u001b[1;32m    820\u001b[0m         self.sock = self._create_connection((self.host,self.port),\n\u001b[0;32m--> 821\u001b[0;31m                                            self.timeout, self.source_address)\n\u001b[0m\u001b[1;32m    822\u001b[0m \u001b[0;34m\u001b[0m\u001b[0m\n\u001b[1;32m    823\u001b[0m         \u001b[0;32mif\u001b[0m \u001b[0mself\u001b[0m\u001b[0;34m.\u001b[0m\u001b[0m_tunnel_host\u001b[0m\u001b[0;34m:\u001b[0m\u001b[0;34m\u001b[0m\u001b[0m\n",
      "\u001b[0;32m/home/ubuntu/bin/anacona2/lib/python2.7/socket.pyc\u001b[0m in \u001b[0;36mcreate_connection\u001b[0;34m(address, timeout, source_address)\u001b[0m\n\u001b[1;32m    564\u001b[0m             \u001b[0;32mif\u001b[0m \u001b[0msource_address\u001b[0m\u001b[0;34m:\u001b[0m\u001b[0;34m\u001b[0m\u001b[0m\n\u001b[1;32m    565\u001b[0m                 \u001b[0msock\u001b[0m\u001b[0;34m.\u001b[0m\u001b[0mbind\u001b[0m\u001b[0;34m(\u001b[0m\u001b[0msource_address\u001b[0m\u001b[0;34m)\u001b[0m\u001b[0;34m\u001b[0m\u001b[0m\n\u001b[0;32m--> 566\u001b[0;31m             \u001b[0msock\u001b[0m\u001b[0;34m.\u001b[0m\u001b[0mconnect\u001b[0m\u001b[0;34m(\u001b[0m\u001b[0msa\u001b[0m\u001b[0;34m)\u001b[0m\u001b[0;34m\u001b[0m\u001b[0m\n\u001b[0m\u001b[1;32m    567\u001b[0m             \u001b[0;32mreturn\u001b[0m \u001b[0msock\u001b[0m\u001b[0;34m\u001b[0m\u001b[0m\n\u001b[1;32m    568\u001b[0m \u001b[0;34m\u001b[0m\u001b[0m\n",
      "\u001b[0;32m/home/ubuntu/bin/anacona2/lib/python2.7/socket.pyc\u001b[0m in \u001b[0;36mmeth\u001b[0;34m(name, self, *args)\u001b[0m\n\u001b[1;32m    226\u001b[0m \u001b[0;34m\u001b[0m\u001b[0m\n\u001b[1;32m    227\u001b[0m \u001b[0;32mdef\u001b[0m \u001b[0mmeth\u001b[0m\u001b[0;34m(\u001b[0m\u001b[0mname\u001b[0m\u001b[0;34m,\u001b[0m\u001b[0mself\u001b[0m\u001b[0;34m,\u001b[0m\u001b[0;34m*\u001b[0m\u001b[0margs\u001b[0m\u001b[0;34m)\u001b[0m\u001b[0;34m:\u001b[0m\u001b[0;34m\u001b[0m\u001b[0m\n\u001b[0;32m--> 228\u001b[0;31m     \u001b[0;32mreturn\u001b[0m \u001b[0mgetattr\u001b[0m\u001b[0;34m(\u001b[0m\u001b[0mself\u001b[0m\u001b[0;34m.\u001b[0m\u001b[0m_sock\u001b[0m\u001b[0;34m,\u001b[0m\u001b[0mname\u001b[0m\u001b[0;34m)\u001b[0m\u001b[0;34m(\u001b[0m\u001b[0;34m*\u001b[0m\u001b[0margs\u001b[0m\u001b[0;34m)\u001b[0m\u001b[0;34m\u001b[0m\u001b[0m\n\u001b[0m\u001b[1;32m    229\u001b[0m \u001b[0;34m\u001b[0m\u001b[0m\n\u001b[1;32m    230\u001b[0m \u001b[0;32mfor\u001b[0m \u001b[0m_m\u001b[0m \u001b[0;32min\u001b[0m \u001b[0m_socketmethods\u001b[0m\u001b[0;34m:\u001b[0m\u001b[0;34m\u001b[0m\u001b[0m\n",
      "\u001b[0;31mKeyboardInterrupt\u001b[0m: "
     ]
    }
   ],
   "source": [
    "import sys\n",
    "sys.path.append('../backend/lib')\n",
    "sys.path.append('../backend')\n",
    "from GraphSession import GraphSession\n",
    "from ResultGraph import ResultGraph\n",
    "from networkx import generate_gml\n",
    "\n",
    "search_input = \"cancer stratton\"\n",
    "graphsession = GraphSession(search_input)\n",
    "citations = graphsession.get_citations_from_fulltext(search_input)\n",
    "resultGraph = ResultGraph()\n",
    "resultGraph.populate_from_cite_dict(citations)\n",
    "resultGraph.get_cy_json()\n",
    "#resultGraph.G\n",
    "#resultGraph.get_graph()\n",
    "#citations"
   ]
  },
  {
   "cell_type": "markdown",
   "metadata": {},
   "source": [
    "### Simulate Mongo browser session"
   ]
  },
  {
   "cell_type": "code",
   "execution_count": 1,
   "metadata": {},
   "outputs": [
    {
     "name": "stderr",
     "output_type": "stream",
     "text": [
      "01/10/2018 11:23:37 AM [INFO]: RequestFullTextSearch: Creating request\n",
      "01/10/2018 11:23:37 AM [INFO]: ConnectEutils: Connecting to eutils API:\n",
      " https://eutils.ncbi.nlm.nih.gov/entrez/eutils/esearch.fcgi?db=pmc&tool=graphsearch&sort=relevance&term=epigenetics+idh+oncogenic&retmax=200\n",
      "01/10/2018 11:23:37 AM [INFO]: MongoSession: Mongo db connection successful\n",
      "01/10/2018 11:23:41 AM [INFO]: MongoSession: Mongo db connection successful\n",
      "01/10/2018 11:23:42 AM [INFO]: Calculating network coordinates...\n",
      "01/10/2018 11:23:48 AM [INFO]: ... done calculating network coordinates.\n"
     ]
    },
    {
     "name": "stdout",
     "output_type": "stream",
     "text": [
      "-0.999999940395 0.975286543369\n"
     ]
    },
    {
     "data": {
      "image/png": "[encoded data removed]",
      "text/plain": [
       "<matplotlib.figure.Figure at 0x7fd943bb43d0>"
      ]
     },
     "metadata": {},
     "output_type": "display_data"
    }
   ],
   "source": [
    "import sys\n",
    "sys.path.append('../backend/lib')\n",
    "sys.path.append('../backend')\n",
    "from GraphSession import GraphSession\n",
    "from ResultGraph import ResultGraph\n",
    "from networkx import generate_gml\n",
    "import networkx as nx\n",
    "import matplotlib.pyplot as plt\n",
    "from numpy import sqrt\n",
    "%matplotlib inline\n",
    "\n",
    "search_input = \"epigenetics idh oncogenic\" #\"nlp genomics\"\n",
    "graphsession = GraphSession(search_input)\n",
    "citations = graphsession.get_citations_from_fulltext_mongo(search_input, retmax=200)\n",
    "resultGraph = ResultGraph()\n",
    "resultGraph.populate_from_cite_dict(citations)\n",
    "        \n",
    "resultGraph.extract_by_connectivity(connectivity=1)\n",
    "resultGraph.extract_by_connectivity(connectivity=0)\n",
    "        \n",
    "# Query metadata\n",
    "metadataList = graphsession.get_metadataList_from_mongo(resultGraph.nodeIds)\n",
    "resultGraph.add_metadata_to_graph(metadataList)\n",
    "#resultGraph.get_cy_json()\n",
    "resultGraph.get_dataui_json()\n",
    "\n",
    "# Calculate positions\n",
    "pos = nx.spring_layout(resultGraph.G, scale=3)\n",
    "mincoord=1000\n",
    "maxcoord=-1000\n",
    "for coord_key, coord in pos.iteritems():\n",
    "    mincoord = min([mincoord, coord[0], coord[1]])\n",
    "    maxcoord = max([maxcoord, coord[0], coord[1]])\n",
    "print mincoord, maxcoord\n",
    "# Draw\n",
    "nx.draw(resultGraph.G,pos,node_color='b', node_size=50, with_labels=False)"
   ]
  },
  {
   "cell_type": "code",
   "execution_count": 2,
   "metadata": {},
   "outputs": [
    {
     "ename": "NameError",
     "evalue": "name 'nx' is not defined",
     "output_type": "error",
     "traceback": [
      "\u001b[0;31m---------------------------------------------------------------------------\u001b[0m",
      "\u001b[0;31mNameError\u001b[0m                                 Traceback (most recent call last)",
      "\u001b[0;32m<ipython-input-2-b020cbeeaad6>\u001b[0m in \u001b[0;36m<module>\u001b[0;34m()\u001b[0m\n\u001b[1;32m      5\u001b[0m \u001b[0;31m#initialpos = {node:(randint(1,100),randint(1,100)) for node in resultGraph.nodeIds}\u001b[0m\u001b[0;34m\u001b[0m\u001b[0;34m\u001b[0m\u001b[0m\n\u001b[1;32m      6\u001b[0m \u001b[0;31m#pos = nx.spring_layout(resultGraph.G, k=1/(sqrt(nx.number_of_nodes(resultGraph.G))*0.5), iterations=50)\u001b[0m\u001b[0;34m\u001b[0m\u001b[0;34m\u001b[0m\u001b[0m\n\u001b[0;32m----> 7\u001b[0;31m \u001b[0mpos\u001b[0m \u001b[0;34m=\u001b[0m \u001b[0mnx\u001b[0m\u001b[0;34m.\u001b[0m\u001b[0mspring_layout\u001b[0m\u001b[0;34m(\u001b[0m\u001b[0mresultGraph\u001b[0m\u001b[0;34m.\u001b[0m\u001b[0mG\u001b[0m\u001b[0;34m,\u001b[0m \u001b[0mk\u001b[0m\u001b[0;34m=\u001b[0m\u001b[0;36m1\u001b[0m\u001b[0;34m/\u001b[0m\u001b[0;34m(\u001b[0m\u001b[0msqrt\u001b[0m\u001b[0;34m(\u001b[0m\u001b[0mnx\u001b[0m\u001b[0;34m.\u001b[0m\u001b[0mnumber_of_nodes\u001b[0m\u001b[0;34m(\u001b[0m\u001b[0mresultGraph\u001b[0m\u001b[0;34m.\u001b[0m\u001b[0mG\u001b[0m\u001b[0;34m)\u001b[0m\u001b[0;34m)\u001b[0m\u001b[0;34m*\u001b[0m\u001b[0;36m0.3\u001b[0m\u001b[0;34m)\u001b[0m\u001b[0;34m,\u001b[0m \u001b[0miterations\u001b[0m\u001b[0;34m=\u001b[0m\u001b[0;36m50\u001b[0m\u001b[0;34m)\u001b[0m\u001b[0;34m\u001b[0m\u001b[0m\n\u001b[0m\u001b[1;32m      8\u001b[0m \u001b[0;34m\u001b[0m\u001b[0m\n\u001b[1;32m      9\u001b[0m \u001b[0;31m#pos = nx.spectral_layout(resultGraph.G)\u001b[0m\u001b[0;34m\u001b[0m\u001b[0;34m\u001b[0m\u001b[0m\n",
      "\u001b[0;31mNameError\u001b[0m: name 'nx' is not defined"
     ]
    }
   ],
   "source": [
    "from random import *\n",
    "seed(1)\n",
    "#print randint(1,100)\n",
    "# Calculate positions\n",
    "#initialpos = {node:(randint(1,100),randint(1,100)) for node in resultGraph.nodeIds}\n",
    "#pos = nx.spring_layout(resultGraph.G, k=1/(sqrt(nx.number_of_nodes(resultGraph.G))*0.5), iterations=50)\n",
    "pos = nx.spring_layout(resultGraph.G, k=1/(sqrt(nx.number_of_nodes(resultGraph.G))*0.3), iterations=50)\n",
    "\n",
    "#pos = nx.spectral_layout(resultGraph.G)\n",
    "\n",
    "# Draw\n",
    "nx.draw(resultGraph.G,pos,node_color='b', node_size=10, with_labels=False)\n"
   ]
  },
  {
   "cell_type": "code",
   "execution_count": 16,
   "metadata": {
    "collapsed": true
   },
   "outputs": [],
   "source": [
    "from numpy import sqrt"
   ]
  },
  {
   "cell_type": "code",
   "execution_count": 1,
   "metadata": {},
   "outputs": [
    {
     "name": "stderr",
     "output_type": "stream",
     "text": [
      "01/06/2018 04:30:14 PM [INFO]: RequestFullTextSearch: Creating request\n",
      "01/06/2018 04:30:14 PM [INFO]: GraphSession: Search input received: martincorena skin cancer stratton\n",
      "01/06/2018 04:30:14 PM [INFO]: ConnectEutils: Connecting to eutils API:\n",
      " https://eutils.ncbi.nlm.nih.gov/entrez/eutils/esearch.fcgi?db=pmc&tool=graphsearch&sort=relevance&term=martincorena+skin+cancer+stratton&retmax=200\n",
      "01/06/2018 04:30:14 PM [INFO]: MongoSession: Mongo db connection successful\n",
      "01/06/2018 04:30:16 PM [INFO]: MongoSession: Mongo db connection successful\n",
      "01/06/2018 04:30:16 PM [INFO]: Calculating network coordinates...\n",
      "01/06/2018 04:30:16 PM [INFO]: ... done calculating network coordinates.\n"
     ]
    },
    {
     "data": {
      "text/plain": [
       "'{\"nodes\": [{\"opacity\": 0.8, \"journal\": \"Cell reports\", \"authors\": \"Alexandrov, Nik-Zainal, Wedge ...\", \"id\": \"23318258\", \"size\": 10, \"group\": \"Cited\", \"pubDate\": \"Jan 2013\", \"title\": \"Deciphering signatures of mutational processes operative in human cancer.\", \"label\": \"23318258\", \"y\": -0.7647605804860489, \"x\": -0.0853706619465267, \"type\": \"ref\"}, {\"opacity\": 0.8, \"journal\": \"Science (New York, N.Y.)\", \"authors\": \"Martincorena, Roshan, Gerstung ...\", \"id\": \"25999502\", \"size\": 10, \"group\": \"Cited\", \"pubDate\": \"May 2015\", \"title\": \"Tumor evolution. High burden and pervasive positive selection of somatic mutations in normal human skin.\", \"label\": \"25999502\", \"y\": -0.6594721342915526, \"x\": -1.0, \"type\": \"ref\"}, {\"opacity\": 0.8, \"journal\": \"Nature\", \"authors\": \"Stratton, Campbell, Futreal ...\", \"id\": \"19360079\", \"size\": 10, \"group\": \"Cited\", \"pubDate\": \"Apr 2009\", \"title\": \"The cancer genome.\", \"label\": \"19360079\", \"y\": -0.4065845321578023, \"x\": 0.08586515112944526, \"type\": \"ref\"}, {\"opacity\": 0.8, \"journal\": \"Nature\", \"authors\": \"Lawrence, Stojanov, Mermel ...\", \"id\": \"24390350\", \"size\": 10, \"group\": \"Cited\", \"pubDate\": \"Jan 2014\", \"title\": \"Discovery and saturation analysis of cancer genes across 21 tumour types.\", \"label\": \"24390350\", \"y\": 0.7687449018248685, \"x\": -0.06865784283745642, \"type\": \"ref\"}, {\"opacity\": 0.8, \"journal\": \"eLife\", \"authors\": \"Strakova, N\\\\u00ed Leathlobhair, Wang ...\", \"id\": \"27185408\", \"size\": 10, \"group\": \"Searched\", \"pubDate\": \"May 2016\", \"title\": \"Mitochondrial genetic diversity, selection and recombination in a canine transmissible cancer.\", \"label\": \"27185408\", \"y\": -0.32437106225706147, \"x\": -0.4507241409210723, \"type\": \"ref\"}, {\"opacity\": 0.8, \"journal\": \"Nature\", \"authors\": \"Shah, Roth, Goya ...\", \"id\": \"22495314\", \"size\": 10, \"group\": \"Cited\", \"pubDate\": \"Apr 2012\", \"title\": \"The clonal and mutational evolution spectrum of primary triple-negative breast cancers.\", \"label\": \"22495314\", \"y\": 0.5485172681913805, \"x\": 0.6836615277222959, \"type\": \"ref\"}, {\"opacity\": 0.8, \"journal\": \"Nature\", \"authors\": \"Stephens, Tarpey, Davies ...\", \"id\": \"22722201\", \"size\": 10, \"group\": \"Cited\", \"pubDate\": \"May 2012\", \"title\": \"The landscape of cancer genes and mutational processes in breast cancer.\", \"label\": \"22722201\", \"y\": 0.7590782895538365, \"x\": 0.3772726706896346, \"type\": \"ref\"}, {\"opacity\": 0.8, \"journal\": \"Proceedings of the National Academy of Sciences of the United States of America\", \"authors\": \"Van Loo, Nordgard, Lingj\\\\u00e6rde ...\", \"id\": \"20837533\", \"size\": 10, \"group\": \"Cited\", \"pubDate\": \"Sep 2010\", \"title\": \"Allele-specific copy number analysis of tumors.\", \"label\": \"20837533\", \"y\": -0.4727293129387496, \"x\": 0.6230211154929514, \"type\": \"ref\"}, {\"opacity\": 0.8, \"journal\": \"Nature\", \"authors\": \"Ellis, Ding, Shen ...\", \"id\": \"22722193\", \"size\": 10, \"group\": \"Cited\", \"pubDate\": \"Jun 2012\", \"title\": \"Whole-genome analysis informs breast cancer response to aromatase inhibition.\", \"label\": \"22722193\", \"y\": -0.14183364862284936, \"x\": 0.8221092400695352, \"type\": \"ref\"}, {\"opacity\": 0.8, \"journal\": \"Cell\", \"authors\": \"Nik-Zainal, Alexandrov, Wedge ...\", \"id\": \"22608084\", \"size\": 10, \"group\": \"Cited\", \"pubDate\": \"May 2012\", \"title\": \"Mutational processes molding the genomes of 21 breast cancers.\", \"label\": \"22608084\", \"y\": -0.020851485572362324, \"x\": -0.4196371000568179, \"type\": \"ref\"}, {\"opacity\": 0.8, \"journal\": \"Bioinformatics (Oxford, England)\", \"authors\": \"Li, Durbin ...\", \"id\": \"19451168\", \"size\": 10, \"group\": \"Cited\", \"pubDate\": \"Jul 2009\", \"title\": \"Fast and accurate short read alignment with Burrows-Wheeler transform.\", \"label\": \"19451168\", \"y\": 0.19851917530896032, \"x\": -0.18035559545097582, \"type\": \"ref\"}, {\"opacity\": 0.8, \"journal\": \"Nature\", \"authors\": \" ...\", \"id\": \"23000897\", \"size\": 10, \"group\": \"Cited\", \"pubDate\": \"Oct 2012\", \"title\": \"Comprehensive molecular portraits of human breast tumours.\", \"label\": \"23000897\", \"y\": 0.21293551061686794, \"x\": 0.8305953568344101, \"type\": \"ref\"}, {\"opacity\": 0.8, \"journal\": \"Nature\", \"authors\": \"Alexandrov, Nik-Zainal, Wedge ...\", \"id\": \"23945592\", \"size\": 10, \"group\": \"Cited\", \"pubDate\": \"Aug 2013\", \"title\": \"Signatures of mutational processes in human cancer.\", \"label\": \"23945592\", \"y\": -0.4630154713287432, \"x\": -0.19177379337106645, \"type\": \"ref\"}, {\"opacity\": 0.8, \"journal\": \"Nature\", \"authors\": \"Banerji, Cibulskis, Rangel-Escareno ...\", \"id\": \"22722202\", \"size\": 10, \"group\": \"Cited\", \"pubDate\": \"Jun 2012\", \"title\": \"Sequence analysis of mutations and translocations across breast cancer subtypes.\", \"label\": \"22722202\", \"y\": 0.14381372341373722, \"x\": -0.6799787093526579, \"type\": \"ref\"}, {\"opacity\": 0.8, \"journal\": \"Nature\", \"authors\": \"Nik-Zainal, Davies, Staaf ...\", \"id\": \"27135926\", \"size\": 10, \"group\": \"Cited\", \"pubDate\": \"May 2016\", \"title\": \"Landscape of somatic mutations in 560 breast cancer whole-genome sequences.\", \"label\": \"27135926\", \"y\": 0.07913261732319403, \"x\": 0.13663436511852142, \"type\": \"ref\"}, {\"opacity\": 0.8, \"journal\": \"Cell\", \"authors\": \"Nik-Zainal, Van Loo, Wedge ...\", \"id\": \"22608083\", \"size\": 10, \"group\": \"Cited\", \"pubDate\": \"May 2012\", \"title\": \"The life history of 21 breast cancers.\", \"label\": \"22608083\", \"y\": 0.5428767414223247, \"x\": -0.4826615831202204, \"type\": \"ref\"}], \"edges\": [{\"source\": \"23318258\", \"id\": \"23318258_27135926\", \"target\": \"27135926\"}, {\"source\": \"25999502\", \"id\": \"25999502_27185408\", \"target\": \"27185408\"}, {\"source\": \"19360079\", \"id\": \"19360079_27185408\", \"target\": \"27185408\"}, {\"source\": \"19360079\", \"id\": \"19360079_27135926\", \"target\": \"27135926\"}, {\"source\": \"24390350\", \"id\": \"24390350_27135926\", \"target\": \"27135926\"}, {\"source\": \"27185408\", \"id\": \"27185408_22608084\", \"target\": \"22608084\"}, {\"source\": \"27185408\", \"id\": \"27185408_19451168\", \"target\": \"19451168\"}, {\"source\": \"27185408\", \"id\": \"27185408_23945592\", \"target\": \"23945592\"}, {\"source\": \"22495314\", \"id\": \"22495314_27135926\", \"target\": \"27135926\"}, {\"source\": \"22722201\", \"id\": \"22722201_27135926\", \"target\": \"27135926\"}, {\"source\": \"20837533\", \"id\": \"20837533_27135926\", \"target\": \"27135926\"}, {\"source\": \"22722193\", \"id\": \"22722193_27135926\", \"target\": \"27135926\"}, {\"source\": \"22608084\", \"id\": \"22608084_27135926\", \"target\": \"27135926\"}, {\"source\": \"19451168\", \"id\": \"19451168_27135926\", \"target\": \"27135926\"}, {\"source\": \"23000897\", \"id\": \"23000897_27135926\", \"target\": \"27135926\"}, {\"source\": \"23945592\", \"id\": \"23945592_27135926\", \"target\": \"27135926\"}, {\"source\": \"22722202\", \"id\": \"22722202_27135926\", \"target\": \"27135926\"}, {\"source\": \"27135926\", \"id\": \"27135926_22608083\", \"target\": \"22608083\"}]}'"
      ]
     },
     "execution_count": 1,
     "metadata": {},
     "output_type": "execute_result"
    }
   ],
   "source": [
    "import sys\n",
    "sys.path.append('../backend/lib')\n",
    "sys.path.append('../backend')\n",
    "from GraphSession import GraphSession\n",
    "from ResultGraph import ResultGraph\n",
    "from networkx import generate_gml\n",
    "from MongoSession import MongoSession\n",
    "\n",
    "\n",
    "search_input = \"martincorena skin cancer stratton\"\n",
    "graphsession = GraphSession(search_input)\n",
    "#citations = graphsession.get_citations_from_fulltext_mongo(search_input, retmax=10)\n",
    "graphsession.get_cy_json()\n",
    "\n",
    "#print searched_pmc\n",
    "\n",
    "# Query references for the searched_pmc\n",
    "#mg = MongoSession.fromConnectionString()\n",
    "#pmcCursor = mongoSession.findPublicationByPMID(pmid)\n",
    "#pmid_refs = mg.findRefsOfPMC(searched_pmc)\n",
    "#print pmid_refs\n",
    "# Query metadata for all articles\n",
    "\n",
    "#resultGraph = ResultGraph()\n",
    "#resultGraph.populate_from_cite_dict(citations)\n",
    "#print resultGraph.nodeIds\n",
    "#metadataList = graphsession.get_metadataList_from_mongo(resultGraph.nodeIds)\n",
    "#for node in resultGraph.G:\n",
    "#    print (resultGraph.G.node[node]['name'],)\n",
    "#    print [dict['Id'] for dict in metadataList if str(dict['Id']) in (str(resultGraph.G.node[node]['name']),)][0]\n",
    "#    break\n",
    "#print metadataList\n",
    "\n",
    "#resultGraph.add_metadata_to_graph(metadataList)\n",
    "#resultGraph.get_cy_json()\n",
    "#resultGraph.G\n",
    "\n",
    "#resultGraph.G\n",
    "#resultGraph.get_graph()\n",
    "#citations\n",
    "#citations\n",
    "#print len(citations)"
   ]
  },
  {
   "cell_type": "code",
   "execution_count": null,
   "metadata": {
    "collapsed": true
   },
   "outputs": [],
   "source": [
    "graphsession.loadCitations"
   ]
  }
 ],
 "metadata": {
  "kernelspec": {
   "display_name": "Python 2",
   "language": "python",
   "name": "python2"
  },
  "language_info": {
   "codemirror_mode": {
    "name": "ipython",
    "version": 2
   },
   "file_extension": ".py",
   "mimetype": "text/x-python",
   "name": "python",
   "nbconvert_exporter": "python",
   "pygments_lexer": "ipython2",
   "version": "2.7.14"
  }
 },
 "nbformat": 4,
 "nbformat_minor": 2
}
