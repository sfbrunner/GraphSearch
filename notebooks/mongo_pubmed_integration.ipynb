{
 "cells": [
  {
   "cell_type": "markdown",
   "metadata": {},
   "source": [
    "# Debugging the integration of the Mongo DB containing parsed Pubmed data"
   ]
  },
  {
   "cell_type": "markdown",
   "metadata": {},
   "source": [
    "### Simulate a browser session"
   ]
  },
  {
   "cell_type": "code",
   "execution_count": 1,
   "metadata": {
    "collapsed": false
   },
   "outputs": [
    {
     "name": "stdout",
     "output_type": "stream",
     "text": [
      "not lh\n"
     ]
    },
    {
     "name": "stderr",
     "output_type": "stream",
     "text": [
      "10/05/2017 09:41:32 PM [INFO]: RequestFullTextSearch: Creating request\n",
      "10/05/2017 09:41:32 PM [INFO]: ConnectEutils: Connecting to eutils API:\n",
      " https://eutils.ncbi.nlm.nih.gov/entrez/eutils/esearch.fcgi?db=pmc&tool=graphsearch&sort=relevance&term=cancer+stratton&retmax=20\n",
      "10/05/2017 09:41:33 PM [INFO]: ConnectEutils: Search result returned id 4910866\n",
      "10/05/2017 09:41:33 PM [INFO]: ConnectEutils: Search result returned id 3986385\n",
      "10/05/2017 09:41:33 PM [INFO]: ConnectEutils: Search result returned id 3776390\n",
      "10/05/2017 09:41:33 PM [INFO]: ConnectEutils: Search result returned id 4737860\n",
      "10/05/2017 09:41:33 PM [INFO]: ConnectEutils: Search result returned id 3799979\n",
      "10/05/2017 09:41:33 PM [INFO]: ConnectEutils: Search result returned id 4086804\n",
      "10/05/2017 09:41:33 PM [INFO]: ConnectEutils: Search result returned id 4251960\n",
      "10/05/2017 09:41:33 PM [INFO]: ConnectEutils: Search result returned id 2937541\n",
      "10/05/2017 09:41:33 PM [INFO]: ConnectEutils: Search result returned id 4137149\n",
      "10/05/2017 09:41:33 PM [INFO]: ConnectEutils: Search result returned id 2940121\n",
      "10/05/2017 09:41:33 PM [INFO]: ConnectEutils: Search result returned id 1180332\n",
      "10/05/2017 09:41:33 PM [INFO]: ConnectEutils: Search result returned id 4967469\n",
      "10/05/2017 09:41:33 PM [INFO]: ConnectEutils: Search result returned id 4907859\n",
      "10/05/2017 09:41:33 PM [INFO]: ConnectEutils: Search result returned id 2880489\n",
      "10/05/2017 09:41:33 PM [INFO]: ConnectEutils: Search result returned id 3145117\n",
      "10/05/2017 09:41:33 PM [INFO]: ConnectEutils: Search result returned id 3270887\n",
      "10/05/2017 09:41:33 PM [INFO]: ConnectEutils: Search result returned id 3588146\n",
      "10/05/2017 09:41:33 PM [INFO]: ConnectEutils: Search result returned id 4527537\n",
      "10/05/2017 09:41:33 PM [INFO]: ConnectEutils: Search result returned id 2705832\n",
      "10/05/2017 09:41:33 PM [INFO]: ConnectEutils: Search result returned id 2587392\n",
      "10/05/2017 09:41:33 PM [INFO]: MongoSession: Mongo db connection successful\n",
      "10/05/2017 09:41:33 PM [INFO]: ConnectEutils: Connecting to eutils API:\n",
      " https://eutils.ncbi.nlm.nih.gov/entrez/eutils/elink.fcgi?dbfrom=pubmed&linkname=pmc_pmc_cites&id=4910866&tool=GraphSearch\n",
      "10/05/2017 09:41:33 PM [INFO]: ConnectEutils: Connecting to eutils API:\n",
      " https://eutils.ncbi.nlm.nih.gov/entrez/eutils/elink.fcgi?dbfrom=pubmed&linkname=pmc_pmc_cites&id=3986385&tool=GraphSearch\n",
      "10/05/2017 09:41:33 PM [INFO]: ConnectEutils: Connecting to eutils API:\n",
      " https://eutils.ncbi.nlm.nih.gov/entrez/eutils/elink.fcgi?dbfrom=pubmed&linkname=pmc_pmc_cites&id=3776390&tool=GraphSearch\n",
      "10/05/2017 09:41:34 PM [INFO]: ConnectEutils: Connecting to eutils API:\n",
      " https://eutils.ncbi.nlm.nih.gov/entrez/eutils/elink.fcgi?dbfrom=pubmed&linkname=pmc_pmc_cites&id=4737860&tool=GraphSearch\n",
      "10/05/2017 09:41:34 PM [INFO]: ConnectEutils: Connecting to eutils API:\n",
      " https://eutils.ncbi.nlm.nih.gov/entrez/eutils/elink.fcgi?dbfrom=pubmed&linkname=pmc_pmc_cites&id=3799979&tool=GraphSearch\n",
      "10/05/2017 09:41:34 PM [INFO]: ConnectEutils: Connecting to eutils API:\n",
      " https://eutils.ncbi.nlm.nih.gov/entrez/eutils/elink.fcgi?dbfrom=pubmed&linkname=pmc_pmc_cites&id=4086804&tool=GraphSearch\n",
      "10/05/2017 09:41:35 PM [INFO]: ConnectEutils: Connecting to eutils API:\n",
      " https://eutils.ncbi.nlm.nih.gov/entrez/eutils/elink.fcgi?dbfrom=pubmed&linkname=pmc_pmc_cites&id=4251960&tool=GraphSearch\n",
      "10/05/2017 09:41:35 PM [INFO]: ConnectEutils: Connecting to eutils API:\n",
      " https://eutils.ncbi.nlm.nih.gov/entrez/eutils/elink.fcgi?dbfrom=pubmed&linkname=pmc_pmc_cites&id=2937541&tool=GraphSearch\n",
      "10/05/2017 09:41:35 PM [INFO]: ConnectEutils: Connecting to eutils API:\n",
      " https://eutils.ncbi.nlm.nih.gov/entrez/eutils/elink.fcgi?dbfrom=pubmed&linkname=pmc_pmc_cites&id=4137149&tool=GraphSearch\n",
      "10/05/2017 09:41:36 PM [INFO]: ConnectEutils: Connecting to eutils API:\n",
      " https://eutils.ncbi.nlm.nih.gov/entrez/eutils/elink.fcgi?dbfrom=pubmed&linkname=pmc_pmc_cites&id=2940121&tool=GraphSearch\n",
      "10/05/2017 09:41:36 PM [INFO]: ConnectEutils: Connecting to eutils API:\n",
      " https://eutils.ncbi.nlm.nih.gov/entrez/eutils/elink.fcgi?dbfrom=pubmed&linkname=pmc_pmc_cites&id=1180332&tool=GraphSearch\n",
      "10/05/2017 09:41:36 PM [INFO]: ConnectEutils: Connecting to eutils API:\n",
      " https://eutils.ncbi.nlm.nih.gov/entrez/eutils/elink.fcgi?dbfrom=pubmed&linkname=pmc_pmc_cites&id=4967469&tool=GraphSearch\n",
      "10/05/2017 09:41:36 PM [INFO]: ConnectEutils: Connecting to eutils API:\n",
      " https://eutils.ncbi.nlm.nih.gov/entrez/eutils/elink.fcgi?dbfrom=pubmed&linkname=pmc_pmc_cites&id=4907859&tool=GraphSearch\n",
      "10/05/2017 09:41:37 PM [INFO]: ConnectEutils: Connecting to eutils API:\n",
      " https://eutils.ncbi.nlm.nih.gov/entrez/eutils/elink.fcgi?dbfrom=pubmed&linkname=pmc_pmc_cites&id=2880489&tool=GraphSearch\n",
      "10/05/2017 09:41:37 PM [INFO]: ConnectEutils: Connecting to eutils API:\n",
      " https://eutils.ncbi.nlm.nih.gov/entrez/eutils/elink.fcgi?dbfrom=pubmed&linkname=pmc_pmc_cites&id=3145117&tool=GraphSearch\n",
      "10/05/2017 09:41:37 PM [INFO]: ConnectEutils: Connecting to eutils API:\n",
      " https://eutils.ncbi.nlm.nih.gov/entrez/eutils/elink.fcgi?dbfrom=pubmed&linkname=pmc_pmc_cites&id=3270887&tool=GraphSearch\n",
      "10/05/2017 09:41:38 PM [INFO]: ConnectEutils: Connecting to eutils API:\n",
      " https://eutils.ncbi.nlm.nih.gov/entrez/eutils/elink.fcgi?dbfrom=pubmed&linkname=pmc_pmc_cites&id=3588146&tool=GraphSearch\n",
      "10/05/2017 09:41:38 PM [INFO]: ConnectEutils: Connecting to eutils API:\n",
      " https://eutils.ncbi.nlm.nih.gov/entrez/eutils/elink.fcgi?dbfrom=pubmed&linkname=pmc_pmc_cites&id=4527537&tool=GraphSearch\n",
      "10/05/2017 09:41:38 PM [INFO]: ConnectEutils: Connecting to eutils API:\n",
      " https://eutils.ncbi.nlm.nih.gov/entrez/eutils/elink.fcgi?dbfrom=pubmed&linkname=pmc_pmc_cites&id=2705832&tool=GraphSearch\n",
      "10/05/2017 09:41:39 PM [INFO]: ConnectEutils: Connecting to eutils API:\n",
      " https://eutils.ncbi.nlm.nih.gov/entrez/eutils/elink.fcgi?dbfrom=pubmed&linkname=pmc_pmc_cites&id=2587392&tool=GraphSearch\n"
     ]
    },
    {
     "name": "stdout",
     "output_type": "stream",
     "text": [
      "2880489\n",
      "2705832\n",
      "4737860\n",
      "3270887\n",
      "1180332\n",
      "3799979\n",
      "4907859\n",
      "3776390\n",
      "4086804\n",
      "4910866\n",
      "3588146\n",
      "4137149\n",
      "2937541\n",
      "4251960\n",
      "3145117\n",
      "2587392\n",
      "3986385\n",
      "4967469\n",
      "4527537\n"
     ]
    },
    {
     "ename": "KeyError",
     "evalue": "'title'",
     "output_type": "error",
     "traceback": [
      "\u001b[0;31m---------------------------------------------------------------------------\u001b[0m",
      "\u001b[0;31mKeyError\u001b[0m                                  Traceback (most recent call last)",
      "\u001b[0;32m<ipython-input-1-7322c04b9d4b>\u001b[0m in \u001b[0;36m<module>\u001b[0;34m()\u001b[0m\n\u001b[1;32m     11\u001b[0m \u001b[0mresultGraph\u001b[0m \u001b[0;34m=\u001b[0m \u001b[0mResultGraph\u001b[0m\u001b[0;34m(\u001b[0m\u001b[0;34m)\u001b[0m\u001b[0;34m\u001b[0m\u001b[0m\n\u001b[1;32m     12\u001b[0m \u001b[0mresultGraph\u001b[0m\u001b[0;34m.\u001b[0m\u001b[0mpopulate_from_cite_dict\u001b[0m\u001b[0;34m(\u001b[0m\u001b[0mcitations\u001b[0m\u001b[0;34m)\u001b[0m\u001b[0;34m\u001b[0m\u001b[0m\n\u001b[0;32m---> 13\u001b[0;31m \u001b[0mresultGraph\u001b[0m\u001b[0;34m.\u001b[0m\u001b[0mget_cy_json\u001b[0m\u001b[0;34m(\u001b[0m\u001b[0;34m)\u001b[0m\u001b[0;34m\u001b[0m\u001b[0m\n\u001b[0m\u001b[1;32m     14\u001b[0m \u001b[0;31m#resultGraph.G\u001b[0m\u001b[0;34m\u001b[0m\u001b[0;34m\u001b[0m\u001b[0m\n\u001b[1;32m     15\u001b[0m \u001b[0;31m#resultGraph.get_graph()\u001b[0m\u001b[0;34m\u001b[0m\u001b[0;34m\u001b[0m\u001b[0m\n",
      "\u001b[0;32m/home/ubuntu/GraphSearch/web/lib/ResultGraph.pyc\u001b[0m in \u001b[0;36mget_cy_json\u001b[0;34m(self)\u001b[0m\n\u001b[1;32m     67\u001b[0m                                       \u001b[0;34m'name'\u001b[0m\u001b[0;34m:\u001b[0m \u001b[0mnode\u001b[0m\u001b[0;34m[\u001b[0m\u001b[0;34m'id'\u001b[0m\u001b[0;34m]\u001b[0m\u001b[0;34m,\u001b[0m\u001b[0;34m\u001b[0m\u001b[0m\n\u001b[1;32m     68\u001b[0m                                       \u001b[0;34m'group'\u001b[0m\u001b[0;34m:\u001b[0m\u001b[0mnode\u001b[0m\u001b[0;34m[\u001b[0m\u001b[0;34m'group'\u001b[0m\u001b[0;34m]\u001b[0m\u001b[0;34m,\u001b[0m\u001b[0;34m\u001b[0m\u001b[0m\n\u001b[0;32m---> 69\u001b[0;31m                                       \u001b[0;34m'title'\u001b[0m\u001b[0;34m:\u001b[0m\u001b[0mnode\u001b[0m\u001b[0;34m[\u001b[0m\u001b[0;34m'title'\u001b[0m\u001b[0;34m]\u001b[0m\u001b[0;34m,\u001b[0m\u001b[0;34m\u001b[0m\u001b[0m\n\u001b[0m\u001b[1;32m     70\u001b[0m                                       \u001b[0;34m'journal'\u001b[0m\u001b[0;34m:\u001b[0m\u001b[0mnode\u001b[0m\u001b[0;34m[\u001b[0m\u001b[0;34m'journal'\u001b[0m\u001b[0;34m]\u001b[0m\u001b[0;34m,\u001b[0m\u001b[0;34m\u001b[0m\u001b[0m\n\u001b[1;32m     71\u001b[0m                                       \u001b[0;34m'pubDate'\u001b[0m\u001b[0;34m:\u001b[0m\u001b[0mnode\u001b[0m\u001b[0;34m[\u001b[0m\u001b[0;34m'pubDate'\u001b[0m\u001b[0;34m]\u001b[0m\u001b[0;34m,\u001b[0m\u001b[0;34m\u001b[0m\u001b[0m\n",
      "\u001b[0;31mKeyError\u001b[0m: 'title'"
     ]
    }
   ],
   "source": [
    "import sys\n",
    "sys.path.append('../web/lib')\n",
    "sys.path.append('../web')\n",
    "from GraphSession import GraphSession\n",
    "from ResultGraph import ResultGraph\n",
    "from networkx import generate_gml\n",
    "\n",
    "search_input = \"cancer stratton\"\n",
    "graphsession = GraphSession(search_input)\n",
    "citations = graphsession.get_citations_from_fulltext(search_input)\n",
    "resultGraph = ResultGraph()\n",
    "resultGraph.populate_from_cite_dict(citations)\n",
    "resultGraph.get_cy_json()\n",
    "#resultGraph.G\n",
    "#resultGraph.get_graph()\n",
    "#citations"
   ]
  },
  {
   "cell_type": "code",
   "execution_count": 2,
   "metadata": {
    "collapsed": false
   },
   "outputs": [
    {
     "name": "stderr",
     "output_type": "stream",
     "text": [
      "10/06/2017 09:11:30 AM [INFO]: RequestFullTextSearch: Creating request\n",
      "10/06/2017 09:11:30 AM [INFO]: GraphSession: Search input received: cancer stratton\n",
      "10/06/2017 09:11:30 AM [INFO]: ConnectEutils: Connecting to eutils API:\n",
      " https://eutils.ncbi.nlm.nih.gov/entrez/eutils/esearch.fcgi?db=pmc&tool=graphsearch&sort=relevance&term=cancer+stratton&retmax=200\n",
      "10/06/2017 09:11:30 AM [INFO]: MongoSession: Mongo db connection successful\n",
      "10/06/2017 09:11:30 AM [INFO]: MongoSession: Mongo db connection successful\n"
     ]
    },
    {
     "ename": "RuntimeError",
     "evalue": "Working outside of application context.\n\nThis typically means that you attempted to use functionality that needed\nto interface with the current application object in a way.  To solve\nthis set up an application context with app.app_context().  See the\ndocumentation for more information.",
     "output_type": "error",
     "traceback": [
      "\u001b[0;31m---------------------------------------------------------------------------\u001b[0m",
      "\u001b[0;31mRuntimeError\u001b[0m                              Traceback (most recent call last)",
      "\u001b[0;32m<ipython-input-2-ddd26ae2ee24>\u001b[0m in \u001b[0;36m<module>\u001b[0;34m()\u001b[0m\n\u001b[1;32m     11\u001b[0m \u001b[0mgraphsession\u001b[0m \u001b[0;34m=\u001b[0m \u001b[0mGraphSession\u001b[0m\u001b[0;34m(\u001b[0m\u001b[0msearch_input\u001b[0m\u001b[0;34m)\u001b[0m\u001b[0;34m\u001b[0m\u001b[0m\n\u001b[1;32m     12\u001b[0m \u001b[0;31m#citations = graphsession.get_citations_from_fulltext_mongo(search_input, retmax=10)\u001b[0m\u001b[0;34m\u001b[0m\u001b[0;34m\u001b[0m\u001b[0m\n\u001b[0;32m---> 13\u001b[0;31m \u001b[0mgraphsession\u001b[0m\u001b[0;34m.\u001b[0m\u001b[0mget_cy_json\u001b[0m\u001b[0;34m(\u001b[0m\u001b[0;34m)\u001b[0m\u001b[0;34m\u001b[0m\u001b[0m\n\u001b[0m\u001b[1;32m     14\u001b[0m \u001b[0;34m\u001b[0m\u001b[0m\n\u001b[1;32m     15\u001b[0m \u001b[0;31m#print searched_pmc\u001b[0m\u001b[0;34m\u001b[0m\u001b[0;34m\u001b[0m\u001b[0m\n",
      "\u001b[0;32m/home/ubuntu/GraphSearch/web/lib/GraphSession.pyc\u001b[0m in \u001b[0;36mget_cy_json\u001b[0;34m(self)\u001b[0m\n\u001b[1;32m     31\u001b[0m         \u001b[0mresultGraph\u001b[0m\u001b[0;34m.\u001b[0m\u001b[0madd_metadata_to_graph\u001b[0m\u001b[0;34m(\u001b[0m\u001b[0mmetadataList\u001b[0m\u001b[0;34m)\u001b[0m\u001b[0;34m\u001b[0m\u001b[0m\n\u001b[1;32m     32\u001b[0m \u001b[0;34m\u001b[0m\u001b[0m\n\u001b[0;32m---> 33\u001b[0;31m         \u001b[0;32mreturn\u001b[0m \u001b[0mresultGraph\u001b[0m\u001b[0;34m.\u001b[0m\u001b[0mget_cy_json\u001b[0m\u001b[0;34m(\u001b[0m\u001b[0;34m)\u001b[0m\u001b[0;34m\u001b[0m\u001b[0m\n\u001b[0m\u001b[1;32m     34\u001b[0m \u001b[0;34m\u001b[0m\u001b[0m\n\u001b[1;32m     35\u001b[0m     \u001b[0;34m@\u001b[0m\u001b[0mstaticmethod\u001b[0m\u001b[0;34m\u001b[0m\u001b[0m\n",
      "\u001b[0;32m/home/ubuntu/GraphSearch/web/lib/ResultGraph.py\u001b[0m in \u001b[0;36mget_cy_json\u001b[0;34m(self)\u001b[0m\n\u001b[1;32m     76\u001b[0m         \u001b[0mcy_dict\u001b[0m \u001b[0;34m=\u001b[0m \u001b[0;34m{\u001b[0m\u001b[0;34m'nodes'\u001b[0m\u001b[0;34m:\u001b[0m \u001b[0mnode_lst\u001b[0m\u001b[0;34m,\u001b[0m \u001b[0;34m'edges'\u001b[0m\u001b[0;34m:\u001b[0m \u001b[0medge_lst\u001b[0m\u001b[0;34m}\u001b[0m\u001b[0;34m\u001b[0m\u001b[0m\n\u001b[1;32m     77\u001b[0m \u001b[0;34m\u001b[0m\u001b[0m\n\u001b[0;32m---> 78\u001b[0;31m         \u001b[0;32mreturn\u001b[0m \u001b[0mjsonify\u001b[0m\u001b[0;34m(\u001b[0m\u001b[0mcy_dict\u001b[0m\u001b[0;34m)\u001b[0m\u001b[0;34m\u001b[0m\u001b[0m\n\u001b[0m\u001b[1;32m     79\u001b[0m \u001b[0;34m\u001b[0m\u001b[0m\n\u001b[1;32m     80\u001b[0m     \u001b[0;32mdef\u001b[0m \u001b[0mextract_by_connectivity\u001b[0m\u001b[0;34m(\u001b[0m\u001b[0mself\u001b[0m\u001b[0;34m,\u001b[0m \u001b[0mconnectivity\u001b[0m\u001b[0;34m=\u001b[0m\u001b[0;36m2\u001b[0m\u001b[0;34m)\u001b[0m\u001b[0;34m:\u001b[0m\u001b[0;34m\u001b[0m\u001b[0m\n",
      "\u001b[0;32m/usr/local/lib/python2.7/dist-packages/flask/json.pyc\u001b[0m in \u001b[0;36mjsonify\u001b[0;34m(*args, **kwargs)\u001b[0m\n\u001b[1;32m    252\u001b[0m     \u001b[0mseparators\u001b[0m \u001b[0;34m=\u001b[0m \u001b[0;34m(\u001b[0m\u001b[0;34m','\u001b[0m\u001b[0;34m,\u001b[0m \u001b[0;34m':'\u001b[0m\u001b[0;34m)\u001b[0m\u001b[0;34m\u001b[0m\u001b[0m\n\u001b[1;32m    253\u001b[0m \u001b[0;34m\u001b[0m\u001b[0m\n\u001b[0;32m--> 254\u001b[0;31m     \u001b[0;32mif\u001b[0m \u001b[0mcurrent_app\u001b[0m\u001b[0;34m.\u001b[0m\u001b[0mconfig\u001b[0m\u001b[0;34m[\u001b[0m\u001b[0;34m'JSONIFY_PRETTYPRINT_REGULAR'\u001b[0m\u001b[0;34m]\u001b[0m \u001b[0;32mand\u001b[0m \u001b[0;32mnot\u001b[0m \u001b[0mrequest\u001b[0m\u001b[0;34m.\u001b[0m\u001b[0mis_xhr\u001b[0m\u001b[0;34m:\u001b[0m\u001b[0;34m\u001b[0m\u001b[0m\n\u001b[0m\u001b[1;32m    255\u001b[0m         \u001b[0mindent\u001b[0m \u001b[0;34m=\u001b[0m \u001b[0;36m2\u001b[0m\u001b[0;34m\u001b[0m\u001b[0m\n\u001b[1;32m    256\u001b[0m         \u001b[0mseparators\u001b[0m \u001b[0;34m=\u001b[0m \u001b[0;34m(\u001b[0m\u001b[0;34m', '\u001b[0m\u001b[0;34m,\u001b[0m \u001b[0;34m': '\u001b[0m\u001b[0;34m)\u001b[0m\u001b[0;34m\u001b[0m\u001b[0m\n",
      "\u001b[0;32m/usr/local/lib/python2.7/dist-packages/werkzeug/local.pyc\u001b[0m in \u001b[0;36m__getattr__\u001b[0;34m(self, name)\u001b[0m\n\u001b[1;32m    341\u001b[0m         \u001b[0;32mif\u001b[0m \u001b[0mname\u001b[0m \u001b[0;34m==\u001b[0m \u001b[0;34m'__members__'\u001b[0m\u001b[0;34m:\u001b[0m\u001b[0;34m\u001b[0m\u001b[0m\n\u001b[1;32m    342\u001b[0m             \u001b[0;32mreturn\u001b[0m \u001b[0mdir\u001b[0m\u001b[0;34m(\u001b[0m\u001b[0mself\u001b[0m\u001b[0;34m.\u001b[0m\u001b[0m_get_current_object\u001b[0m\u001b[0;34m(\u001b[0m\u001b[0;34m)\u001b[0m\u001b[0;34m)\u001b[0m\u001b[0;34m\u001b[0m\u001b[0m\n\u001b[0;32m--> 343\u001b[0;31m         \u001b[0;32mreturn\u001b[0m \u001b[0mgetattr\u001b[0m\u001b[0;34m(\u001b[0m\u001b[0mself\u001b[0m\u001b[0;34m.\u001b[0m\u001b[0m_get_current_object\u001b[0m\u001b[0;34m(\u001b[0m\u001b[0;34m)\u001b[0m\u001b[0;34m,\u001b[0m \u001b[0mname\u001b[0m\u001b[0;34m)\u001b[0m\u001b[0;34m\u001b[0m\u001b[0m\n\u001b[0m\u001b[1;32m    344\u001b[0m \u001b[0;34m\u001b[0m\u001b[0m\n\u001b[1;32m    345\u001b[0m     \u001b[0;32mdef\u001b[0m \u001b[0m__setitem__\u001b[0m\u001b[0;34m(\u001b[0m\u001b[0mself\u001b[0m\u001b[0;34m,\u001b[0m \u001b[0mkey\u001b[0m\u001b[0;34m,\u001b[0m \u001b[0mvalue\u001b[0m\u001b[0;34m)\u001b[0m\u001b[0;34m:\u001b[0m\u001b[0;34m\u001b[0m\u001b[0m\n",
      "\u001b[0;32m/usr/local/lib/python2.7/dist-packages/werkzeug/local.pyc\u001b[0m in \u001b[0;36m_get_current_object\u001b[0;34m(self)\u001b[0m\n\u001b[1;32m    300\u001b[0m         \"\"\"\n\u001b[1;32m    301\u001b[0m         \u001b[0;32mif\u001b[0m \u001b[0;32mnot\u001b[0m \u001b[0mhasattr\u001b[0m\u001b[0;34m(\u001b[0m\u001b[0mself\u001b[0m\u001b[0;34m.\u001b[0m\u001b[0m__local\u001b[0m\u001b[0;34m,\u001b[0m \u001b[0;34m'__release_local__'\u001b[0m\u001b[0;34m)\u001b[0m\u001b[0;34m:\u001b[0m\u001b[0;34m\u001b[0m\u001b[0m\n\u001b[0;32m--> 302\u001b[0;31m             \u001b[0;32mreturn\u001b[0m \u001b[0mself\u001b[0m\u001b[0;34m.\u001b[0m\u001b[0m__local\u001b[0m\u001b[0;34m(\u001b[0m\u001b[0;34m)\u001b[0m\u001b[0;34m\u001b[0m\u001b[0m\n\u001b[0m\u001b[1;32m    303\u001b[0m         \u001b[0;32mtry\u001b[0m\u001b[0;34m:\u001b[0m\u001b[0;34m\u001b[0m\u001b[0m\n\u001b[1;32m    304\u001b[0m             \u001b[0;32mreturn\u001b[0m \u001b[0mgetattr\u001b[0m\u001b[0;34m(\u001b[0m\u001b[0mself\u001b[0m\u001b[0;34m.\u001b[0m\u001b[0m__local\u001b[0m\u001b[0;34m,\u001b[0m \u001b[0mself\u001b[0m\u001b[0;34m.\u001b[0m\u001b[0m__name__\u001b[0m\u001b[0;34m)\u001b[0m\u001b[0;34m\u001b[0m\u001b[0m\n",
      "\u001b[0;32m/usr/local/lib/python2.7/dist-packages/flask/globals.pyc\u001b[0m in \u001b[0;36m_find_app\u001b[0;34m()\u001b[0m\n\u001b[1;32m     49\u001b[0m     \u001b[0mtop\u001b[0m \u001b[0;34m=\u001b[0m \u001b[0m_app_ctx_stack\u001b[0m\u001b[0;34m.\u001b[0m\u001b[0mtop\u001b[0m\u001b[0;34m\u001b[0m\u001b[0m\n\u001b[1;32m     50\u001b[0m     \u001b[0;32mif\u001b[0m \u001b[0mtop\u001b[0m \u001b[0;32mis\u001b[0m \u001b[0mNone\u001b[0m\u001b[0;34m:\u001b[0m\u001b[0;34m\u001b[0m\u001b[0m\n\u001b[0;32m---> 51\u001b[0;31m         \u001b[0;32mraise\u001b[0m \u001b[0mRuntimeError\u001b[0m\u001b[0;34m(\u001b[0m\u001b[0m_app_ctx_err_msg\u001b[0m\u001b[0;34m)\u001b[0m\u001b[0;34m\u001b[0m\u001b[0m\n\u001b[0m\u001b[1;32m     52\u001b[0m     \u001b[0;32mreturn\u001b[0m \u001b[0mtop\u001b[0m\u001b[0;34m.\u001b[0m\u001b[0mapp\u001b[0m\u001b[0;34m\u001b[0m\u001b[0m\n\u001b[1;32m     53\u001b[0m \u001b[0;34m\u001b[0m\u001b[0m\n",
      "\u001b[0;31mRuntimeError\u001b[0m: Working outside of application context.\n\nThis typically means that you attempted to use functionality that needed\nto interface with the current application object in a way.  To solve\nthis set up an application context with app.app_context().  See the\ndocumentation for more information."
     ]
    }
   ],
   "source": [
    "import sys\n",
    "sys.path.append('../web/lib')\n",
    "sys.path.append('../web')\n",
    "from GraphSession import GraphSession\n",
    "from ResultGraph import ResultGraph\n",
    "from networkx import generate_gml\n",
    "from MongoSession import MongoSession\n",
    "\n",
    "\n",
    "search_input = \"cancer stratton\"\n",
    "graphsession = GraphSession(search_input)\n",
    "#citations = graphsession.get_citations_from_fulltext_mongo(search_input, retmax=10)\n",
    "graphsession.get_cy_json()\n",
    "\n",
    "#print searched_pmc\n",
    "\n",
    "# Query references for the searched_pmc\n",
    "#mg = MongoSession.fromConnectionString()\n",
    "#pmcCursor = mongoSession.findPublicationByPMID(pmid)\n",
    "#pmid_refs = mg.findRefsOfPMC(searched_pmc)\n",
    "#print pmid_refs\n",
    "# Query metadata for all articles\n",
    "\n",
    "#resultGraph = ResultGraph()\n",
    "#resultGraph.populate_from_cite_dict(citations)\n",
    "#print resultGraph.nodeIds\n",
    "#metadataList = graphsession.get_metadataList_from_mongo(resultGraph.nodeIds)\n",
    "#for node in resultGraph.G:\n",
    "#    print (resultGraph.G.node[node]['name'],)\n",
    "#    print [dict['Id'] for dict in metadataList if str(dict['Id']) in (str(resultGraph.G.node[node]['name']),)][0]\n",
    "#    break\n",
    "#print metadataList\n",
    "\n",
    "#resultGraph.add_metadata_to_graph(metadataList)\n",
    "#resultGraph.get_cy_json()\n",
    "#resultGraph.G\n",
    "\n",
    "#resultGraph.G\n",
    "#resultGraph.get_graph()\n",
    "#citations\n",
    "#citations\n",
    "#print len(citations)"
   ]
  },
  {
   "cell_type": "code",
   "execution_count": null,
   "metadata": {
    "collapsed": true
   },
   "outputs": [],
   "source": []
  }
 ],
 "metadata": {
  "kernelspec": {
   "display_name": "Python 2",
   "language": "python",
   "name": "python2"
  },
  "language_info": {
   "codemirror_mode": {
    "name": "ipython",
    "version": 2
   },
   "file_extension": ".py",
   "mimetype": "text/x-python",
   "name": "python",
   "nbconvert_exporter": "python",
   "pygments_lexer": "ipython2",
   "version": "2.7.12"
  }
 },
 "nbformat": 4,
 "nbformat_minor": 2
}
