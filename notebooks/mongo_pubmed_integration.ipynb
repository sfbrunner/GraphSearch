{
 "cells": [
  {
   "cell_type": "markdown",
   "metadata": {},
   "source": [
    "# Debugging the integration of the Mongo DB containing parsed Pubmed data"
   ]
  },
  {
   "cell_type": "markdown",
   "metadata": {},
   "source": [
    "### Simulate a browser session"
   ]
  },
  {
   "cell_type": "code",
   "execution_count": 2,
   "metadata": {},
   "outputs": [
    {
     "name": "stderr",
     "output_type": "stream",
     "text": [
      "11/25/2017 03:23:33 PM [INFO]: RequestFullTextSearch: Creating request\n",
      "11/25/2017 03:23:33 PM [INFO]: ConnectEutils: Connecting to eutils API:\n",
      " https://eutils.ncbi.nlm.nih.gov/entrez/eutils/esearch.fcgi?db=pmc&tool=graphsearch&sort=relevance&term=cancer+stratton&retmax=20\n",
      "11/25/2017 03:23:33 PM [INFO]: GraphSession: Found 20 primary search results.\n",
      "11/25/2017 03:23:33 PM [INFO]: MongoSession: Mongo db connection successful\n",
      "11/25/2017 03:23:33 PM [INFO]: ConnectEutils: Connecting to eutils API:\n",
      " https://eutils.ncbi.nlm.nih.gov/entrez/eutils/elink.fcgi?dbfrom=pubmed&linkname=pmc_pmc_cites&id=4910866&tool=GraphSearch\n",
      "11/25/2017 03:23:34 PM [INFO]: ConnectEutils: Connecting to eutils API:\n",
      " https://eutils.ncbi.nlm.nih.gov/entrez/eutils/elink.fcgi?dbfrom=pubmed&linkname=pmc_pmc_cites&id=3986385&tool=GraphSearch\n",
      "11/25/2017 03:23:34 PM [INFO]: ConnectEutils: Connecting to eutils API:\n",
      " https://eutils.ncbi.nlm.nih.gov/entrez/eutils/elink.fcgi?dbfrom=pubmed&linkname=pmc_pmc_cites&id=3776390&tool=GraphSearch\n",
      "11/25/2017 03:23:34 PM [INFO]: ConnectEutils: Connecting to eutils API:\n",
      " https://eutils.ncbi.nlm.nih.gov/entrez/eutils/elink.fcgi?dbfrom=pubmed&linkname=pmc_pmc_cites&id=4737860&tool=GraphSearch\n",
      "11/25/2017 03:23:35 PM [INFO]: ConnectEutils: Connecting to eutils API:\n",
      " https://eutils.ncbi.nlm.nih.gov/entrez/eutils/elink.fcgi?dbfrom=pubmed&linkname=pmc_pmc_cites&id=3799979&tool=GraphSearch\n",
      "11/25/2017 03:23:35 PM [INFO]: ConnectEutils: Connecting to eutils API:\n",
      " https://eutils.ncbi.nlm.nih.gov/entrez/eutils/elink.fcgi?dbfrom=pubmed&linkname=pmc_pmc_cites&id=4086804&tool=GraphSearch\n",
      "11/25/2017 03:23:35 PM [INFO]: ConnectEutils: Connecting to eutils API:\n",
      " https://eutils.ncbi.nlm.nih.gov/entrez/eutils/elink.fcgi?dbfrom=pubmed&linkname=pmc_pmc_cites&id=2937541&tool=GraphSearch\n",
      "11/25/2017 03:23:36 PM [INFO]: ConnectEutils: Connecting to eutils API:\n",
      " https://eutils.ncbi.nlm.nih.gov/entrez/eutils/elink.fcgi?dbfrom=pubmed&linkname=pmc_pmc_cites&id=4251960&tool=GraphSearch\n",
      "11/25/2017 03:23:36 PM [INFO]: ConnectEutils: Connecting to eutils API:\n",
      " https://eutils.ncbi.nlm.nih.gov/entrez/eutils/elink.fcgi?dbfrom=pubmed&linkname=pmc_pmc_cites&id=4137149&tool=GraphSearch\n",
      "11/25/2017 03:23:36 PM [INFO]: ConnectEutils: Connecting to eutils API:\n",
      " https://eutils.ncbi.nlm.nih.gov/entrez/eutils/elink.fcgi?dbfrom=pubmed&linkname=pmc_pmc_cites&id=2940121&tool=GraphSearch\n",
      "11/25/2017 03:23:37 PM [INFO]: ConnectEutils: Connecting to eutils API:\n",
      " https://eutils.ncbi.nlm.nih.gov/entrez/eutils/elink.fcgi?dbfrom=pubmed&linkname=pmc_pmc_cites&id=1180332&tool=GraphSearch\n",
      "11/25/2017 03:23:37 PM [INFO]: ConnectEutils: Connecting to eutils API:\n",
      " https://eutils.ncbi.nlm.nih.gov/entrez/eutils/elink.fcgi?dbfrom=pubmed&linkname=pmc_pmc_cites&id=4967469&tool=GraphSearch\n",
      "11/25/2017 03:23:37 PM [INFO]: ConnectEutils: Connecting to eutils API:\n",
      " https://eutils.ncbi.nlm.nih.gov/entrez/eutils/elink.fcgi?dbfrom=pubmed&linkname=pmc_pmc_cites&id=4907859&tool=GraphSearch\n",
      "11/25/2017 03:23:38 PM [INFO]: ConnectEutils: Connecting to eutils API:\n",
      " https://eutils.ncbi.nlm.nih.gov/entrez/eutils/elink.fcgi?dbfrom=pubmed&linkname=pmc_pmc_cites&id=2880489&tool=GraphSearch\n",
      "11/25/2017 03:23:38 PM [INFO]: ConnectEutils: Connecting to eutils API:\n",
      " https://eutils.ncbi.nlm.nih.gov/entrez/eutils/elink.fcgi?dbfrom=pubmed&linkname=pmc_pmc_cites&id=3145117&tool=GraphSearch\n",
      "11/25/2017 03:23:38 PM [INFO]: ConnectEutils: Connecting to eutils API:\n",
      " https://eutils.ncbi.nlm.nih.gov/entrez/eutils/elink.fcgi?dbfrom=pubmed&linkname=pmc_pmc_cites&id=3270887&tool=GraphSearch\n",
      "11/25/2017 03:23:39 PM [INFO]: ConnectEutils: Connecting to eutils API:\n",
      " https://eutils.ncbi.nlm.nih.gov/entrez/eutils/elink.fcgi?dbfrom=pubmed&linkname=pmc_pmc_cites&id=3588146&tool=GraphSearch\n",
      "11/25/2017 03:23:39 PM [INFO]: ConnectEutils: Connecting to eutils API:\n",
      " https://eutils.ncbi.nlm.nih.gov/entrez/eutils/elink.fcgi?dbfrom=pubmed&linkname=pmc_pmc_cites&id=4527537&tool=GraphSearch\n",
      "11/25/2017 03:23:39 PM [INFO]: ConnectEutils: Connecting to eutils API:\n",
      " https://eutils.ncbi.nlm.nih.gov/entrez/eutils/elink.fcgi?dbfrom=pubmed&linkname=pmc_pmc_cites&id=2705832&tool=GraphSearch\n",
      "11/25/2017 03:23:40 PM [INFO]: ConnectEutils: Connecting to eutils API:\n",
      " https://eutils.ncbi.nlm.nih.gov/entrez/eutils/elink.fcgi?dbfrom=pubmed&linkname=pmc_pmc_cites&id=2587392&tool=GraphSearch\n"
     ]
    },
    {
     "ename": "KeyError",
     "evalue": "'title'",
     "output_type": "error",
     "traceback": [
      "\u001b[0;31m---------------------------------------------------------------------------\u001b[0m",
      "\u001b[0;31mKeyError\u001b[0m                                  Traceback (most recent call last)",
      "\u001b[0;32m<ipython-input-2-26152c6b10b5>\u001b[0m in \u001b[0;36m<module>\u001b[0;34m()\u001b[0m\n\u001b[1;32m     11\u001b[0m \u001b[0mresultGraph\u001b[0m \u001b[0;34m=\u001b[0m \u001b[0mResultGraph\u001b[0m\u001b[0;34m(\u001b[0m\u001b[0;34m)\u001b[0m\u001b[0;34m\u001b[0m\u001b[0m\n\u001b[1;32m     12\u001b[0m \u001b[0mresultGraph\u001b[0m\u001b[0;34m.\u001b[0m\u001b[0mpopulate_from_cite_dict\u001b[0m\u001b[0;34m(\u001b[0m\u001b[0mcitations\u001b[0m\u001b[0;34m)\u001b[0m\u001b[0;34m\u001b[0m\u001b[0m\n\u001b[0;32m---> 13\u001b[0;31m \u001b[0mresultGraph\u001b[0m\u001b[0;34m.\u001b[0m\u001b[0mget_cy_json\u001b[0m\u001b[0;34m(\u001b[0m\u001b[0;34m)\u001b[0m\u001b[0;34m\u001b[0m\u001b[0m\n\u001b[0m\u001b[1;32m     14\u001b[0m \u001b[0;31m#resultGraph.G\u001b[0m\u001b[0;34m\u001b[0m\u001b[0;34m\u001b[0m\u001b[0m\n\u001b[1;32m     15\u001b[0m \u001b[0;31m#resultGraph.get_graph()\u001b[0m\u001b[0;34m\u001b[0m\u001b[0;34m\u001b[0m\u001b[0m\n",
      "\u001b[0;32m/home/ubuntu/git/GraphSearch/backend/lib/ResultGraph.pyc\u001b[0m in \u001b[0;36mget_cy_json\u001b[0;34m(self)\u001b[0m\n\u001b[1;32m     62\u001b[0m                                       \u001b[0;34m'name'\u001b[0m\u001b[0;34m:\u001b[0m \u001b[0mnode\u001b[0m\u001b[0;34m[\u001b[0m\u001b[0;34m'id'\u001b[0m\u001b[0;34m]\u001b[0m\u001b[0;34m,\u001b[0m\u001b[0;34m\u001b[0m\u001b[0m\n\u001b[1;32m     63\u001b[0m                                       \u001b[0;34m'group'\u001b[0m\u001b[0;34m:\u001b[0m\u001b[0mnode\u001b[0m\u001b[0;34m[\u001b[0m\u001b[0;34m'group'\u001b[0m\u001b[0;34m]\u001b[0m\u001b[0;34m,\u001b[0m\u001b[0;34m\u001b[0m\u001b[0m\n\u001b[0;32m---> 64\u001b[0;31m                                       \u001b[0;34m'title'\u001b[0m\u001b[0;34m:\u001b[0m\u001b[0mnode\u001b[0m\u001b[0;34m[\u001b[0m\u001b[0;34m'title'\u001b[0m\u001b[0;34m]\u001b[0m\u001b[0;34m,\u001b[0m\u001b[0;34m\u001b[0m\u001b[0m\n\u001b[0m\u001b[1;32m     65\u001b[0m                                       \u001b[0;34m'journal'\u001b[0m\u001b[0;34m:\u001b[0m\u001b[0mnode\u001b[0m\u001b[0;34m[\u001b[0m\u001b[0;34m'journal'\u001b[0m\u001b[0;34m]\u001b[0m\u001b[0;34m,\u001b[0m\u001b[0;34m\u001b[0m\u001b[0m\n\u001b[1;32m     66\u001b[0m                                       \u001b[0;34m'pubDate'\u001b[0m\u001b[0;34m:\u001b[0m\u001b[0mnode\u001b[0m\u001b[0;34m[\u001b[0m\u001b[0;34m'pubDate'\u001b[0m\u001b[0;34m]\u001b[0m\u001b[0;34m,\u001b[0m\u001b[0;34m\u001b[0m\u001b[0m\n",
      "\u001b[0;31mKeyError\u001b[0m: 'title'"
     ]
    }
   ],
   "source": [
    "import sys\n",
    "sys.path.append('../backend/lib')\n",
    "sys.path.append('../backend')\n",
    "from GraphSession import GraphSession\n",
    "from ResultGraph import ResultGraph\n",
    "from networkx import generate_gml\n",
    "\n",
    "search_input = \"cancer stratton\"\n",
    "graphsession = GraphSession(search_input)\n",
    "citations = graphsession.get_citations_from_fulltext(search_input)\n",
    "resultGraph = ResultGraph()\n",
    "resultGraph.populate_from_cite_dict(citations)\n",
    "resultGraph.get_cy_json()\n",
    "#resultGraph.G\n",
    "#resultGraph.get_graph()\n",
    "#citations"
   ]
  },
  {
   "cell_type": "code",
   "execution_count": 2,
   "metadata": {},
   "outputs": [
    {
     "name": "stderr",
     "output_type": "stream",
     "text": [
      "11/26/2017 10:41:37 AM [INFO]: RequestFullTextSearch: Creating request\n",
      "11/26/2017 10:41:37 AM [INFO]: GraphSession: Search input received: martincorena skin cancer\n",
      "11/26/2017 10:41:37 AM [INFO]: ConnectEutils: Connecting to eutils API:\n",
      " https://eutils.ncbi.nlm.nih.gov/entrez/eutils/esearch.fcgi?db=pmc&tool=graphsearch&sort=relevance&term=martincorena+skin+cancer&retmax=200\n",
      "11/26/2017 10:41:37 AM [INFO]: MongoSession: Mongo db connection successful\n",
      "11/26/2017 10:41:39 AM [INFO]: MongoSession: Mongo db connection successful\n"
     ]
    },
    {
     "data": {
      "text/plain": [
       "'{\"nodes\": [{\"group\": \"Cited\", \"pubDate\": \"Jan 2013\", \"title\": \"Deciphering signatures of mutational processes operative in human cancer.\", \"journal\": \"Cell reports\", \"label\": \"23318258\", \"authors\": \"Alexandrov, Nik-Zainal, Wedge ...\", \"id\": \"23318258\"}, {\"group\": \"Cited\", \"pubDate\": \"Dec 2014\", \"title\": \"Age-related clonal hematopoiesis associated with adverse outcomes.\", \"journal\": \"The New England journal of medicine\", \"label\": \"25426837\", \"authors\": \"Jaiswal, Fontanillas, Flannick ...\", \"id\": \"25426837\"}, {\"group\": \"Cited\", \"pubDate\": \"Jul 2009\", \"title\": \"Fast and accurate short read alignment with Burrows-Wheeler transform.\", \"journal\": \"Bioinformatics (Oxford, England)\", \"label\": \"19451168\", \"authors\": \"Li, Durbin ...\", \"id\": \"19451168\"}, {\"group\": \"Cited\", \"pubDate\": \"Oct 2013\", \"title\": \"The Cancer Genome Atlas Pan-Cancer analysis project.\", \"journal\": \"Nature genetics\", \"label\": \"24071849\", \"authors\": \", Weinstein, Collisson ...\", \"id\": \"24071849\"}, {\"group\": \"Cited\", \"pubDate\": \"Jan 2011\", \"title\": \"Integrative genomics viewer.\", \"journal\": \"Nature biotechnology\", \"label\": \"21221095\", \"authors\": \"Robinson, Thorvaldsd\\\\u00f3ttir, Winckler ...\", \"id\": \"21221095\"}, {\"group\": \"Cited\", \"pubDate\": \"May 2016\", \"title\": \"Landscape of somatic mutations in 560 breast cancer whole-genome sequences.\", \"journal\": \"Nature\", \"label\": \"27135926\", \"authors\": \"Nik-Zainal, Davies, Staaf ...\", \"id\": \"27135926\"}, {\"group\": \"Cited\", \"pubDate\": \"Jul 2015\", \"title\": \"Subclonal diversification of primary breast cancer revealed by multiregion sequencing.\", \"journal\": \"Nature medicine\", \"label\": \"26099045\", \"authors\": \"Yates, Gerstung, Knappskog ...\", \"id\": \"26099045\"}, {\"group\": \"Cited\", \"pubDate\": \"Jan 2010\", \"title\": \"A comprehensive catalogue of somatic mutations from a human cancer genome.\", \"journal\": \"Nature\", \"label\": \"20016485\", \"authors\": \"Pleasance, Cheetham, Stephens ...\", \"id\": \"20016485\"}, {\"group\": \"Searched\", \"pubDate\": \"Mar 2016\", \"title\": \"The landscape of somatic mutations in protein coding genes in apparently benign human tissues carries signatures of relaxed purifying selection.\", \"journal\": \"Nucleic acids research\", \"label\": \"26883632\", \"authors\": \"Yadav, DeGregori, De ...\", \"id\": \"26883632\"}, {\"group\": \"Cited\", \"pubDate\": \"Aug 2009\", \"title\": \"The Sequence Alignment/Map format and SAMtools.\", \"journal\": \"Bioinformatics (Oxford, England)\", \"label\": \"19505943\", \"authors\": \"Li, Handsaker, Wysoker ...\", \"id\": \"19505943\"}, {\"group\": \"Cited\", \"pubDate\": \"Sep 2014\", \"title\": \"Mechanisms underlying mutational signatures in human cancers.\", \"journal\": \"Nature reviews. Genetics\", \"label\": \"24981601\", \"authors\": \"Helleday, Eshtad, Nik-Zainal ...\", \"id\": \"24981601\"}, {\"group\": \"Cited\", \"pubDate\": \"Jan 2014\", \"title\": \"Discovery and saturation analysis of cancer genes across 21 tumour types.\", \"journal\": \"Nature\", \"label\": \"24390350\", \"authors\": \"Lawrence, Stojanov, Mermel ...\", \"id\": \"24390350\"}, {\"group\": \"Cited\", \"pubDate\": \"Jun 2003\", \"title\": \"The pathogenesis of cancer metastasis: the \\'seed and soil\\' hypothesis revisited.\", \"journal\": \"Nature reviews. Cancer\", \"label\": \"12778135\", \"authors\": \"Fidler ...\", \"id\": \"12778135\"}, {\"group\": \"Cited\", \"pubDate\": \"Jan 2010\", \"title\": \"A small-cell lung cancer genome with complex signatures of tobacco exposure.\", \"journal\": \"Nature\", \"label\": \"20016488\", \"authors\": \"Pleasance, Stephens, O\\'Meara ...\", \"id\": \"20016488\"}, {\"group\": \"Cited\", \"pubDate\": \"Nov 2009\", \"title\": \"Pindel: a pattern growth approach to detect break points of large deletions and medium sized insertions from paired-end short reads.\", \"journal\": \"Bioinformatics (Oxford, England)\", \"label\": \"19561018\", \"authors\": \"Ye, Schulz, Long ...\", \"id\": \"19561018\"}, {\"group\": \"Cited\", \"pubDate\": \"Jun 2012\", \"title\": \"Whole-genome analysis informs breast cancer response to aromatase inhibition.\", \"journal\": \"Nature\", \"label\": \"22722193\", \"authors\": \"Ellis, Ding, Shen ...\", \"id\": \"22722193\"}, {\"group\": \"Searched\", \"pubDate\": \" 2013\", \"title\": \"The genetic heterogeneity and mutational burden of engineered melanomas in zebrafish models.\", \"journal\": \"Genome biology\", \"label\": \"24148783\", \"authors\": \"Yen, White, Wedge ...\", \"id\": \"24148783\"}, {\"group\": \"Cited\", \"pubDate\": \"May 2012\", \"title\": \"Melanoma genome sequencing reveals frequent PREX2 mutations.\", \"journal\": \"Nature\", \"label\": \"22622578\", \"authors\": \"Berger, Hodis, Heffernan ...\", \"id\": \"22622578\"}, {\"group\": \"Searched\", \"pubDate\": \"Aug 2016\", \"title\": \"Identification of Circulating Tumor DNA for the Early Detection of Small-cell Lung Cancer.\", \"journal\": \"EBioMedicine\", \"label\": \"27377626\", \"authors\": \"Fernandez-Cuesta, Perdomo, Avogbe ...\", \"id\": \"27377626\"}, {\"group\": \"Cited\", \"pubDate\": \"May 2012\", \"title\": \"Detectable clonal mosaicism and its relationship to aging and cancer.\", \"journal\": \"Nature genetics\", \"label\": \"22561519\", \"authors\": \"Jacobs, Yeager, Zhou ...\", \"id\": \"22561519\"}, {\"group\": \"Searched\", \"pubDate\": \"Oct 2016\", \"title\": \"Epigenetic determinants of metastasis.\", \"journal\": \"Molecular oncology\", \"label\": \"27756687\", \"authors\": \"Patel, Vanharanta ...\", \"id\": \"27756687\"}, {\"group\": \"Cited\", \"pubDate\": \"Oct 2012\", \"title\": \"Comprehensive molecular portraits of human breast tumours.\", \"journal\": \"Nature\", \"label\": \"23000897\", \"authors\": \" ...\", \"id\": \"23000897\"}, {\"group\": \"Cited\", \"pubDate\": \"Aug 2013\", \"title\": \"Signatures of mutational processes in human cancer.\", \"journal\": \"Nature\", \"label\": \"23945592\", \"authors\": \"Alexandrov, Nik-Zainal, Wedge ...\", \"id\": \"23945592\"}, {\"group\": \"Cited\", \"pubDate\": \"May 2015\", \"title\": \"Tumor evolution. High burden and pervasive positive selection of somatic mutations in normal human skin.\", \"journal\": \"Science (New York, N.Y.)\", \"label\": \"25999502\", \"authors\": \"Martincorena, Roshan, Gerstung ...\", \"id\": \"25999502\"}, {\"group\": \"Cited\", \"pubDate\": \"May 2012\", \"title\": \"Mutational processes molding the genomes of 21 breast cancers.\", \"journal\": \"Cell\", \"label\": \"22608084\", \"authors\": \"Nik-Zainal, Alexandrov, Wedge ...\", \"id\": \"22608084\"}, {\"group\": \"Cited\", \"pubDate\": \"May 2012\", \"title\": \"The cBio cancer genomics portal: an open platform for exploring multidimensional cancer genomics data.\", \"journal\": \"Cancer discovery\", \"label\": \"22588877\", \"authors\": \"Cerami, Gao, Dogrusoz ...\", \"id\": \"22588877\"}, {\"group\": \"Cited\", \"pubDate\": \"Nov 2015\", \"title\": \"Genomic Characterization of Brain Metastases Reveals Branched Evolution and Potential Therapeutic Targets.\", \"journal\": \"Cancer discovery\", \"label\": \"26410082\", \"authors\": \"Brastianos, Carter, Santagata ...\", \"id\": \"26410082\"}, {\"group\": \"Searched\", \"pubDate\": \"May 2016\", \"title\": \"Mitochondrial genetic diversity, selection and recombination in a canine transmissible cancer.\", \"journal\": \"eLife\", \"label\": \"27185408\", \"authors\": \"Strakova, N\\\\u00ed Leathlobhair, Wang ...\", \"id\": \"27185408\"}, {\"group\": \"Cited\", \"pubDate\": \"Mar 2013\", \"title\": \"Integrative Genomics Viewer (IGV): high-performance genomics data visualization and exploration.\", \"journal\": \"Briefings in bioinformatics\", \"label\": \"22517427\", \"authors\": \"Thorvaldsd\\\\u00f3ttir, Robinson, Mesirov ...\", \"id\": \"22517427\"}, {\"group\": \"Cited\", \"pubDate\": \"Aug 2006\", \"title\": \"Statistical analysis of pathogenicity of somatic mutations in cancer.\", \"journal\": \"Genetics\", \"label\": \"16783027\", \"authors\": \"Greenman, Wooster, Futreal ...\", \"id\": \"16783027\"}, {\"group\": \"Cited\", \"pubDate\": \"Dec 2014\", \"title\": \"Age-related mutations associated with clonal hematopoietic expansion and malignancies.\", \"journal\": \"Nature medicine\", \"label\": \"25326804\", \"authors\": \"Xie, Lu, Wang ...\", \"id\": \"25326804\"}, {\"group\": \"Cited\", \"pubDate\": \"Apr 2009\", \"title\": \"The cancer genome.\", \"journal\": \"Nature\", \"label\": \"19360079\", \"authors\": \"Stratton, Campbell, Futreal ...\", \"id\": \"19360079\"}, {\"group\": \"Cited\", \"pubDate\": \"Apr 2012\", \"title\": \"The clonal and mutational evolution spectrum of primary triple-negative breast cancers.\", \"journal\": \"Nature\", \"label\": \"22495314\", \"authors\": \"Shah, Roth, Goya ...\", \"id\": \"22495314\"}, {\"group\": \"Cited\", \"pubDate\": \"Feb 2013\", \"title\": \"Highly recurrent TERT promoter mutations in human melanoma.\", \"journal\": \"Science (New York, N.Y.)\", \"label\": \"23348506\", \"authors\": \"Huang, Hodis, Xu ...\", \"id\": \"23348506\"}, {\"group\": \"Cited\", \"pubDate\": \"Feb 2013\", \"title\": \"TERT promoter mutations in familial and sporadic melanoma.\", \"journal\": \"Science (New York, N.Y.)\", \"label\": \"23348503\", \"authors\": \"Horn, Figl, Rachakonda ...\", \"id\": \"23348503\"}, {\"group\": \"Cited\", \"pubDate\": \"Sep 2010\", \"title\": \"Allele-specific copy number analysis of tumors.\", \"journal\": \"Proceedings of the National Academy of Sciences of the United States of America\", \"label\": \"20837533\", \"authors\": \"Van Loo, Nordgard, Lingj\\\\u00e6rde ...\", \"id\": \"20837533\"}, {\"group\": \"Cited\", \"pubDate\": \"Jun 2012\", \"title\": \"Sequence analysis of mutations and translocations across breast cancer subtypes.\", \"journal\": \"Nature\", \"label\": \"22722202\", \"authors\": \"Banerji, Cibulskis, Rangel-Escareno ...\", \"id\": \"22722202\"}, {\"group\": \"Cited\", \"pubDate\": \"May 2012\", \"title\": \"The landscape of cancer genes and mutational processes in breast cancer.\", \"journal\": \"Nature\", \"label\": \"22722201\", \"authors\": \"Stephens, Tarpey, Davies ...\", \"id\": \"22722201\"}, {\"group\": \"Cited\", \"pubDate\": \"May 2012\", \"title\": \"The life history of 21 breast cancers.\", \"journal\": \"Cell\", \"label\": \"22608083\", \"authors\": \"Nik-Zainal, Van Loo, Wedge ...\", \"id\": \"22608083\"}, {\"group\": \"Searched\", \"pubDate\": \" 2016\", \"title\": \"Origin of Cancer: An Information, Energy, and Matter Disease.\", \"journal\": \"Frontiers in cell and developmental biology\", \"label\": \"27909692\", \"authors\": \"Hanselmann, Welter ...\", \"id\": \"27909692\"}, {\"group\": \"Cited\", \"pubDate\": \"Mar 2012\", \"title\": \"VarScan 2: somatic mutation and copy number alteration discovery in cancer by exome sequencing.\", \"journal\": \"Genome research\", \"label\": \"22300766\", \"authors\": \"Koboldt, Zhang, Larson ...\", \"id\": \"22300766\"}, {\"group\": \"Cited\", \"pubDate\": \"Jul 2013\", \"title\": \"Mutational heterogeneity in cancer and the search for new cancer-associated genes.\", \"journal\": \"Nature\", \"label\": \"23770567\", \"authors\": \"Lawrence, Stojanov, Polak ...\", \"id\": \"23770567\"}], \"edges\": [{\"to\": \"27135926\", \"from\": \"23318258\", \"id\": \"23318258_27135926\"}, {\"to\": \"26883632\", \"from\": \"25426837\", \"id\": \"25426837_26883632\"}, {\"to\": \"27377626\", \"from\": \"25426837\", \"id\": \"25426837_27377626\"}, {\"to\": \"27185408\", \"from\": \"19451168\", \"id\": \"19451168_27185408\"}, {\"to\": \"27135926\", \"from\": \"19451168\", \"id\": \"19451168_27135926\"}, {\"to\": \"26883632\", \"from\": \"24071849\", \"id\": \"24071849_26883632\"}, {\"to\": \"27185408\", \"from\": \"21221095\", \"id\": \"21221095_27185408\"}, {\"to\": \"24148783\", \"from\": \"21221095\", \"id\": \"21221095_24148783\"}, {\"to\": \"23945592\", \"from\": \"27135926\", \"id\": \"27135926_23945592\"}, {\"to\": \"20016485\", \"from\": \"27135926\", \"id\": \"27135926_20016485\"}, {\"to\": \"24981601\", \"from\": \"27135926\", \"id\": \"27135926_24981601\"}, {\"to\": \"24390350\", \"from\": \"27135926\", \"id\": \"27135926_24390350\"}, {\"to\": \"22495314\", \"from\": \"27135926\", \"id\": \"27135926_22495314\"}, {\"to\": \"23348506\", \"from\": \"27135926\", \"id\": \"27135926_23348506\"}, {\"to\": \"19360079\", \"from\": \"27135926\", \"id\": \"27135926_19360079\"}, {\"to\": \"20016488\", \"from\": \"27135926\", \"id\": \"27135926_20016488\"}, {\"to\": \"20837533\", \"from\": \"27135926\", \"id\": \"27135926_20837533\"}, {\"to\": \"22722193\", \"from\": \"27135926\", \"id\": \"27135926_22722193\"}, {\"to\": \"22722202\", \"from\": \"27135926\", \"id\": \"27135926_22722202\"}, {\"to\": \"22608084\", \"from\": \"27135926\", \"id\": \"27135926_22608084\"}, {\"to\": \"16783027\", \"from\": \"27135926\", \"id\": \"27135926_16783027\"}, {\"to\": \"23000897\", \"from\": \"27135926\", \"id\": \"27135926_23000897\"}, {\"to\": \"23770567\", \"from\": \"27135926\", \"id\": \"27135926_23770567\"}, {\"to\": \"19561018\", \"from\": \"27135926\", \"id\": \"27135926_19561018\"}, {\"to\": \"22722201\", \"from\": \"27135926\", \"id\": \"27135926_22722201\"}, {\"to\": \"22608083\", \"from\": \"27135926\", \"id\": \"27135926_22608083\"}, {\"to\": \"27756687\", \"from\": \"26099045\", \"id\": \"26099045_27756687\"}, {\"to\": \"25326804\", \"from\": \"26883632\", \"id\": \"26883632_25326804\"}, {\"to\": \"25999502\", \"from\": \"26883632\", \"id\": \"26883632_25999502\"}, {\"to\": \"12778135\", \"from\": \"26883632\", \"id\": \"26883632_12778135\"}, {\"to\": \"23945592\", \"from\": \"26883632\", \"id\": \"26883632_23945592\"}, {\"to\": \"22561519\", \"from\": \"26883632\", \"id\": \"26883632_22561519\"}, {\"to\": \"22300766\", \"from\": \"26883632\", \"id\": \"26883632_22300766\"}, {\"to\": \"27185408\", \"from\": \"19505943\", \"id\": \"19505943_27185408\"}, {\"to\": \"27756687\", \"from\": \"12778135\", \"id\": \"12778135_27756687\"}, {\"to\": \"24148783\", \"from\": \"20016488\", \"id\": \"20016488_24148783\"}, {\"to\": \"24148783\", \"from\": \"19561018\", \"id\": \"19561018_24148783\"}, {\"to\": \"23348506\", \"from\": \"24148783\", \"id\": \"24148783_23348506\"}, {\"to\": \"23348503\", \"from\": \"24148783\", \"id\": \"24148783_23348503\"}, {\"to\": \"22608084\", \"from\": \"24148783\", \"id\": \"24148783_22608084\"}, {\"to\": \"22517427\", \"from\": \"24148783\", \"id\": \"24148783_22517427\"}, {\"to\": \"16783027\", \"from\": \"24148783\", \"id\": \"24148783_16783027\"}, {\"to\": \"22722201\", \"from\": \"24148783\", \"id\": \"24148783_22722201\"}, {\"to\": \"22622578\", \"from\": \"24148783\", \"id\": \"24148783_22622578\"}, {\"to\": \"20837533\", \"from\": \"24148783\", \"id\": \"24148783_20837533\"}, {\"to\": \"25326804\", \"from\": \"27377626\", \"id\": \"27377626_25326804\"}, {\"to\": \"22561519\", \"from\": \"27377626\", \"id\": \"27377626_22561519\"}, {\"to\": \"25999502\", \"from\": \"27756687\", \"id\": \"27756687_25999502\"}, {\"to\": \"22588877\", \"from\": \"27756687\", \"id\": \"27756687_22588877\"}, {\"to\": \"26410082\", \"from\": \"27756687\", \"id\": \"27756687_26410082\"}, {\"to\": \"23000897\", \"from\": \"27756687\", \"id\": \"27756687_23000897\"}, {\"to\": \"27185408\", \"from\": \"23945592\", \"id\": \"23945592_27185408\"}, {\"to\": \"27185408\", \"from\": \"25999502\", \"id\": \"25999502_27185408\"}, {\"to\": \"27909692\", \"from\": \"25999502\", \"id\": \"25999502_27909692\"}, {\"to\": \"27185408\", \"from\": \"22608084\", \"id\": \"22608084_27185408\"}, {\"to\": \"19360079\", \"from\": \"27185408\", \"id\": \"27185408_19360079\"}, {\"to\": \"22517427\", \"from\": \"27185408\", \"id\": \"27185408_22517427\"}]}'"
      ]
     },
     "execution_count": 2,
     "metadata": {},
     "output_type": "execute_result"
    }
   ],
   "source": [
    "import sys\n",
    "sys.path.append('../backend/lib')\n",
    "sys.path.append('../backend')\n",
    "from GraphSession import GraphSession\n",
    "from ResultGraph import ResultGraph\n",
    "from networkx import generate_gml\n",
    "from MongoSession import MongoSession\n",
    "\n",
    "\n",
    "search_input = \"martincorena skin cancer\"\n",
    "graphsession = GraphSession(search_input)\n",
    "#citations = graphsession.get_citations_from_fulltext_mongo(search_input, retmax=10)\n",
    "graphsession.get_cy_json()\n",
    "\n",
    "#print searched_pmc\n",
    "\n",
    "# Query references for the searched_pmc\n",
    "#mg = MongoSession.fromConnectionString()\n",
    "#pmcCursor = mongoSession.findPublicationByPMID(pmid)\n",
    "#pmid_refs = mg.findRefsOfPMC(searched_pmc)\n",
    "#print pmid_refs\n",
    "# Query metadata for all articles\n",
    "\n",
    "#resultGraph = ResultGraph()\n",
    "#resultGraph.populate_from_cite_dict(citations)\n",
    "#print resultGraph.nodeIds\n",
    "#metadataList = graphsession.get_metadataList_from_mongo(resultGraph.nodeIds)\n",
    "#for node in resultGraph.G:\n",
    "#    print (resultGraph.G.node[node]['name'],)\n",
    "#    print [dict['Id'] for dict in metadataList if str(dict['Id']) in (str(resultGraph.G.node[node]['name']),)][0]\n",
    "#    break\n",
    "#print metadataList\n",
    "\n",
    "#resultGraph.add_metadata_to_graph(metadataList)\n",
    "#resultGraph.get_cy_json()\n",
    "#resultGraph.G\n",
    "\n",
    "#resultGraph.G\n",
    "#resultGraph.get_graph()\n",
    "#citations\n",
    "#citations\n",
    "#print len(citations)"
   ]
  },
  {
   "cell_type": "code",
   "execution_count": null,
   "metadata": {
    "collapsed": true
   },
   "outputs": [],
   "source": []
  }
 ],
 "metadata": {
  "kernelspec": {
   "display_name": "Python 2",
   "language": "python",
   "name": "python2"
  },
  "language_info": {
   "codemirror_mode": {
    "name": "ipython",
    "version": 2
   },
   "file_extension": ".py",
   "mimetype": "text/x-python",
   "name": "python",
   "nbconvert_exporter": "python",
   "pygments_lexer": "ipython2",
   "version": "2.7.14"
  }
 },
 "nbformat": 4,
 "nbformat_minor": 2
}
