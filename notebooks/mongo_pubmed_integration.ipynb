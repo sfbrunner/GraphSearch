{
 "cells": [
  {
   "cell_type": "markdown",
   "metadata": {},
   "source": [
    "# Debugging the integration of the Mongo DB containing parsed Pubmed data"
   ]
  },
  {
   "cell_type": "markdown",
   "metadata": {},
   "source": [
    "### Simulate a browser session"
   ]
  },
  {
   "cell_type": "code",
   "execution_count": 2,
   "metadata": {},
   "outputs": [
    {
     "name": "stderr",
     "output_type": "stream",
     "text": [
      "11/25/2017 03:23:33 PM [INFO]: RequestFullTextSearch: Creating request\n",
      "11/25/2017 03:23:33 PM [INFO]: ConnectEutils: Connecting to eutils API:\n",
      " https://eutils.ncbi.nlm.nih.gov/entrez/eutils/esearch.fcgi?db=pmc&tool=graphsearch&sort=relevance&term=cancer+stratton&retmax=20\n",
      "11/25/2017 03:23:33 PM [INFO]: GraphSession: Found 20 primary search results.\n",
      "11/25/2017 03:23:33 PM [INFO]: MongoSession: Mongo db connection successful\n",
      "11/25/2017 03:23:33 PM [INFO]: ConnectEutils: Connecting to eutils API:\n",
      " https://eutils.ncbi.nlm.nih.gov/entrez/eutils/elink.fcgi?dbfrom=pubmed&linkname=pmc_pmc_cites&id=4910866&tool=GraphSearch\n",
      "11/25/2017 03:23:34 PM [INFO]: ConnectEutils: Connecting to eutils API:\n",
      " https://eutils.ncbi.nlm.nih.gov/entrez/eutils/elink.fcgi?dbfrom=pubmed&linkname=pmc_pmc_cites&id=3986385&tool=GraphSearch\n",
      "11/25/2017 03:23:34 PM [INFO]: ConnectEutils: Connecting to eutils API:\n",
      " https://eutils.ncbi.nlm.nih.gov/entrez/eutils/elink.fcgi?dbfrom=pubmed&linkname=pmc_pmc_cites&id=3776390&tool=GraphSearch\n",
      "11/25/2017 03:23:34 PM [INFO]: ConnectEutils: Connecting to eutils API:\n",
      " https://eutils.ncbi.nlm.nih.gov/entrez/eutils/elink.fcgi?dbfrom=pubmed&linkname=pmc_pmc_cites&id=4737860&tool=GraphSearch\n",
      "11/25/2017 03:23:35 PM [INFO]: ConnectEutils: Connecting to eutils API:\n",
      " https://eutils.ncbi.nlm.nih.gov/entrez/eutils/elink.fcgi?dbfrom=pubmed&linkname=pmc_pmc_cites&id=3799979&tool=GraphSearch\n",
      "11/25/2017 03:23:35 PM [INFO]: ConnectEutils: Connecting to eutils API:\n",
      " https://eutils.ncbi.nlm.nih.gov/entrez/eutils/elink.fcgi?dbfrom=pubmed&linkname=pmc_pmc_cites&id=4086804&tool=GraphSearch\n",
      "11/25/2017 03:23:35 PM [INFO]: ConnectEutils: Connecting to eutils API:\n",
      " https://eutils.ncbi.nlm.nih.gov/entrez/eutils/elink.fcgi?dbfrom=pubmed&linkname=pmc_pmc_cites&id=2937541&tool=GraphSearch\n",
      "11/25/2017 03:23:36 PM [INFO]: ConnectEutils: Connecting to eutils API:\n",
      " https://eutils.ncbi.nlm.nih.gov/entrez/eutils/elink.fcgi?dbfrom=pubmed&linkname=pmc_pmc_cites&id=4251960&tool=GraphSearch\n",
      "11/25/2017 03:23:36 PM [INFO]: ConnectEutils: Connecting to eutils API:\n",
      " https://eutils.ncbi.nlm.nih.gov/entrez/eutils/elink.fcgi?dbfrom=pubmed&linkname=pmc_pmc_cites&id=4137149&tool=GraphSearch\n",
      "11/25/2017 03:23:36 PM [INFO]: ConnectEutils: Connecting to eutils API:\n",
      " https://eutils.ncbi.nlm.nih.gov/entrez/eutils/elink.fcgi?dbfrom=pubmed&linkname=pmc_pmc_cites&id=2940121&tool=GraphSearch\n",
      "11/25/2017 03:23:37 PM [INFO]: ConnectEutils: Connecting to eutils API:\n",
      " https://eutils.ncbi.nlm.nih.gov/entrez/eutils/elink.fcgi?dbfrom=pubmed&linkname=pmc_pmc_cites&id=1180332&tool=GraphSearch\n",
      "11/25/2017 03:23:37 PM [INFO]: ConnectEutils: Connecting to eutils API:\n",
      " https://eutils.ncbi.nlm.nih.gov/entrez/eutils/elink.fcgi?dbfrom=pubmed&linkname=pmc_pmc_cites&id=4967469&tool=GraphSearch\n",
      "11/25/2017 03:23:37 PM [INFO]: ConnectEutils: Connecting to eutils API:\n",
      " https://eutils.ncbi.nlm.nih.gov/entrez/eutils/elink.fcgi?dbfrom=pubmed&linkname=pmc_pmc_cites&id=4907859&tool=GraphSearch\n",
      "11/25/2017 03:23:38 PM [INFO]: ConnectEutils: Connecting to eutils API:\n",
      " https://eutils.ncbi.nlm.nih.gov/entrez/eutils/elink.fcgi?dbfrom=pubmed&linkname=pmc_pmc_cites&id=2880489&tool=GraphSearch\n",
      "11/25/2017 03:23:38 PM [INFO]: ConnectEutils: Connecting to eutils API:\n",
      " https://eutils.ncbi.nlm.nih.gov/entrez/eutils/elink.fcgi?dbfrom=pubmed&linkname=pmc_pmc_cites&id=3145117&tool=GraphSearch\n",
      "11/25/2017 03:23:38 PM [INFO]: ConnectEutils: Connecting to eutils API:\n",
      " https://eutils.ncbi.nlm.nih.gov/entrez/eutils/elink.fcgi?dbfrom=pubmed&linkname=pmc_pmc_cites&id=3270887&tool=GraphSearch\n",
      "11/25/2017 03:23:39 PM [INFO]: ConnectEutils: Connecting to eutils API:\n",
      " https://eutils.ncbi.nlm.nih.gov/entrez/eutils/elink.fcgi?dbfrom=pubmed&linkname=pmc_pmc_cites&id=3588146&tool=GraphSearch\n",
      "11/25/2017 03:23:39 PM [INFO]: ConnectEutils: Connecting to eutils API:\n",
      " https://eutils.ncbi.nlm.nih.gov/entrez/eutils/elink.fcgi?dbfrom=pubmed&linkname=pmc_pmc_cites&id=4527537&tool=GraphSearch\n",
      "11/25/2017 03:23:39 PM [INFO]: ConnectEutils: Connecting to eutils API:\n",
      " https://eutils.ncbi.nlm.nih.gov/entrez/eutils/elink.fcgi?dbfrom=pubmed&linkname=pmc_pmc_cites&id=2705832&tool=GraphSearch\n",
      "11/25/2017 03:23:40 PM [INFO]: ConnectEutils: Connecting to eutils API:\n",
      " https://eutils.ncbi.nlm.nih.gov/entrez/eutils/elink.fcgi?dbfrom=pubmed&linkname=pmc_pmc_cites&id=2587392&tool=GraphSearch\n"
     ]
    },
    {
     "ename": "KeyError",
     "evalue": "'title'",
     "output_type": "error",
     "traceback": [
      "\u001b[0;31m---------------------------------------------------------------------------\u001b[0m",
      "\u001b[0;31mKeyError\u001b[0m                                  Traceback (most recent call last)",
      "\u001b[0;32m<ipython-input-2-26152c6b10b5>\u001b[0m in \u001b[0;36m<module>\u001b[0;34m()\u001b[0m\n\u001b[1;32m     11\u001b[0m \u001b[0mresultGraph\u001b[0m \u001b[0;34m=\u001b[0m \u001b[0mResultGraph\u001b[0m\u001b[0;34m(\u001b[0m\u001b[0;34m)\u001b[0m\u001b[0;34m\u001b[0m\u001b[0m\n\u001b[1;32m     12\u001b[0m \u001b[0mresultGraph\u001b[0m\u001b[0;34m.\u001b[0m\u001b[0mpopulate_from_cite_dict\u001b[0m\u001b[0;34m(\u001b[0m\u001b[0mcitations\u001b[0m\u001b[0;34m)\u001b[0m\u001b[0;34m\u001b[0m\u001b[0m\n\u001b[0;32m---> 13\u001b[0;31m \u001b[0mresultGraph\u001b[0m\u001b[0;34m.\u001b[0m\u001b[0mget_cy_json\u001b[0m\u001b[0;34m(\u001b[0m\u001b[0;34m)\u001b[0m\u001b[0;34m\u001b[0m\u001b[0m\n\u001b[0m\u001b[1;32m     14\u001b[0m \u001b[0;31m#resultGraph.G\u001b[0m\u001b[0;34m\u001b[0m\u001b[0;34m\u001b[0m\u001b[0m\n\u001b[1;32m     15\u001b[0m \u001b[0;31m#resultGraph.get_graph()\u001b[0m\u001b[0;34m\u001b[0m\u001b[0;34m\u001b[0m\u001b[0m\n",
      "\u001b[0;32m/home/ubuntu/git/GraphSearch/backend/lib/ResultGraph.pyc\u001b[0m in \u001b[0;36mget_cy_json\u001b[0;34m(self)\u001b[0m\n\u001b[1;32m     62\u001b[0m                                       \u001b[0;34m'name'\u001b[0m\u001b[0;34m:\u001b[0m \u001b[0mnode\u001b[0m\u001b[0;34m[\u001b[0m\u001b[0;34m'id'\u001b[0m\u001b[0;34m]\u001b[0m\u001b[0;34m,\u001b[0m\u001b[0;34m\u001b[0m\u001b[0m\n\u001b[1;32m     63\u001b[0m                                       \u001b[0;34m'group'\u001b[0m\u001b[0;34m:\u001b[0m\u001b[0mnode\u001b[0m\u001b[0;34m[\u001b[0m\u001b[0;34m'group'\u001b[0m\u001b[0;34m]\u001b[0m\u001b[0;34m,\u001b[0m\u001b[0;34m\u001b[0m\u001b[0m\n\u001b[0;32m---> 64\u001b[0;31m                                       \u001b[0;34m'title'\u001b[0m\u001b[0;34m:\u001b[0m\u001b[0mnode\u001b[0m\u001b[0;34m[\u001b[0m\u001b[0;34m'title'\u001b[0m\u001b[0;34m]\u001b[0m\u001b[0;34m,\u001b[0m\u001b[0;34m\u001b[0m\u001b[0m\n\u001b[0m\u001b[1;32m     65\u001b[0m                                       \u001b[0;34m'journal'\u001b[0m\u001b[0;34m:\u001b[0m\u001b[0mnode\u001b[0m\u001b[0;34m[\u001b[0m\u001b[0;34m'journal'\u001b[0m\u001b[0;34m]\u001b[0m\u001b[0;34m,\u001b[0m\u001b[0;34m\u001b[0m\u001b[0m\n\u001b[1;32m     66\u001b[0m                                       \u001b[0;34m'pubDate'\u001b[0m\u001b[0;34m:\u001b[0m\u001b[0mnode\u001b[0m\u001b[0;34m[\u001b[0m\u001b[0;34m'pubDate'\u001b[0m\u001b[0;34m]\u001b[0m\u001b[0;34m,\u001b[0m\u001b[0;34m\u001b[0m\u001b[0m\n",
      "\u001b[0;31mKeyError\u001b[0m: 'title'"
     ]
    }
   ],
   "source": [
    "import sys\n",
    "sys.path.append('../backend/lib')\n",
    "sys.path.append('../backend')\n",
    "from GraphSession import GraphSession\n",
    "from ResultGraph import ResultGraph\n",
    "from networkx import generate_gml\n",
    "\n",
    "search_input = \"cancer stratton\"\n",
    "graphsession = GraphSession(search_input)\n",
    "citations = graphsession.get_citations_from_fulltext(search_input)\n",
    "resultGraph = ResultGraph()\n",
    "resultGraph.populate_from_cite_dict(citations)\n",
    "resultGraph.get_cy_json()\n",
    "#resultGraph.G\n",
    "#resultGraph.get_graph()\n",
    "#citations"
   ]
  },
  {
   "cell_type": "code",
   "execution_count": 1,
   "metadata": {},
   "outputs": [
    {
     "name": "stderr",
     "output_type": "stream",
     "text": [
      "11/26/2017 10:42:25 AM [INFO]: RequestFullTextSearch: Creating request\n",
      "11/26/2017 10:42:25 AM [INFO]: GraphSession: Search input received: martincorena skin cancer stratton\n",
      "11/26/2017 10:42:25 AM [INFO]: ConnectEutils: Connecting to eutils API:\n",
      " https://eutils.ncbi.nlm.nih.gov/entrez/eutils/esearch.fcgi?db=pmc&tool=graphsearch&sort=relevance&term=martincorena+skin+cancer+stratton&retmax=200\n",
      "11/26/2017 10:42:25 AM [INFO]: MongoSession: Mongo db connection successful\n",
      "11/26/2017 10:42:27 AM [INFO]: MongoSession: Mongo db connection successful\n"
     ]
    },
    {
     "data": {
      "text/plain": [
       "'{\"nodes\": [{\"group\": \"Cited\", \"pubDate\": \"Jan 2013\", \"title\": \"Deciphering signatures of mutational processes operative in human cancer.\", \"journal\": \"Cell reports\", \"label\": \"23318258\", \"authors\": \"Alexandrov, Nik-Zainal, Wedge ...\", \"id\": \"23318258\"}, {\"group\": \"Cited\", \"pubDate\": \"May 2015\", \"title\": \"Tumor evolution. High burden and pervasive positive selection of somatic mutations in normal human skin.\", \"journal\": \"Science (New York, N.Y.)\", \"label\": \"25999502\", \"authors\": \"Martincorena, Roshan, Gerstung ...\", \"id\": \"25999502\"}, {\"group\": \"Cited\", \"pubDate\": \"Apr 2009\", \"title\": \"The cancer genome.\", \"journal\": \"Nature\", \"label\": \"19360079\", \"authors\": \"Stratton, Campbell, Futreal ...\", \"id\": \"19360079\"}, {\"group\": \"Cited\", \"pubDate\": \"Jan 2014\", \"title\": \"Discovery and saturation analysis of cancer genes across 21 tumour types.\", \"journal\": \"Nature\", \"label\": \"24390350\", \"authors\": \"Lawrence, Stojanov, Mermel ...\", \"id\": \"24390350\"}, {\"group\": \"Searched\", \"pubDate\": \"May 2016\", \"title\": \"Mitochondrial genetic diversity, selection and recombination in a canine transmissible cancer.\", \"journal\": \"eLife\", \"label\": \"27185408\", \"authors\": \"Strakova, N\\\\u00ed Leathlobhair, Wang ...\", \"id\": \"27185408\"}, {\"group\": \"Cited\", \"pubDate\": \"Apr 2012\", \"title\": \"The clonal and mutational evolution spectrum of primary triple-negative breast cancers.\", \"journal\": \"Nature\", \"label\": \"22495314\", \"authors\": \"Shah, Roth, Goya ...\", \"id\": \"22495314\"}, {\"group\": \"Cited\", \"pubDate\": \"May 2012\", \"title\": \"The landscape of cancer genes and mutational processes in breast cancer.\", \"journal\": \"Nature\", \"label\": \"22722201\", \"authors\": \"Stephens, Tarpey, Davies ...\", \"id\": \"22722201\"}, {\"group\": \"Cited\", \"pubDate\": \"Sep 2010\", \"title\": \"Allele-specific copy number analysis of tumors.\", \"journal\": \"Proceedings of the National Academy of Sciences of the United States of America\", \"label\": \"20837533\", \"authors\": \"Van Loo, Nordgard, Lingj\\\\u00e6rde ...\", \"id\": \"20837533\"}, {\"group\": \"Cited\", \"pubDate\": \"Jun 2012\", \"title\": \"Whole-genome analysis informs breast cancer response to aromatase inhibition.\", \"journal\": \"Nature\", \"label\": \"22722193\", \"authors\": \"Ellis, Ding, Shen ...\", \"id\": \"22722193\"}, {\"group\": \"Cited\", \"pubDate\": \"May 2012\", \"title\": \"Mutational processes molding the genomes of 21 breast cancers.\", \"journal\": \"Cell\", \"label\": \"22608084\", \"authors\": \"Nik-Zainal, Alexandrov, Wedge ...\", \"id\": \"22608084\"}, {\"group\": \"Cited\", \"pubDate\": \"Jul 2009\", \"title\": \"Fast and accurate short read alignment with Burrows-Wheeler transform.\", \"journal\": \"Bioinformatics (Oxford, England)\", \"label\": \"19451168\", \"authors\": \"Li, Durbin ...\", \"id\": \"19451168\"}, {\"group\": \"Cited\", \"pubDate\": \"Oct 2012\", \"title\": \"Comprehensive molecular portraits of human breast tumours.\", \"journal\": \"Nature\", \"label\": \"23000897\", \"authors\": \" ...\", \"id\": \"23000897\"}, {\"group\": \"Cited\", \"pubDate\": \"Aug 2013\", \"title\": \"Signatures of mutational processes in human cancer.\", \"journal\": \"Nature\", \"label\": \"23945592\", \"authors\": \"Alexandrov, Nik-Zainal, Wedge ...\", \"id\": \"23945592\"}, {\"group\": \"Cited\", \"pubDate\": \"Jun 2012\", \"title\": \"Sequence analysis of mutations and translocations across breast cancer subtypes.\", \"journal\": \"Nature\", \"label\": \"22722202\", \"authors\": \"Banerji, Cibulskis, Rangel-Escareno ...\", \"id\": \"22722202\"}, {\"group\": \"Cited\", \"pubDate\": \"May 2016\", \"title\": \"Landscape of somatic mutations in 560 breast cancer whole-genome sequences.\", \"journal\": \"Nature\", \"label\": \"27135926\", \"authors\": \"Nik-Zainal, Davies, Staaf ...\", \"id\": \"27135926\"}, {\"group\": \"Cited\", \"pubDate\": \"May 2012\", \"title\": \"The life history of 21 breast cancers.\", \"journal\": \"Cell\", \"label\": \"22608083\", \"authors\": \"Nik-Zainal, Van Loo, Wedge ...\", \"id\": \"22608083\"}], \"edges\": [{\"source\": \"23318258\", \"label\": \"CITES\", \"id\": \"23318258_27135926\", \"target\": \"27135926\"}, {\"source\": \"25999502\", \"label\": \"CITES\", \"id\": \"25999502_27185408\", \"target\": \"27185408\"}, {\"source\": \"19360079\", \"label\": \"CITES\", \"id\": \"19360079_27185408\", \"target\": \"27185408\"}, {\"source\": \"19360079\", \"label\": \"CITES\", \"id\": \"19360079_27135926\", \"target\": \"27135926\"}, {\"source\": \"24390350\", \"label\": \"CITES\", \"id\": \"24390350_27135926\", \"target\": \"27135926\"}, {\"source\": \"27185408\", \"label\": \"CITES\", \"id\": \"27185408_22608084\", \"target\": \"22608084\"}, {\"source\": \"27185408\", \"label\": \"CITES\", \"id\": \"27185408_19451168\", \"target\": \"19451168\"}, {\"source\": \"27185408\", \"label\": \"CITES\", \"id\": \"27185408_23945592\", \"target\": \"23945592\"}, {\"source\": \"22495314\", \"label\": \"CITES\", \"id\": \"22495314_27135926\", \"target\": \"27135926\"}, {\"source\": \"22722201\", \"label\": \"CITES\", \"id\": \"22722201_27135926\", \"target\": \"27135926\"}, {\"source\": \"20837533\", \"label\": \"CITES\", \"id\": \"20837533_27135926\", \"target\": \"27135926\"}, {\"source\": \"22722193\", \"label\": \"CITES\", \"id\": \"22722193_27135926\", \"target\": \"27135926\"}, {\"source\": \"22608084\", \"label\": \"CITES\", \"id\": \"22608084_27135926\", \"target\": \"27135926\"}, {\"source\": \"19451168\", \"label\": \"CITES\", \"id\": \"19451168_27135926\", \"target\": \"27135926\"}, {\"source\": \"23000897\", \"label\": \"CITES\", \"id\": \"23000897_27135926\", \"target\": \"27135926\"}, {\"source\": \"23945592\", \"label\": \"CITES\", \"id\": \"23945592_27135926\", \"target\": \"27135926\"}, {\"source\": \"22722202\", \"label\": \"CITES\", \"id\": \"22722202_27135926\", \"target\": \"27135926\"}, {\"source\": \"27135926\", \"label\": \"CITES\", \"id\": \"27135926_22608083\", \"target\": \"22608083\"}]}'"
      ]
     },
     "execution_count": 1,
     "metadata": {},
     "output_type": "execute_result"
    }
   ],
   "source": [
    "import sys\n",
    "sys.path.append('../backend/lib')\n",
    "sys.path.append('../backend')\n",
    "from GraphSession import GraphSession\n",
    "from ResultGraph import ResultGraph\n",
    "from networkx import generate_gml\n",
    "from MongoSession import MongoSession\n",
    "\n",
    "\n",
    "search_input = \"martincorena skin cancer stratton\"\n",
    "graphsession = GraphSession(search_input)\n",
    "#citations = graphsession.get_citations_from_fulltext_mongo(search_input, retmax=10)\n",
    "graphsession.get_cy_json()\n",
    "\n",
    "#print searched_pmc\n",
    "\n",
    "# Query references for the searched_pmc\n",
    "#mg = MongoSession.fromConnectionString()\n",
    "#pmcCursor = mongoSession.findPublicationByPMID(pmid)\n",
    "#pmid_refs = mg.findRefsOfPMC(searched_pmc)\n",
    "#print pmid_refs\n",
    "# Query metadata for all articles\n",
    "\n",
    "#resultGraph = ResultGraph()\n",
    "#resultGraph.populate_from_cite_dict(citations)\n",
    "#print resultGraph.nodeIds\n",
    "#metadataList = graphsession.get_metadataList_from_mongo(resultGraph.nodeIds)\n",
    "#for node in resultGraph.G:\n",
    "#    print (resultGraph.G.node[node]['name'],)\n",
    "#    print [dict['Id'] for dict in metadataList if str(dict['Id']) in (str(resultGraph.G.node[node]['name']),)][0]\n",
    "#    break\n",
    "#print metadataList\n",
    "\n",
    "#resultGraph.add_metadata_to_graph(metadataList)\n",
    "#resultGraph.get_cy_json()\n",
    "#resultGraph.G\n",
    "\n",
    "#resultGraph.G\n",
    "#resultGraph.get_graph()\n",
    "#citations\n",
    "#citations\n",
    "#print len(citations)"
   ]
  },
  {
   "cell_type": "code",
   "execution_count": null,
   "metadata": {
    "collapsed": true
   },
   "outputs": [],
   "source": []
  }
 ],
 "metadata": {
  "kernelspec": {
   "display_name": "Python 2",
   "language": "python",
   "name": "python2"
  },
  "language_info": {
   "codemirror_mode": {
    "name": "ipython",
    "version": 2
   },
   "file_extension": ".py",
   "mimetype": "text/x-python",
   "name": "python",
   "nbconvert_exporter": "python",
   "pygments_lexer": "ipython2",
   "version": "2.7.14"
  }
 },
 "nbformat": 4,
 "nbformat_minor": 2
}
