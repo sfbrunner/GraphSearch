{
 "cells": [
  {
   "cell_type": "markdown",
   "metadata": {},
   "source": [
    "## Logging example\n",
    "\n",
    "Here's a simple class LogHandler that allows to create a handle to a customised logging instance using Python's build-in logging module. In this example, the generated handle creates log messages nicely formatted with date and time, as well as specifies the logging level to stdout and disk (file at [fpath]). \n",
    "The class could be extended to allow for more control, such as control over which logging level to use for stdout and disk, as well as control over the logging format.\n",
    "The ideal way to use the logging handle is to log all messages using the same handle, such that they are all written to the same file using the same format. In our code, we should adapt existing classes to be able to use the logging handle generated when the app starts up (or each time that it is called)."
   ]
  },
  {
   "cell_type": "code",
   "execution_count": 1,
   "metadata": {
    "collapsed": true
   },
   "outputs": [],
   "source": [
    "import logging\n",
    "\n",
    "class LogHandler():\n",
    "    '''\n",
    "    Encapsulates behaviour of creatig logging.Logger handles\n",
    "    '''\n",
    "    \n",
    "    @classmethod\n",
    "    def get_logger(self, log_name, fpath):\n",
    "        '''\n",
    "        Returns a logger handle\n",
    "        \n",
    "        Args:\n",
    "        log_name: name of log, can be __name__\n",
    "        fpath: path to log file\n",
    "        '''\n",
    "        \n",
    "        # Initialise logger\n",
    "        logger = logging.getLogger(log_name)\n",
    "        logger.setLevel(logging.DEBUG)\n",
    "        \n",
    "        # Create file handler which logs all messages, including debug level\n",
    "        fh = logging.FileHandler(fpath)\n",
    "        fh.setLevel(logging.DEBUG)\n",
    "        \n",
    "        # Create console handler that only logs at the info level\n",
    "        ch = logging.StreamHandler()\n",
    "        ch.setLevel(logging.INFO)\n",
    "        \n",
    "        # Create formatter and add it to the handlers\n",
    "        formatter = logging.Formatter(fmt='%(asctime)s [%(levelname)s]: %(message)s', datefmt='%m/%d/%Y %I:%M:%S %p')\n",
    "        fh.setFormatter(formatter)\n",
    "        ch.setFormatter(formatter)\n",
    "        \n",
    "        # Add the handlers to the logger\n",
    "        logger.addHandler(fh)\n",
    "        logger.addHandler(ch)\n",
    "        \n",
    "        return logger"
   ]
  },
  {
   "cell_type": "markdown",
   "metadata": {},
   "source": [
    "### Usage example\n",
    "Here's an example for how to instantiate a log handle and use it to write messages. Essentially all functionality provided by Python's logging module is available through the generated handle."
   ]
  },
  {
   "cell_type": "code",
   "execution_count": 2,
   "metadata": {
    "collapsed": false
   },
   "outputs": [
    {
     "name": "stderr",
     "output_type": "stream",
     "text": [
      "05/09/2017 11:25:17 AM [INFO]: Info log event, should be written to path stdout as well as disk.\n"
     ]
    }
   ],
   "source": [
    "log_handle = LogHandler.get_logger('__name__', 'output/log_test.log')\n",
    "\n",
    "log_handle.info('Info log event, should be written to path stdout as well as disk.')\n",
    "log_handle.debug('Debug log event, should be written only to disk.')"
   ]
  }
 ],
 "metadata": {
  "kernelspec": {
   "display_name": "Python 2",
   "language": "python",
   "name": "python2"
  },
  "language_info": {
   "codemirror_mode": {
    "name": "ipython",
    "version": 2
   },
   "file_extension": ".py",
   "mimetype": "text/x-python",
   "name": "python",
   "nbconvert_exporter": "python",
   "pygments_lexer": "ipython2",
   "version": "2.7.12"
  }
 },
 "nbformat": 4,
 "nbformat_minor": 2
}
