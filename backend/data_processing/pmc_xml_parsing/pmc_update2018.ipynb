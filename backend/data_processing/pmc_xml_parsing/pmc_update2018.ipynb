{
 "cells": [
  {
   "cell_type": "markdown",
   "metadata": {},
   "source": [
    "## Steps to update data for 2018 collection"
   ]
  },
  {
   "cell_type": "markdown",
   "metadata": {},
   "source": [
    "### Process PMC output files into single CSV table"
   ]
  },
  {
   "cell_type": "code",
   "execution_count": null,
   "metadata": {
    "collapsed": true
   },
   "outputs": [],
   "source": [
    "import pandas as pd\n",
    "import os, sys\n",
    "\n",
    "def parse_csv_in_directory(dir_name):\n",
    "    parse_output_lst = os.listdir(dir_name)\n",
    "\n",
    "    parsed_files = []\n",
    "    for parse_output in parse_output_lst:\n",
    "        if 'parsed_xml' in parse_output:\n",
    "            parsed_files.append(os.path.join(dir_name, parse_output))\n",
    "\n",
    "    parsed_tables = []\n",
    "    for parse_file in parsed_files:\n",
    "        print parse_file\n",
    "        parsed_tables.append(pd.read_csv(parse_file, skiprows=1, header=None,\n",
    "                                        names=['ref_id','type','article_pmid','article_pmc','article_doi']))\n",
    "    parsed_tbl = pd.concat(parsed_tables)\n",
    "    return parsed_tbl\n",
    "\n",
    "parsed_tbl1 = parse_csv_in_directory('/nfs/team78pc/sb50/gs/pmc/2018/comm/parsed_run1')\n",
    "parsed_tbl2 = parse_csv_in_directory('/nfs/team78pc/sb50/gs/pmc/2018/noncomm/parsed_run1')\n",
    "parsed_tbl = pd.concat([parsed_tbl1, parsed_tbl2])\n",
    "parsed_tbl.to_csv(os.path.join('/nfs/team78pc/sb50/gs/pmc/2018', 'parsed_xml_all.csv'), index=False)"
   ]
  }
 ],
 "metadata": {
  "kernelspec": {
   "display_name": "Python 2",
   "language": "python",
   "name": "python2"
  },
  "language_info": {
   "codemirror_mode": {
    "name": "ipython",
    "version": 2
   },
   "file_extension": ".py",
   "mimetype": "text/x-python",
   "name": "python",
   "nbconvert_exporter": "python",
   "pygments_lexer": "ipython2",
   "version": "2.7.13"
  }
 },
 "nbformat": 4,
 "nbformat_minor": 2
}
